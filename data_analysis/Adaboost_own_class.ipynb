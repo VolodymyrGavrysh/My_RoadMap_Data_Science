{
 "cells": [
  {
   "cell_type": "markdown",
   "metadata": {
    "colab_type": "text",
    "id": "oiayddfYfgbj"
   },
   "source": [
    "# AdaBoost own class implementation\n"
   ]
  },
  {
   "cell_type": "markdown",
   "metadata": {
    "colab_type": "text",
    "id": "ldtHLb-fiJpH"
   },
   "source": [
    "In this task we implement own **AdaBoost** class and investigate its performance solving [Mushroom Data Set\n",
    "](https://archive.ics.uci.edu/ml/datasets/mushroom)"
   ]
  },
  {
   "cell_type": "markdown",
   "metadata": {
    "colab_type": "text",
    "id": "RnM_E808iYdc"
   },
   "source": [
    "## Data Set Information:"
   ]
  },
  {
   "cell_type": "markdown",
   "metadata": {
    "colab_type": "text",
    "id": "lcKC_HA6iGi9"
   },
   "source": [
    "This data set includes descriptions of hypothetical samples corresponding to 23 species of gilled mushrooms in the Agaricus and Lepiota Family (pp. 500-525). Each species is identified as definitely edible, definitely poisonous, or of unknown edibility and not recommended. This latter class was combined with the poisonous one. The Guide clearly states that there is no simple rule for determining the edibility of a mushroom; no rule like ``leaflets three, let it be'' for Poisonous Oak and Ivy.\n",
    "\n",
    "### Attribute Information:\n",
    "\n",
    "1. cap-shape: bell=b,conical=c,convex=x,flat=f, knobbed=k,sunken=s\n",
    "2. cap-surface: fibrous=f,grooves=g,scaly=y,smooth=s\n",
    "3. cap-color: brown=n,buff=b,cinnamon=c,gray=g,green=r, pink=p,purple=u,red=e,white=w,yellow=y\n",
    "4. bruises?: bruises=t,no=f\n",
    "5. odor: almond=a,anise=l,creosote=c,fishy=y,foul=f, musty=m,none=n,pungent=p,spicy=s\n",
    "6. gill-attachment: attached=a,descending=d,free=f,notched=n\n",
    "7. gill-spacing: close=c,crowded=w,distant=d\n",
    "8. gill-size: broad=b,narrow=n\n",
    "9. gill-color: black=k,brown=n,buff=b,chocolate=h,gray=g, green=r,orange=o,pink=p,purple=u,red=e, white=w,yellow=y\n",
    "10. stalk-shape: enlarging=e,tapering=t\n",
    "11. stalk-root: bulbous=b,club=c,cup=u,equal=e, rhizomorphs=z,rooted=r,missing=?\n",
    "12. stalk-surface-above-ring: fibrous=f,scaly=y,silky=k,smooth=s\n",
    "13. stalk-surface-below-ring: fibrous=f,scaly=y,silky=k,smooth=s\n",
    "14. stalk-color-above-ring: brown=n,buff=b,cinnamon=c,gray=g,orange=o, pink=p,red=e,white=w,yellow=y\n",
    "15. stalk-color-below-ring: brown=n,buff=b,cinnamon=c,gray=g,orange=o, pink=p,red=e,white=w,yellow=y\n",
    "16. veil-type: partial=p,universal=u\n",
    "17. veil-color: brown=n,orange=o,white=w,yellow=y\n",
    "18. ring-number: none=n,one=o,two=t\n",
    "19. ring-type: cobwebby=c,evanescent=e,flaring=f,large=l, none=n,pendant=p,sheathing=s,zone=z\n",
    "20. spore-print-color: black=k,brown=n,buff=b,chocolate=h,green=r, orange=o,purple=u,white=w,yellow=y\n",
    "21. population: abundant=a,clustered=c,numerous=n, scattered=s,several=v,solitary=y\n",
    "22. habitat: grasses=g,leaves=l,meadows=m,paths=p, urban=u,waste=w,woods=d"
   ]
  },
  {
   "cell_type": "markdown",
   "metadata": {
    "colab_type": "text",
    "id": "rgsImuK1xlp9"
   },
   "source": [
    "## Plan \n",
    "\n",
    "1. Prepare data from training\n",
    "\n",
    "2. Using `sklearn` implement a single `DecisionTreeClassifier` with depth=1 and estimate its performance on the given `*Mushroom* Data Set`.\n",
    "\n",
    "3. Implement and estimate the performance of `AdaBoost` model using `sklearn` solution. As a base model we use `DecisionTreeClassifier` with depth=1\n",
    "\n",
    "4. Implement own `AdaBoostClassifier` from scratch by following the algorithm pseudocode and compare its performance with the `sklearn` solution:\n",
    "\n",
    "```\n",
    "class AdaBoostClassifier_Sratch():\n",
    "    def __init__(self, base_estimator=None, n_estimators=10):\n",
    "        pass\n",
    "\n",
    "    def fit(self, X, y):\n",
    "        pass\n",
    "\n",
    "    def predict(X):\n",
    "        pass\n",
    "```\n",
    "\n",
    "5. We plot the accuracy of the model against the number of estimators used."
   ]
  },
  {
   "cell_type": "markdown",
   "metadata": {},
   "source": [
    "### Realization"
   ]
  },
  {
   "cell_type": "code",
   "execution_count": 299,
   "metadata": {
    "colab": {
     "base_uri": "https://localhost:8080/",
     "height": 430
    },
    "colab_type": "code",
    "id": "w8Yi6y7bfpT9",
    "outputId": "75a930fd-a68b-48cf-dfd2-761b4417508e"
   },
   "outputs": [
    {
     "data": {
      "text/html": [
       "<div>\n",
       "<style scoped>\n",
       "    .dataframe tbody tr th:only-of-type {\n",
       "        vertical-align: middle;\n",
       "    }\n",
       "\n",
       "    .dataframe tbody tr th {\n",
       "        vertical-align: top;\n",
       "    }\n",
       "\n",
       "    .dataframe thead th {\n",
       "        text-align: right;\n",
       "    }\n",
       "</style>\n",
       "<table border=\"1\" class=\"dataframe\">\n",
       "  <thead>\n",
       "    <tr style=\"text-align: right;\">\n",
       "      <th></th>\n",
       "      <th>target</th>\n",
       "      <th>cap-shape</th>\n",
       "      <th>cap-surface</th>\n",
       "      <th>cap-color</th>\n",
       "      <th>bruises</th>\n",
       "      <th>odor</th>\n",
       "      <th>gill-attachment</th>\n",
       "      <th>gill-spacing</th>\n",
       "      <th>gill-size</th>\n",
       "      <th>gill-color</th>\n",
       "      <th>...</th>\n",
       "      <th>stalk-surface-below-ring</th>\n",
       "      <th>stalk-color-above-ring</th>\n",
       "      <th>stalk-color-below-ring</th>\n",
       "      <th>veil-type</th>\n",
       "      <th>veil-color</th>\n",
       "      <th>ring-number</th>\n",
       "      <th>ring-type</th>\n",
       "      <th>spore-print-color</th>\n",
       "      <th>population</th>\n",
       "      <th>habitat</th>\n",
       "    </tr>\n",
       "  </thead>\n",
       "  <tbody>\n",
       "    <tr>\n",
       "      <th>3076</th>\n",
       "      <td>e</td>\n",
       "      <td>f</td>\n",
       "      <td>f</td>\n",
       "      <td>e</td>\n",
       "      <td>t</td>\n",
       "      <td>n</td>\n",
       "      <td>f</td>\n",
       "      <td>c</td>\n",
       "      <td>b</td>\n",
       "      <td>n</td>\n",
       "      <td>...</td>\n",
       "      <td>s</td>\n",
       "      <td>w</td>\n",
       "      <td>g</td>\n",
       "      <td>p</td>\n",
       "      <td>w</td>\n",
       "      <td>o</td>\n",
       "      <td>p</td>\n",
       "      <td>n</td>\n",
       "      <td>y</td>\n",
       "      <td>d</td>\n",
       "    </tr>\n",
       "    <tr>\n",
       "      <th>4196</th>\n",
       "      <td>p</td>\n",
       "      <td>x</td>\n",
       "      <td>y</td>\n",
       "      <td>n</td>\n",
       "      <td>f</td>\n",
       "      <td>y</td>\n",
       "      <td>f</td>\n",
       "      <td>c</td>\n",
       "      <td>n</td>\n",
       "      <td>b</td>\n",
       "      <td>...</td>\n",
       "      <td>k</td>\n",
       "      <td>p</td>\n",
       "      <td>p</td>\n",
       "      <td>p</td>\n",
       "      <td>w</td>\n",
       "      <td>o</td>\n",
       "      <td>e</td>\n",
       "      <td>w</td>\n",
       "      <td>v</td>\n",
       "      <td>d</td>\n",
       "    </tr>\n",
       "  </tbody>\n",
       "</table>\n",
       "<p>2 rows × 23 columns</p>\n",
       "</div>"
      ],
      "text/plain": [
       "     target cap-shape cap-surface cap-color bruises odor gill-attachment  \\\n",
       "3076      e         f           f         e       t    n               f   \n",
       "4196      p         x           y         n       f    y               f   \n",
       "\n",
       "     gill-spacing gill-size gill-color  ... stalk-surface-below-ring  \\\n",
       "3076            c         b          n  ...                        s   \n",
       "4196            c         n          b  ...                        k   \n",
       "\n",
       "     stalk-color-above-ring stalk-color-below-ring veil-type veil-color  \\\n",
       "3076                      w                      g         p          w   \n",
       "4196                      p                      p         p          w   \n",
       "\n",
       "     ring-number ring-type spore-print-color population habitat  \n",
       "3076           o         p                 n          y       d  \n",
       "4196           o         e                 w          v       d  \n",
       "\n",
       "[2 rows x 23 columns]"
      ]
     },
     "execution_count": 299,
     "metadata": {},
     "output_type": "execute_result"
    }
   ],
   "source": [
    "import numpy as np\n",
    "import matplotlib.pyplot as plt\n",
    "import pandas as pd\n",
    "from sklearn.preprocessing import LabelEncoder\n",
    "from sklearn.model_selection import train_test_split\n",
    "from sklearn.ensemble import AdaBoostClassifier\n",
    "from sklearn.tree import DecisionTreeClassifier\n",
    "from sklearn.metrics import accuracy_score\n",
    "import numpy as np\n",
    "import pandas as pd\n",
    "\n",
    "import collections\n",
    "\n",
    "# Load in the data and define the column labels\n",
    "df = pd.read_csv('https://raw.githubusercontent.com/devrepublik/data-science-course/master/data/AdaBoost/agaricus-lepiota.csv',header=None)\n",
    "df = df.sample(frac=1)\n",
    "df.columns = ['target','cap-shape','cap-surface','cap-color','bruises','odor','gill-attachment','gill-spacing',\n",
    "             'gill-size','gill-color','stalk-shape','stalk-root','stalk-surface-above-ring','stalk-surface-below-ring','stalk-color-above-ring',\n",
    "             'stalk-color-below-ring','veil-type','veil-color','ring-number','ring-type','spore-print-color','population',\n",
    "             'habitat']\n",
    "# set X and y \n",
    "X = df.drop(columns=\"target\") \n",
    "y = df.target\n",
    "df.head(2)"
   ]
  },
  {
   "cell_type": "markdown",
   "metadata": {},
   "source": [
    "### Encode the labels"
   ]
  },
  {
   "cell_type": "code",
   "execution_count": 300,
   "metadata": {},
   "outputs": [
    {
     "data": {
      "text/html": [
       "<div>\n",
       "<style scoped>\n",
       "    .dataframe tbody tr th:only-of-type {\n",
       "        vertical-align: middle;\n",
       "    }\n",
       "\n",
       "    .dataframe tbody tr th {\n",
       "        vertical-align: top;\n",
       "    }\n",
       "\n",
       "    .dataframe thead th {\n",
       "        text-align: right;\n",
       "    }\n",
       "</style>\n",
       "<table border=\"1\" class=\"dataframe\">\n",
       "  <thead>\n",
       "    <tr style=\"text-align: right;\">\n",
       "      <th></th>\n",
       "      <th>target</th>\n",
       "      <th>cap-shape</th>\n",
       "      <th>cap-surface</th>\n",
       "      <th>cap-color</th>\n",
       "      <th>bruises</th>\n",
       "      <th>odor</th>\n",
       "      <th>gill-attachment</th>\n",
       "      <th>gill-spacing</th>\n",
       "      <th>gill-size</th>\n",
       "      <th>gill-color</th>\n",
       "      <th>...</th>\n",
       "      <th>stalk-surface-below-ring</th>\n",
       "      <th>stalk-color-above-ring</th>\n",
       "      <th>stalk-color-below-ring</th>\n",
       "      <th>veil-type</th>\n",
       "      <th>veil-color</th>\n",
       "      <th>ring-number</th>\n",
       "      <th>ring-type</th>\n",
       "      <th>spore-print-color</th>\n",
       "      <th>population</th>\n",
       "      <th>habitat</th>\n",
       "    </tr>\n",
       "  </thead>\n",
       "  <tbody>\n",
       "    <tr>\n",
       "      <th>3076</th>\n",
       "      <td>0</td>\n",
       "      <td>2</td>\n",
       "      <td>0</td>\n",
       "      <td>2</td>\n",
       "      <td>1</td>\n",
       "      <td>5</td>\n",
       "      <td>1</td>\n",
       "      <td>0</td>\n",
       "      <td>0</td>\n",
       "      <td>5</td>\n",
       "      <td>...</td>\n",
       "      <td>2</td>\n",
       "      <td>7</td>\n",
       "      <td>3</td>\n",
       "      <td>0</td>\n",
       "      <td>2</td>\n",
       "      <td>1</td>\n",
       "      <td>4</td>\n",
       "      <td>3</td>\n",
       "      <td>5</td>\n",
       "      <td>0</td>\n",
       "    </tr>\n",
       "    <tr>\n",
       "      <th>4196</th>\n",
       "      <td>1</td>\n",
       "      <td>5</td>\n",
       "      <td>3</td>\n",
       "      <td>4</td>\n",
       "      <td>0</td>\n",
       "      <td>8</td>\n",
       "      <td>1</td>\n",
       "      <td>0</td>\n",
       "      <td>1</td>\n",
       "      <td>0</td>\n",
       "      <td>...</td>\n",
       "      <td>1</td>\n",
       "      <td>6</td>\n",
       "      <td>6</td>\n",
       "      <td>0</td>\n",
       "      <td>2</td>\n",
       "      <td>1</td>\n",
       "      <td>0</td>\n",
       "      <td>7</td>\n",
       "      <td>4</td>\n",
       "      <td>0</td>\n",
       "    </tr>\n",
       "  </tbody>\n",
       "</table>\n",
       "<p>2 rows × 23 columns</p>\n",
       "</div>"
      ],
      "text/plain": [
       "      target  cap-shape  cap-surface  cap-color  bruises  odor  \\\n",
       "3076       0          2            0          2        1     5   \n",
       "4196       1          5            3          4        0     8   \n",
       "\n",
       "      gill-attachment  gill-spacing  gill-size  gill-color  ...  \\\n",
       "3076                1             0          0           5  ...   \n",
       "4196                1             0          1           0  ...   \n",
       "\n",
       "      stalk-surface-below-ring  stalk-color-above-ring  \\\n",
       "3076                         2                       7   \n",
       "4196                         1                       6   \n",
       "\n",
       "      stalk-color-below-ring  veil-type  veil-color  ring-number  ring-type  \\\n",
       "3076                       3          0           2            1          4   \n",
       "4196                       6          0           2            1          0   \n",
       "\n",
       "      spore-print-color  population  habitat  \n",
       "3076                  3           5        0  \n",
       "4196                  7           4        0  \n",
       "\n",
       "[2 rows x 23 columns]"
      ]
     },
     "execution_count": 300,
     "metadata": {},
     "output_type": "execute_result"
    }
   ],
   "source": [
    "encoder_dict = collections.defaultdict(LabelEncoder)\n",
    "labeled_df = df.apply(lambda x: encoder_dict[x.name].fit_transform(x))\n",
    "labeled_df.head(2)"
   ]
  },
  {
   "cell_type": "markdown",
   "metadata": {},
   "source": [
    "### Split on train / test"
   ]
  },
  {
   "cell_type": "code",
   "execution_count": 76,
   "metadata": {},
   "outputs": [],
   "source": [
    "X_train, X_test, y_train, y_test = train_test_split(labeled_df.drop('target', axis=1), labeled_df.target, train_size=0.15, random_state=12)"
   ]
  },
  {
   "cell_type": "markdown",
   "metadata": {},
   "source": [
    "### Check the DT results\n"
   ]
  },
  {
   "cell_type": "code",
   "execution_count": 291,
   "metadata": {},
   "outputs": [
    {
     "data": {
      "text/plain": [
       "'accouracy rate 0.9973935708079931'"
      ]
     },
     "metadata": {},
     "output_type": "display_data"
    }
   ],
   "source": [
    "dt_1 = DecisionTreeClassifier() # Set estimator\n",
    "dt_1.fit(X_train, y_train) # fit\n",
    "display('accouracy rate {}'.format(accuracy_score(y_test, dt_1.predict(X_test)))) # print result"
   ]
  },
  {
   "cell_type": "markdown",
   "metadata": {},
   "source": [
    "### Test AdaBoostClassifier "
   ]
  },
  {
   "cell_type": "code",
   "execution_count": 297,
   "metadata": {},
   "outputs": [
    {
     "data": {
      "text/plain": [
       "'mean accouracy rate for AdaBoostClassifier is 0.9995366348103097'"
      ]
     },
     "metadata": {},
     "output_type": "display_data"
    }
   ],
   "source": [
    "acc = []\n",
    "for i in range(1, 51):\n",
    "    dt_1 = AdaBoostClassifier(base_estimator=DecisionTreeClassifier(), n_estimators=i)\n",
    "    dt_1.fit(X_train, y_train)\n",
    "    acc.append(accuracy_score(y_test, dt_1.predict(X_test)))\n",
    "    \n",
    "display('mean accouracy rate for AdaBoostClassifier is {}'.format(np.mean(acc))) # print result"
   ]
  },
  {
   "cell_type": "markdown",
   "metadata": {},
   "source": [
    "### Own boost class "
   ]
  },
  {
   "cell_type": "code",
   "execution_count": 301,
   "metadata": {
    "colab": {},
    "colab_type": "code",
    "id": "jeYnpyXpfo-6"
   },
   "outputs": [],
   "source": [
    "class DesionTreeClass():\n",
    "    def __init__(self, X_train, X_test, y_train, y_test, n_estimators):\n",
    "        # set initial variables \n",
    "        self.X_train = X_train\n",
    "        self.X_test = X_test\n",
    "        self.y_train = y_train\n",
    "        self.y_test = y_test\n",
    "        self.n_estimators = n_estimators\n",
    "        self.alpha = []\n",
    "        self.models = []\n",
    "        self.accuracy = []\n",
    "        self.predictions = []\n",
    "        \n",
    "    def fit(self):\n",
    "        # make a copy \n",
    "        X = self.X_train\n",
    "        Y = self.y_train.where(self.y_train==1,-1)\n",
    "        # set empty df\n",
    "        weights = pd.DataFrame(Y.copy())\n",
    "        weights['weight'] = 1 / len(X)\n",
    "        # set empty lists\n",
    "        alpha = []\n",
    "        models = []\n",
    "        for i in range(self.n_estimators):\n",
    "            # set model and append \n",
    "            model = DecisionTreeClassifier(criterion='entropy', max_depth=1)\n",
    "            models.append(model)\n",
    "            # fit model with weights\n",
    "            model.fit(X, Y, sample_weight=np.array(weights['weight']))\n",
    "            # get acc\n",
    "            pred = model.predict(X)\n",
    "            # remember results\n",
    "            weights['pred'] = pred\n",
    "            weights['eval'] = np.where(weights['pred'] == weights['target'],1,0)\n",
    "            weights['mis_eval'] = np.where(weights['pred'] != weights['target'],1,0)\n",
    "            # acc rate and error rate\n",
    "            acc__ = sum(weights['eval']) / len(weights['eval'])\n",
    "            miss_eval = sum(weights['mis_eval'] / len(weights['mis_eval']))\n",
    "            err = np.sum(weights['weight'] * weights['mis_eval']) / np.sum(weights['weight'])\n",
    "            # calc alpha and append to list\n",
    "            alpha_ = np.log((1 - err) / err)\n",
    "            alpha.append(alpha_)\n",
    "            # update weights\n",
    "            weights['weight'] *= np.exp(alpha_ * weights['mis_eval'])\n",
    "            \n",
    "        # update the self list of aplha\n",
    "        self.alpha = alpha\n",
    "        self.models = models\n",
    "        \n",
    "        return self\n",
    "    \n",
    "    def predict(self):\n",
    "        # copy data\n",
    "        X = self.X_test\n",
    "        Y = self.y_test.where(self.y_test==1,-1)\n",
    "        # set empty list\n",
    "        predictions = []\n",
    "        # iterate on alphas and models\n",
    "        for i, g in zip(self.alpha, self.models):\n",
    "            # calc predictions with all alpha and models, and append results\n",
    "            pred = i * g.predict(X)\n",
    "            predictions.append(pred)\n",
    "            # update the accuracy \n",
    "            self.accuracy.append(np.sum(np.sign(np.sum(np.array(predictions), axis=0))==Y.values) / len(predictions[0]))\n",
    "        # update class predictions\n",
    "        self.predictions = np.sign(np.sum(np.array(predictions), axis=0))\n",
    "\n",
    "# create class instance with 50 estimators\n",
    "dt = DesionTreeClass(X_train, X_test, y_train, y_test, 50)"
   ]
  },
  {
   "cell_type": "markdown",
   "metadata": {},
   "source": [
    "### Use class to predict with on Train and Test data"
   ]
  },
  {
   "cell_type": "code",
   "execution_count": 302,
   "metadata": {},
   "outputs": [],
   "source": [
    "dt.fit()\n",
    "dt.predict()"
   ]
  },
  {
   "cell_type": "markdown",
   "metadata": {},
   "source": [
    "### Result of own class"
   ]
  },
  {
   "cell_type": "code",
   "execution_count": 304,
   "metadata": {},
   "outputs": [
    {
     "data": {
      "image/png": "[encoded data removed]",
      "text/plain": [
       "<Figure size 360x360 with 1 Axes>"
      ]
     },
     "metadata": {
      "needs_background": "light"
     },
     "output_type": "display_data"
    }
   ],
   "source": [
    "plt.figure(figsize=(5, 5))\n",
    "plt.plot(range(0, 50), dt.accuracy, label='own class')\n",
    "plt.plot(range(0, 50), acc, label='sklearn class')\n",
    "plt.legend()\n",
    "plt.xlabel('number of estimators')\n",
    "plt.ylabel('accouracy')\n",
    "plt.title('Number of estimators and accouracy dynamic')\n",
    "plt.show();"
   ]
  },
  {
   "cell_type": "markdown",
   "metadata": {},
   "source": [
    "### Conclusion"
   ]
  },
  {
   "cell_type": "markdown",
   "metadata": {},
   "source": [
    "After more than 50 estimators own class realization converge with AdaBoostClassifier sklearn class."
   ]
  }
 ],
 "metadata": {
  "colab": {
   "collapsed_sections": [
    "rezcgJyABBtR"
   ],
   "name": "Module 5.4: Boosting, part 1: Adaboost || Exercises.ipynb",
   "provenance": []
  },
  "kernelspec": {
   "display_name": "Python 3",
   "language": "python",
   "name": "python3"
  },
  "language_info": {
   "codemirror_mode": {
    "name": "ipython",
    "version": 3
   },
   "file_extension": ".py",
   "mimetype": "text/x-python",
   "name": "python",
   "nbconvert_exporter": "python",
   "pygments_lexer": "ipython3",
   "version": "3.7.6"
  }
 },
 "nbformat": 4,
 "nbformat_minor": 4
}
