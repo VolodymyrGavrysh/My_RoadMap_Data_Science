{
 "cells": [
  {
   "cell_type": "code",
   "execution_count": 96,
   "metadata": {},
   "outputs": [],
   "source": [
    "import pandas as pd\n",
    "import numpy as np\n",
    "import datetime\n",
    "import matplotlib.pyplot as plt\n",
    "from scipy import stats as st\n",
    "import seaborn as sns"
   ]
  },
  {
   "cell_type": "code",
   "execution_count": 2,
   "metadata": {},
   "outputs": [],
   "source": [
    "data = pd.read_csv('transactions_dataset.csv')"
   ]
  },
  {
   "cell_type": "code",
   "execution_count": 6,
   "metadata": {},
   "outputs": [],
   "source": [
    "data['order_date'] = pd.to_datetime(data['order_date'])"
   ]
  },
  {
   "cell_type": "code",
   "execution_count": 534,
   "metadata": {},
   "outputs": [],
   "source": [
    "del data['Unnamed: 0']"
   ]
  },
  {
   "cell_type": "code",
   "execution_count": 536,
   "metadata": {},
   "outputs": [
    {
     "data": {
      "text/html": [
       "<div>\n",
       "<style scoped>\n",
       "    .dataframe tbody tr th:only-of-type {\n",
       "        vertical-align: middle;\n",
       "    }\n",
       "\n",
       "    .dataframe tbody tr th {\n",
       "        vertical-align: top;\n",
       "    }\n",
       "\n",
       "    .dataframe thead th {\n",
       "        text-align: right;\n",
       "    }\n",
       "</style>\n",
       "<table border=\"1\" class=\"dataframe\">\n",
       "  <thead>\n",
       "    <tr style=\"text-align: right;\">\n",
       "      <th></th>\n",
       "      <th>order_id</th>\n",
       "      <th>customer_id</th>\n",
       "      <th>order_date</th>\n",
       "      <th>is_canceled</th>\n",
       "      <th>number_of_paid_orders_before</th>\n",
       "      <th>date_minus_time</th>\n",
       "    </tr>\n",
       "  </thead>\n",
       "  <tbody>\n",
       "    <tr>\n",
       "      <th>0</th>\n",
       "      <td>0</td>\n",
       "      <td>52285</td>\n",
       "      <td>2016-01-01 00:09:51</td>\n",
       "      <td>0</td>\n",
       "      <td>1</td>\n",
       "      <td>2016-01-01 00:00:00</td>\n",
       "    </tr>\n",
       "    <tr>\n",
       "      <th>1</th>\n",
       "      <td>1</td>\n",
       "      <td>58296</td>\n",
       "      <td>2016-01-01 14:36:14</td>\n",
       "      <td>0</td>\n",
       "      <td>0</td>\n",
       "      <td>2016-01-01 14:00:00</td>\n",
       "    </tr>\n",
       "    <tr>\n",
       "      <th>2</th>\n",
       "      <td>2</td>\n",
       "      <td>30609</td>\n",
       "      <td>2016-01-01 14:47:46</td>\n",
       "      <td>0</td>\n",
       "      <td>2</td>\n",
       "      <td>2016-01-01 14:00:00</td>\n",
       "    </tr>\n",
       "    <tr>\n",
       "      <th>3</th>\n",
       "      <td>3</td>\n",
       "      <td>30256</td>\n",
       "      <td>2016-01-01 15:06:36</td>\n",
       "      <td>0</td>\n",
       "      <td>2</td>\n",
       "      <td>2016-01-01 15:00:00</td>\n",
       "    </tr>\n",
       "    <tr>\n",
       "      <th>4</th>\n",
       "      <td>4</td>\n",
       "      <td>52642</td>\n",
       "      <td>2016-01-01 16:27:37</td>\n",
       "      <td>0</td>\n",
       "      <td>5</td>\n",
       "      <td>2016-01-01 16:00:00</td>\n",
       "    </tr>\n",
       "    <tr>\n",
       "      <th>5</th>\n",
       "      <td>5</td>\n",
       "      <td>56257</td>\n",
       "      <td>2016-01-01 17:14:02</td>\n",
       "      <td>0</td>\n",
       "      <td>5</td>\n",
       "      <td>2016-01-01 17:00:00</td>\n",
       "    </tr>\n",
       "    <tr>\n",
       "      <th>6</th>\n",
       "      <td>6</td>\n",
       "      <td>9948</td>\n",
       "      <td>2016-01-01 18:45:36</td>\n",
       "      <td>0</td>\n",
       "      <td>176</td>\n",
       "      <td>2016-01-01 18:00:00</td>\n",
       "    </tr>\n",
       "    <tr>\n",
       "      <th>7</th>\n",
       "      <td>7</td>\n",
       "      <td>39536</td>\n",
       "      <td>2016-01-01 19:17:55</td>\n",
       "      <td>0</td>\n",
       "      <td>11</td>\n",
       "      <td>2016-01-01 19:00:00</td>\n",
       "    </tr>\n",
       "    <tr>\n",
       "      <th>8</th>\n",
       "      <td>8</td>\n",
       "      <td>26729</td>\n",
       "      <td>2016-01-01 19:47:50</td>\n",
       "      <td>1</td>\n",
       "      <td>72</td>\n",
       "      <td>2016-01-01 19:00:00</td>\n",
       "    </tr>\n",
       "    <tr>\n",
       "      <th>9</th>\n",
       "      <td>9</td>\n",
       "      <td>26729</td>\n",
       "      <td>2016-01-01 20:01:01</td>\n",
       "      <td>1</td>\n",
       "      <td>73</td>\n",
       "      <td>2016-01-01 20:00:00</td>\n",
       "    </tr>\n",
       "    <tr>\n",
       "      <th>10</th>\n",
       "      <td>10</td>\n",
       "      <td>26729</td>\n",
       "      <td>2016-01-01 20:18:43</td>\n",
       "      <td>0</td>\n",
       "      <td>74</td>\n",
       "      <td>2016-01-01 20:00:00</td>\n",
       "    </tr>\n",
       "    <tr>\n",
       "      <th>11</th>\n",
       "      <td>11</td>\n",
       "      <td>33853</td>\n",
       "      <td>2016-01-01 23:31:51</td>\n",
       "      <td>0</td>\n",
       "      <td>25</td>\n",
       "      <td>2016-01-01 23:00:00</td>\n",
       "    </tr>\n",
       "    <tr>\n",
       "      <th>12</th>\n",
       "      <td>12</td>\n",
       "      <td>33853</td>\n",
       "      <td>2016-01-01 23:36:46</td>\n",
       "      <td>0</td>\n",
       "      <td>26</td>\n",
       "      <td>2016-01-01 23:00:00</td>\n",
       "    </tr>\n",
       "    <tr>\n",
       "      <th>13</th>\n",
       "      <td>13</td>\n",
       "      <td>33853</td>\n",
       "      <td>2016-01-01 23:45:58</td>\n",
       "      <td>0</td>\n",
       "      <td>27</td>\n",
       "      <td>2016-01-01 23:00:00</td>\n",
       "    </tr>\n",
       "    <tr>\n",
       "      <th>14</th>\n",
       "      <td>14</td>\n",
       "      <td>17108</td>\n",
       "      <td>2016-01-02 02:35:42</td>\n",
       "      <td>0</td>\n",
       "      <td>1</td>\n",
       "      <td>2016-01-02 02:00:00</td>\n",
       "    </tr>\n",
       "    <tr>\n",
       "      <th>15</th>\n",
       "      <td>15</td>\n",
       "      <td>30755</td>\n",
       "      <td>2016-01-02 04:40:40</td>\n",
       "      <td>0</td>\n",
       "      <td>15</td>\n",
       "      <td>2016-01-02 04:00:00</td>\n",
       "    </tr>\n",
       "    <tr>\n",
       "      <th>16</th>\n",
       "      <td>16</td>\n",
       "      <td>56584</td>\n",
       "      <td>2016-01-02 04:55:32</td>\n",
       "      <td>0</td>\n",
       "      <td>14</td>\n",
       "      <td>2016-01-02 04:00:00</td>\n",
       "    </tr>\n",
       "    <tr>\n",
       "      <th>17</th>\n",
       "      <td>17</td>\n",
       "      <td>37073</td>\n",
       "      <td>2016-01-02 06:37:00</td>\n",
       "      <td>0</td>\n",
       "      <td>78</td>\n",
       "      <td>2016-01-02 06:00:00</td>\n",
       "    </tr>\n",
       "    <tr>\n",
       "      <th>18</th>\n",
       "      <td>18</td>\n",
       "      <td>50166</td>\n",
       "      <td>2016-01-02 12:11:16</td>\n",
       "      <td>0</td>\n",
       "      <td>6</td>\n",
       "      <td>2016-01-02 12:00:00</td>\n",
       "    </tr>\n",
       "    <tr>\n",
       "      <th>19</th>\n",
       "      <td>19</td>\n",
       "      <td>56132</td>\n",
       "      <td>2016-01-02 12:59:55</td>\n",
       "      <td>0</td>\n",
       "      <td>1</td>\n",
       "      <td>2016-01-02 12:00:00</td>\n",
       "    </tr>\n",
       "  </tbody>\n",
       "</table>\n",
       "</div>"
      ],
      "text/plain": [
       "    order_id  customer_id          order_date  is_canceled  \\\n",
       "0          0        52285 2016-01-01 00:09:51            0   \n",
       "1          1        58296 2016-01-01 14:36:14            0   \n",
       "2          2        30609 2016-01-01 14:47:46            0   \n",
       "3          3        30256 2016-01-01 15:06:36            0   \n",
       "4          4        52642 2016-01-01 16:27:37            0   \n",
       "5          5        56257 2016-01-01 17:14:02            0   \n",
       "6          6         9948 2016-01-01 18:45:36            0   \n",
       "7          7        39536 2016-01-01 19:17:55            0   \n",
       "8          8        26729 2016-01-01 19:47:50            1   \n",
       "9          9        26729 2016-01-01 20:01:01            1   \n",
       "10        10        26729 2016-01-01 20:18:43            0   \n",
       "11        11        33853 2016-01-01 23:31:51            0   \n",
       "12        12        33853 2016-01-01 23:36:46            0   \n",
       "13        13        33853 2016-01-01 23:45:58            0   \n",
       "14        14        17108 2016-01-02 02:35:42            0   \n",
       "15        15        30755 2016-01-02 04:40:40            0   \n",
       "16        16        56584 2016-01-02 04:55:32            0   \n",
       "17        17        37073 2016-01-02 06:37:00            0   \n",
       "18        18        50166 2016-01-02 12:11:16            0   \n",
       "19        19        56132 2016-01-02 12:59:55            0   \n",
       "\n",
       "    number_of_paid_orders_before     date_minus_time  \n",
       "0                              1 2016-01-01 00:00:00  \n",
       "1                              0 2016-01-01 14:00:00  \n",
       "2                              2 2016-01-01 14:00:00  \n",
       "3                              2 2016-01-01 15:00:00  \n",
       "4                              5 2016-01-01 16:00:00  \n",
       "5                              5 2016-01-01 17:00:00  \n",
       "6                            176 2016-01-01 18:00:00  \n",
       "7                             11 2016-01-01 19:00:00  \n",
       "8                             72 2016-01-01 19:00:00  \n",
       "9                             73 2016-01-01 20:00:00  \n",
       "10                            74 2016-01-01 20:00:00  \n",
       "11                            25 2016-01-01 23:00:00  \n",
       "12                            26 2016-01-01 23:00:00  \n",
       "13                            27 2016-01-01 23:00:00  \n",
       "14                             1 2016-01-02 02:00:00  \n",
       "15                            15 2016-01-02 04:00:00  \n",
       "16                            14 2016-01-02 04:00:00  \n",
       "17                            78 2016-01-02 06:00:00  \n",
       "18                             6 2016-01-02 12:00:00  \n",
       "19                             1 2016-01-02 12:00:00  "
      ]
     },
     "execution_count": 536,
     "metadata": {},
     "output_type": "execute_result"
    }
   ],
   "source": [
    "data.head(20)"
   ]
  },
  {
   "cell_type": "code",
   "execution_count": 15,
   "metadata": {},
   "outputs": [],
   "source": [
    "data['date_minus_time'] = data[\"order_date\"].apply( lambda df : \n",
    "                                datetime.datetime(year=df.year, month=df.month, day=df.day, hour=df.hour))"
   ]
  },
  {
   "cell_type": "code",
   "execution_count": 382,
   "metadata": {},
   "outputs": [
    {
     "data": {
      "text/plain": [
       "date_minus_time\n",
       "1    1476\n",
       "2    2155\n",
       "3    2369\n",
       "4    3920\n",
       "5    3450\n",
       "6    2684\n",
       "Name: order_id, dtype: int64"
      ]
     },
     "execution_count": 382,
     "metadata": {},
     "output_type": "execute_result"
    }
   ],
   "source": [
    "data.groupby(data['date_minus_time'].dt.month)['order_id'].count()"
   ]
  },
  {
   "cell_type": "code",
   "execution_count": 383,
   "metadata": {},
   "outputs": [
    {
     "data": {
      "text/plain": [
       "<matplotlib.axes._subplots.AxesSubplot at 0x7f050a2a48d0>"
      ]
     },
     "execution_count": 383,
     "metadata": {},
     "output_type": "execute_result"
    },
    {
     "data": {
      "image/png": "[encoded data removed]",
      "text/plain": [
       "<Figure size 432x288 with 1 Axes>"
      ]
     },
     "metadata": {
      "needs_background": "light"
     },
     "output_type": "display_data"
    }
   ],
   "source": [
    "data.groupby(data['date_minus_time'].dt.month)['order_id'].count().plot()"
   ]
  },
  {
   "cell_type": "markdown",
   "metadata": {},
   "source": [
    "##  sales grow from 1 month with trend to continue"
   ]
  },
  {
   "cell_type": "code",
   "execution_count": 384,
   "metadata": {},
   "outputs": [
    {
     "data": {
      "text/plain": [
       "date_minus_time\n",
       "0      868\n",
       "1      987\n",
       "2     1045\n",
       "3      913\n",
       "4      808\n",
       "5      643\n",
       "6      410\n",
       "7      308\n",
       "8      279\n",
       "9      186\n",
       "10     213\n",
       "11     268\n",
       "12     311\n",
       "13     462\n",
       "14     595\n",
       "15     746\n",
       "16     744\n",
       "17     831\n",
       "18     872\n",
       "19     879\n",
       "20     896\n",
       "21     909\n",
       "22     941\n",
       "23     940\n",
       "Name: order_id, dtype: int64"
      ]
     },
     "execution_count": 384,
     "metadata": {},
     "output_type": "execute_result"
    }
   ],
   "source": [
    "data.groupby(data['date_minus_time'].dt.hour)['order_id'].count()"
   ]
  },
  {
   "cell_type": "code",
   "execution_count": 385,
   "metadata": {},
   "outputs": [
    {
     "data": {
      "text/plain": [
       "<matplotlib.axes._subplots.AxesSubplot at 0x7f0509b28f98>"
      ]
     },
     "execution_count": 385,
     "metadata": {},
     "output_type": "execute_result"
    },
    {
     "data": {
      "image/png": "[encoded data removed]",
      "text/plain": [
       "<Figure size 432x288 with 1 Axes>"
      ]
     },
     "metadata": {
      "needs_background": "light"
     },
     "output_type": "display_data"
    }
   ],
   "source": [
    "data.groupby(data['date_minus_time'].dt.hour)['order_id'].count().plot()"
   ]
  },
  {
   "cell_type": "markdown",
   "metadata": {},
   "source": [
    "### we see several peacks and deep drop of the seals "
   ]
  },
  {
   "cell_type": "code",
   "execution_count": 386,
   "metadata": {},
   "outputs": [
    {
     "data": {
      "text/plain": [
       "date_minus_time\n",
       "1      264\n",
       "2      295\n",
       "3      440\n",
       "4      421\n",
       "5      499\n",
       "6      472\n",
       "7      545\n",
       "8      557\n",
       "9      486\n",
       "10     526\n",
       "11     534\n",
       "12     533\n",
       "13     608\n",
       "14     776\n",
       "15     889\n",
       "16    1096\n",
       "17    1076\n",
       "18     952\n",
       "19     803\n",
       "20     720\n",
       "21     629\n",
       "22     694\n",
       "23     725\n",
       "24     582\n",
       "25     546\n",
       "26     330\n",
       "53      56\n",
       "Name: order_id, dtype: int64"
      ]
     },
     "execution_count": 386,
     "metadata": {},
     "output_type": "execute_result"
    }
   ],
   "source": [
    "data.groupby(data['date_minus_time'].dt.week)['order_id'].count()"
   ]
  },
  {
   "cell_type": "code",
   "execution_count": 387,
   "metadata": {},
   "outputs": [
    {
     "data": {
      "text/plain": [
       "<matplotlib.axes._subplots.AxesSubplot at 0x7f05091fe748>"
      ]
     },
     "execution_count": 387,
     "metadata": {},
     "output_type": "execute_result"
    },
    {
     "data": {
      "image/png": "[encoded data removed]",
      "text/plain": [
       "<Figure size 432x288 with 1 Axes>"
      ]
     },
     "metadata": {
      "needs_background": "light"
     },
     "output_type": "display_data"
    }
   ],
   "source": [
    "data.groupby(data['date_minus_time'].dt.week)['order_id'].count().plot()"
   ]
  },
  {
   "cell_type": "markdown",
   "metadata": {},
   "source": [
    "# After peak at fist week and drop mean sales relatively stable"
   ]
  },
  {
   "cell_type": "code",
   "execution_count": 388,
   "metadata": {},
   "outputs": [],
   "source": [
    "new = data[['date_minus_time','number_of_paid_orders_before']]"
   ]
  },
  {
   "cell_type": "code",
   "execution_count": 389,
   "metadata": {},
   "outputs": [],
   "source": [
    "new = new.set_index('date_minus_time')"
   ]
  },
  {
   "cell_type": "code",
   "execution_count": 390,
   "metadata": {},
   "outputs": [],
   "source": [
    "df = pd.DataFrame({'data': data['number_of_paid_orders_before']}, index=data['date_minus_time'])"
   ]
  },
  {
   "cell_type": "code",
   "execution_count": 396,
   "metadata": {},
   "outputs": [
    {
     "name": "stdout",
     "output_type": "stream",
     "text": [
      "[ 0.99729145 -2.1034977   0.28513867 ... -3.2908083  -0.74589037\n",
      " -0.71650275]\n",
      "[1 0 2 ... 3 6 2]\n"
     ]
    }
   ],
   "source": [
    "from statsmodels.tsa.seasonal import seasonal_decompose\n",
    "\n",
    "result = seasonal_decompose(new.number_of_paid_orders_before.values, freq=180, model='additive')\n",
    "\n",
    "print(result.seasonal)\n",
    "print(result.observed)"
   ]
  },
  {
   "cell_type": "code",
   "execution_count": 395,
   "metadata": {},
   "outputs": [
    {
     "data": {
      "text/plain": [
       "<Figure size 1440x1440 with 0 Axes>"
      ]
     },
     "metadata": {},
     "output_type": "display_data"
    },
    {
     "data": {
      "image/png": "[encoded data removed]",
      "text/plain": [
       "<Figure size 432x288 with 4 Axes>"
      ]
     },
     "metadata": {
      "needs_background": "light"
     },
     "output_type": "display_data"
    }
   ],
   "source": [
    "plt.figure(figsize=(20, 20))\n",
    "result.plot()\n",
    "plt.show()"
   ]
  },
  {
   "cell_type": "markdown",
   "metadata": {},
   "source": [
    "#### There is strong trend in the begging of the sales in 6 month period time. Not observed anything in 30 days period\n"
   ]
  },
  {
   "cell_type": "markdown",
   "metadata": {},
   "source": [
    "###     2.1. calculate cancel_rate for the whole dataset. What about standard error, confidence intervalsm"
   ]
  },
  {
   "cell_type": "code",
   "execution_count": 397,
   "metadata": {},
   "outputs": [
    {
     "data": {
      "text/plain": [
       "0.07101034010215522"
      ]
     },
     "execution_count": 397,
     "metadata": {},
     "output_type": "execute_result"
    }
   ],
   "source": [
    "data.is_canceled.mean() # mean cansel rate of whole data"
   ]
  },
  {
   "cell_type": "code",
   "execution_count": 398,
   "metadata": {},
   "outputs": [
    {
     "name": "stdout",
     "output_type": "stream",
     "text": [
      "confidence interval of the mean is from 0.06703700271067727 to 0.07498367749363317 \n",
      " standart error 0.0020270973555418684\n"
     ]
    }
   ],
   "source": [
    "se_ = np.std (data.is_canceled)/ np.sqrt(len(data))\n",
    "\n",
    "mean_ = data.is_canceled.mean()\n",
    "\n",
    "t_score = st.t.ppf(1-0.05/2, len(data) - 1)\n",
    "\n",
    "lower_t = mean_ - t_score * se_\n",
    "upper_t = mean_ + t_score * se_\n",
    "\n",
    "print('confidence interval of the mean is from {} to {} \\n standart error {}'.format(lower_t, upper_t, se_))"
   ]
  },
  {
   "cell_type": "code",
   "execution_count": 399,
   "metadata": {},
   "outputs": [
    {
     "data": {
      "image/png": "[encoded data removed]",
      "text/plain": [
       "<Figure size 1440x720 with 1 Axes>"
      ]
     },
     "metadata": {
      "needs_background": "light"
     },
     "output_type": "display_data"
    }
   ],
   "source": [
    "plt.figure(figsize=(20, 10))\n",
    "sns.distplot(data.is_canceled)\n",
    "plt.axvline(se_, color='green', linestyle='--')\n",
    "plt.axvline(lower_t, color='red')\n",
    "plt.axvline(upper_t, color='black')\n",
    "plt.legend(['lower bound', 'upper bound'])\n",
    "plt.show()"
   ]
  },
  {
   "cell_type": "markdown",
   "metadata": {},
   "source": [
    " # investigate cancel_rate vs number_of_paid_orders_before (number_of_paid_orders_before altering in [0:10] range) – any ideaswhy dependency looks so? What about standard error?"
   ]
  },
  {
   "cell_type": "code",
   "execution_count": 400,
   "metadata": {},
   "outputs": [
    {
     "data": {
      "text/plain": [
       "0.08535606820461385"
      ]
     },
     "execution_count": 400,
     "metadata": {},
     "output_type": "execute_result"
    }
   ],
   "source": [
    "data_f = data[data['number_of_paid_orders_before'] < 10]\n",
    "data_f.is_canceled.mean() # cansel rates for customers that buy less than 10 times"
   ]
  },
  {
   "cell_type": "code",
   "execution_count": 401,
   "metadata": {},
   "outputs": [
    {
     "data": {
      "text/html": [
       "<div>\n",
       "<style scoped>\n",
       "    .dataframe tbody tr th:only-of-type {\n",
       "        vertical-align: middle;\n",
       "    }\n",
       "\n",
       "    .dataframe tbody tr th {\n",
       "        vertical-align: top;\n",
       "    }\n",
       "\n",
       "    .dataframe thead th {\n",
       "        text-align: right;\n",
       "    }\n",
       "</style>\n",
       "<table border=\"1\" class=\"dataframe\">\n",
       "  <thead>\n",
       "    <tr style=\"text-align: right;\">\n",
       "      <th></th>\n",
       "      <th>Unnamed: 0</th>\n",
       "      <th>order_id</th>\n",
       "      <th>customer_id</th>\n",
       "      <th>order_date</th>\n",
       "      <th>is_canceled</th>\n",
       "      <th>number_of_paid_orders_before</th>\n",
       "      <th>date_minus_time</th>\n",
       "    </tr>\n",
       "  </thead>\n",
       "  <tbody>\n",
       "    <tr>\n",
       "      <th>0</th>\n",
       "      <td>0</td>\n",
       "      <td>0</td>\n",
       "      <td>52285</td>\n",
       "      <td>2016-01-01 00:09:51</td>\n",
       "      <td>0</td>\n",
       "      <td>1</td>\n",
       "      <td>2016-01-01 00:00:00</td>\n",
       "    </tr>\n",
       "    <tr>\n",
       "      <th>1</th>\n",
       "      <td>1</td>\n",
       "      <td>1</td>\n",
       "      <td>58296</td>\n",
       "      <td>2016-01-01 14:36:14</td>\n",
       "      <td>0</td>\n",
       "      <td>0</td>\n",
       "      <td>2016-01-01 14:00:00</td>\n",
       "    </tr>\n",
       "    <tr>\n",
       "      <th>2</th>\n",
       "      <td>2</td>\n",
       "      <td>2</td>\n",
       "      <td>30609</td>\n",
       "      <td>2016-01-01 14:47:46</td>\n",
       "      <td>0</td>\n",
       "      <td>2</td>\n",
       "      <td>2016-01-01 14:00:00</td>\n",
       "    </tr>\n",
       "    <tr>\n",
       "      <th>3</th>\n",
       "      <td>3</td>\n",
       "      <td>3</td>\n",
       "      <td>30256</td>\n",
       "      <td>2016-01-01 15:06:36</td>\n",
       "      <td>0</td>\n",
       "      <td>2</td>\n",
       "      <td>2016-01-01 15:00:00</td>\n",
       "    </tr>\n",
       "    <tr>\n",
       "      <th>4</th>\n",
       "      <td>4</td>\n",
       "      <td>4</td>\n",
       "      <td>52642</td>\n",
       "      <td>2016-01-01 16:27:37</td>\n",
       "      <td>0</td>\n",
       "      <td>5</td>\n",
       "      <td>2016-01-01 16:00:00</td>\n",
       "    </tr>\n",
       "  </tbody>\n",
       "</table>\n",
       "</div>"
      ],
      "text/plain": [
       "   Unnamed: 0  order_id  customer_id          order_date  is_canceled  \\\n",
       "0           0         0        52285 2016-01-01 00:09:51            0   \n",
       "1           1         1        58296 2016-01-01 14:36:14            0   \n",
       "2           2         2        30609 2016-01-01 14:47:46            0   \n",
       "3           3         3        30256 2016-01-01 15:06:36            0   \n",
       "4           4         4        52642 2016-01-01 16:27:37            0   \n",
       "\n",
       "   number_of_paid_orders_before     date_minus_time  \n",
       "0                             1 2016-01-01 00:00:00  \n",
       "1                             0 2016-01-01 14:00:00  \n",
       "2                             2 2016-01-01 14:00:00  \n",
       "3                             2 2016-01-01 15:00:00  \n",
       "4                             5 2016-01-01 16:00:00  "
      ]
     },
     "execution_count": 401,
     "metadata": {},
     "output_type": "execute_result"
    }
   ],
   "source": [
    "data_f.head()"
   ]
  },
  {
   "cell_type": "code",
   "execution_count": 413,
   "metadata": {},
   "outputs": [],
   "source": [
    "me = data_f.groupby('number_of_paid_orders_before')['is_canceled'].mean()"
   ]
  },
  {
   "cell_type": "code",
   "execution_count": 422,
   "metadata": {},
   "outputs": [],
   "source": [
    "mean_n = []\n",
    "count_n = []\n",
    "std_error = []\n",
    "mean_cr = np.mean(me)\n",
    "alpha = 0.05\n",
    "t_score = st.t.ppf(1-alpha/2, 9)\n",
    "\n",
    "lower = []\n",
    "upper = []\n",
    "\n",
    "\n",
    "for i in range(0, 10):\n",
    "    df_temp = data_f[data_f['number_of_paid_orders_before'] == i]\n",
    "    mean_n.append(df_temp.is_canceled.mean())\n",
    "    count_n.append(len(df_temp))\n",
    "    std_error.append(df_temp.is_canceled.std()/np.sqrt(len(df_temp)))\n",
    "\n",
    "low = np.array(mean_n) - t_score * np.array(std_error)\n",
    "upp = np.array(mean_n) + t_score * np.array(std_error)"
   ]
  },
  {
   "cell_type": "code",
   "execution_count": 432,
   "metadata": {},
   "outputs": [
    {
     "data": {
      "text/plain": [
       "<matplotlib.collections.PolyCollection at 0x7f050b0b4240>"
      ]
     },
     "execution_count": 432,
     "metadata": {},
     "output_type": "execute_result"
    },
    {
     "data": {
      "image/png": "[encoded data removed]",
      "text/plain": [
       "<Figure size 640x480 with 1 Axes>"
      ]
     },
     "metadata": {},
     "output_type": "display_data"
    }
   ],
   "source": [
    "plt.figure(figsize=(8, 6), dpi=80, facecolor='w', edgecolor='r')    \n",
    "plt.plot(me)\n",
    "plt.title('Cansel rate with CI')\n",
    "plt.xlabel('Months')\n",
    "plt.ylabel('Cansel rate')\n",
    "plt.fill_between(range(0,10), low, upp, edgecolor='none', facecolor='b', alpha=0.2, interpolate=True)"
   ]
  },
  {
   "cell_type": "markdown",
   "metadata": {},
   "source": [
    "#### Cancel rate in month period"
   ]
  },
  {
   "cell_type": "code",
   "execution_count": 239,
   "metadata": {},
   "outputs": [
    {
     "data": {
      "text/plain": [
       "<matplotlib.axes._subplots.AxesSubplot at 0x7f050a085198>"
      ]
     },
     "execution_count": 239,
     "metadata": {},
     "output_type": "execute_result"
    },
    {
     "data": {
      "image/png": "[encoded data removed]",
      "text/plain": [
       "<Figure size 432x288 with 1 Axes>"
      ]
     },
     "metadata": {
      "needs_background": "light"
     },
     "output_type": "display_data"
    }
   ],
   "source": [
    "data.groupby(data['date_minus_time'].dt.month)['is_canceled'].mean().plot()"
   ]
  },
  {
   "cell_type": "markdown",
   "metadata": {},
   "source": [
    "### Investigate time between customer's placed orders– dT (how often does the customer place orders)"
   ]
  },
  {
   "cell_type": "code",
   "execution_count": 257,
   "metadata": {},
   "outputs": [
    {
     "data": {
      "text/html": [
       "<div>\n",
       "<style scoped>\n",
       "    .dataframe tbody tr th:only-of-type {\n",
       "        vertical-align: middle;\n",
       "    }\n",
       "\n",
       "    .dataframe tbody tr th {\n",
       "        vertical-align: top;\n",
       "    }\n",
       "\n",
       "    .dataframe thead th {\n",
       "        text-align: right;\n",
       "    }\n",
       "</style>\n",
       "<table border=\"1\" class=\"dataframe\">\n",
       "  <thead>\n",
       "    <tr style=\"text-align: right;\">\n",
       "      <th></th>\n",
       "      <th>Unnamed: 0</th>\n",
       "      <th>order_id</th>\n",
       "      <th>customer_id</th>\n",
       "      <th>order_date</th>\n",
       "      <th>is_canceled</th>\n",
       "      <th>number_of_paid_orders_before</th>\n",
       "      <th>date_minus_time</th>\n",
       "    </tr>\n",
       "  </thead>\n",
       "  <tbody>\n",
       "    <tr>\n",
       "      <th>0</th>\n",
       "      <td>0</td>\n",
       "      <td>0</td>\n",
       "      <td>52285</td>\n",
       "      <td>2016-01-01 00:09:51</td>\n",
       "      <td>0</td>\n",
       "      <td>1</td>\n",
       "      <td>2016-01-01 00:00:00</td>\n",
       "    </tr>\n",
       "    <tr>\n",
       "      <th>1</th>\n",
       "      <td>1</td>\n",
       "      <td>1</td>\n",
       "      <td>58296</td>\n",
       "      <td>2016-01-01 14:36:14</td>\n",
       "      <td>0</td>\n",
       "      <td>0</td>\n",
       "      <td>2016-01-01 14:00:00</td>\n",
       "    </tr>\n",
       "    <tr>\n",
       "      <th>2</th>\n",
       "      <td>2</td>\n",
       "      <td>2</td>\n",
       "      <td>30609</td>\n",
       "      <td>2016-01-01 14:47:46</td>\n",
       "      <td>0</td>\n",
       "      <td>2</td>\n",
       "      <td>2016-01-01 14:00:00</td>\n",
       "    </tr>\n",
       "    <tr>\n",
       "      <th>3</th>\n",
       "      <td>3</td>\n",
       "      <td>3</td>\n",
       "      <td>30256</td>\n",
       "      <td>2016-01-01 15:06:36</td>\n",
       "      <td>0</td>\n",
       "      <td>2</td>\n",
       "      <td>2016-01-01 15:00:00</td>\n",
       "    </tr>\n",
       "    <tr>\n",
       "      <th>4</th>\n",
       "      <td>4</td>\n",
       "      <td>4</td>\n",
       "      <td>52642</td>\n",
       "      <td>2016-01-01 16:27:37</td>\n",
       "      <td>0</td>\n",
       "      <td>5</td>\n",
       "      <td>2016-01-01 16:00:00</td>\n",
       "    </tr>\n",
       "  </tbody>\n",
       "</table>\n",
       "</div>"
      ],
      "text/plain": [
       "   Unnamed: 0  order_id  customer_id          order_date  is_canceled  \\\n",
       "0           0         0        52285 2016-01-01 00:09:51            0   \n",
       "1           1         1        58296 2016-01-01 14:36:14            0   \n",
       "2           2         2        30609 2016-01-01 14:47:46            0   \n",
       "3           3         3        30256 2016-01-01 15:06:36            0   \n",
       "4           4         4        52642 2016-01-01 16:27:37            0   \n",
       "\n",
       "   number_of_paid_orders_before     date_minus_time  \n",
       "0                             1 2016-01-01 00:00:00  \n",
       "1                             0 2016-01-01 14:00:00  \n",
       "2                             2 2016-01-01 14:00:00  \n",
       "3                             2 2016-01-01 15:00:00  \n",
       "4                             5 2016-01-01 16:00:00  "
      ]
     },
     "execution_count": 257,
     "metadata": {},
     "output_type": "execute_result"
    }
   ],
   "source": [
    "data.head()"
   ]
  },
  {
   "cell_type": "code",
   "execution_count": 433,
   "metadata": {},
   "outputs": [
    {
     "data": {
      "text/plain": [
       "customer_id\n",
       "7939    30\n",
       "7978     1\n",
       "8057     1\n",
       "8088     1\n",
       "8105     3\n",
       "Name: order_id, dtype: int64"
      ]
     },
     "execution_count": 433,
     "metadata": {},
     "output_type": "execute_result"
    }
   ],
   "source": [
    "data.groupby('customer_id')['order_id'].count().head()"
   ]
  },
  {
   "cell_type": "code",
   "execution_count": 675,
   "metadata": {},
   "outputs": [],
   "source": [
    "# df_cst = data[data.customer_id == 7939].copy()\n",
    "# df_cst['time_next'] = df_cst.order_date.diff().shift(-1)\n",
    "\n",
    "df = data.sort_values('order_date')\n",
    "\n",
    "df['time_next'] = df.groupby('customer_id').order_date.transform(lambda x: x.diff().shift(-1))"
   ]
  },
  {
   "cell_type": "code",
   "execution_count": 674,
   "metadata": {},
   "outputs": [
    {
     "name": "stderr",
     "output_type": "stream",
     "text": [
      "/home/volodymyr/anaconda3/lib/python3.7/site-packages/ipykernel_launcher.py:1: FutureWarning: Passing integers to fillna is deprecated, will raise a TypeError in a future version.  To retain the old behavior, pass pd.Timedelta(seconds=n) instead.\n",
      "  \"\"\"Entry point for launching an IPython kernel.\n"
     ]
    }
   ],
   "source": [
    "df.fillna(0, inplace=True)"
   ]
  },
  {
   "cell_type": "code",
   "execution_count": 495,
   "metadata": {},
   "outputs": [],
   "source": [
    "df = df[df['time_next'] != '0 days 00:00:00']"
   ]
  },
  {
   "cell_type": "code",
   "execution_count": 676,
   "metadata": {},
   "outputs": [
    {
     "data": {
      "text/plain": [
       "8.974661544090743"
      ]
     },
     "execution_count": 676,
     "metadata": {},
     "output_type": "execute_result"
    }
   ],
   "source": [
    "df.time_next.dt.days.mean() # mean of the day"
   ]
  },
  {
   "cell_type": "code",
   "execution_count": 677,
   "metadata": {},
   "outputs": [
    {
     "name": "stderr",
     "output_type": "stream",
     "text": [
      "/home/volodymyr/anaconda3/lib/python3.7/site-packages/numpy/lib/histograms.py:824: RuntimeWarning: invalid value encountered in greater_equal\n",
      "  keep = (tmp_a >= first_edge)\n",
      "/home/volodymyr/anaconda3/lib/python3.7/site-packages/numpy/lib/histograms.py:825: RuntimeWarning: invalid value encountered in less_equal\n",
      "  keep &= (tmp_a <= last_edge)\n"
     ]
    },
    {
     "data": {
      "image/png": "[encoded data removed]",
      "text/plain": [
       "<Figure size 432x288 with 1 Axes>"
      ]
     },
     "metadata": {
      "needs_background": "light"
     },
     "output_type": "display_data"
    }
   ],
   "source": [
    "plt.hist(df.time_next.dt.total_seconds() / 3600, bins=50)\n",
    "plt.show()"
   ]
  },
  {
   "cell_type": "code",
   "execution_count": 678,
   "metadata": {},
   "outputs": [
    {
     "data": {
      "text/plain": [
       "Text(0.5, 0, 'orders')"
      ]
     },
     "execution_count": 678,
     "metadata": {},
     "output_type": "execute_result"
    },
    {
     "data": {
      "image/png": "[encoded data removed]",
      "text/plain": [
       "<Figure size 432x288 with 1 Axes>"
      ]
     },
     "metadata": {
      "needs_background": "light"
     },
     "output_type": "display_data"
    }
   ],
   "source": [
    "plt.hist(df.time_next.dt.days)\n",
    "plt.title('Number of days between orders of customers')\n",
    "plt.xlabel('orders')"
   ]
  },
  {
   "cell_type": "code",
   "execution_count": 679,
   "metadata": {},
   "outputs": [
    {
     "data": {
      "text/plain": [
       "0.1           0 days 00:13:08\n",
       "0.2    0 days 00:47:39.600000\n",
       "0.3    0 days 18:46:29.599999\n",
       "0.4           1 days 23:29:49\n",
       "0.5           3 days 19:13:58\n",
       "0.6    6 days 00:01:54.799999\n",
       "0.7    8 days 09:22:18.599999\n",
       "0.9   25 days 01:48:24.099999\n",
       "Name: time_next, dtype: timedelta64[ns]"
      ]
     },
     "execution_count": 679,
     "metadata": {},
     "output_type": "execute_result"
    }
   ],
   "source": [
    "df.time_next.quantile([0.1, 0.2, 0.3, 0.4, 0.5, 0.6, 0.7, 0.9])"
   ]
  },
  {
   "cell_type": "code",
   "execution_count": 680,
   "metadata": {},
   "outputs": [],
   "source": [
    "del df['date_minus_time']"
   ]
  },
  {
   "cell_type": "code",
   "execution_count": 681,
   "metadata": {},
   "outputs": [],
   "source": [
    "df.sort_values('time_next', inplace=True)"
   ]
  },
  {
   "cell_type": "code",
   "execution_count": 682,
   "metadata": {},
   "outputs": [],
   "source": [
    "customers_days = df.groupby('customer_id')['time_next'].sum().sort_values(ascending=False)"
   ]
  },
  {
   "cell_type": "code",
   "execution_count": 683,
   "metadata": {},
   "outputs": [
    {
     "data": {
      "text/plain": [
       "0.1           0 days 00:00:00\n",
       "0.2           0 days 00:00:00\n",
       "0.3           0 days 00:00:00\n",
       "0.4           0 days 00:00:00\n",
       "0.5           0 days 00:00:00\n",
       "0.6    0 days 17:37:01.999999\n",
       "0.7   10 days 21:08:32.300000\n",
       "0.9   80 days 05:15:55.800000\n",
       "Name: time_next, dtype: timedelta64[ns]"
      ]
     },
     "execution_count": 683,
     "metadata": {},
     "output_type": "execute_result"
    }
   ],
   "source": [
    "customers_days.quantile([0.1, 0.2, 0.3, 0.4, 0.5, 0.6, 0.7, 0.9])"
   ]
  },
  {
   "cell_type": "markdown",
   "metadata": {},
   "source": [
    "#### 3.2. compare retention time period for FCO (1st customer’s order) vs not FCO (2nd customer’s order and more)"
   ]
  },
  {
   "cell_type": "code",
   "execution_count": 684,
   "metadata": {},
   "outputs": [
    {
     "data": {
      "text/plain": [
       "time_next  customer_id\n",
       "00:05:34   51721          2\n",
       "00:01:48   22814          2\n",
       "00:03:07   22814          2\n",
       "00:06:02   52363          2\n",
       "00:06:24   33853          2\n",
       "Name: customer_id, dtype: int64"
      ]
     },
     "execution_count": 684,
     "metadata": {},
     "output_type": "execute_result"
    }
   ],
   "source": [
    "df.groupby('time_next')['customer_id'].value_counts().sort_values(ascending=False).head()"
   ]
  },
  {
   "cell_type": "code",
   "execution_count": 685,
   "metadata": {},
   "outputs": [
    {
     "data": {
      "text/plain": [
       "datetime.timedelta(seconds=3600)"
      ]
     },
     "execution_count": 685,
     "metadata": {},
     "output_type": "execute_result"
    }
   ],
   "source": [
    "import datetime\n",
    "dt_mult = datetime.timedelta(hours=1)\n",
    "dt_mult"
   ]
  },
  {
   "cell_type": "code",
   "execution_count": 686,
   "metadata": {},
   "outputs": [
    {
     "data": {
      "text/plain": [
       "0.14239441883642706"
      ]
     },
     "execution_count": 686,
     "metadata": {},
     "output_type": "execute_result"
    }
   ],
   "source": [
    "(dt_mult > df.time_next).mean()"
   ]
  },
  {
   "cell_type": "code",
   "execution_count": 687,
   "metadata": {},
   "outputs": [],
   "source": [
    "from scipy.stats import ttest_ind"
   ]
  },
  {
   "cell_type": "code",
   "execution_count": 688,
   "metadata": {},
   "outputs": [
    {
     "data": {
      "text/plain": [
       "Ttest_indResult(statistic=-12.29627750876382, pvalue=2.8304097694236053e-34)"
      ]
     },
     "execution_count": 688,
     "metadata": {},
     "output_type": "execute_result"
    }
   ],
   "source": [
    "data1 = df[df.number_of_paid_orders_before == 0].time_next.astype(int)\n",
    "data2 = df[df.number_of_paid_orders_before == 1].time_next.astype(int)\n",
    "\n",
    "ttest_ind(data1, data2, nan_policy='omit')"
   ]
  },
  {
   "cell_type": "code",
   "execution_count": null,
   "metadata": {},
   "outputs": [],
   "source": []
  },
  {
   "cell_type": "code",
   "execution_count": 689,
   "metadata": {},
   "outputs": [
    {
     "data": {
      "text/html": [
       "<div>\n",
       "<style scoped>\n",
       "    .dataframe tbody tr th:only-of-type {\n",
       "        vertical-align: middle;\n",
       "    }\n",
       "\n",
       "    .dataframe tbody tr th {\n",
       "        vertical-align: top;\n",
       "    }\n",
       "\n",
       "    .dataframe thead th {\n",
       "        text-align: right;\n",
       "    }\n",
       "</style>\n",
       "<table border=\"1\" class=\"dataframe\">\n",
       "  <thead>\n",
       "    <tr style=\"text-align: right;\">\n",
       "      <th></th>\n",
       "      <th>order_id</th>\n",
       "      <th>customer_id</th>\n",
       "      <th>order_date</th>\n",
       "      <th>is_canceled</th>\n",
       "      <th>number_of_paid_orders_before</th>\n",
       "      <th>time_next</th>\n",
       "    </tr>\n",
       "  </thead>\n",
       "  <tbody>\n",
       "    <tr>\n",
       "      <th>852</th>\n",
       "      <td>852</td>\n",
       "      <td>35435</td>\n",
       "      <td>2016-01-21 15:05:29</td>\n",
       "      <td>0</td>\n",
       "      <td>13</td>\n",
       "      <td>00:00:04</td>\n",
       "    </tr>\n",
       "    <tr>\n",
       "      <th>851</th>\n",
       "      <td>851</td>\n",
       "      <td>35435</td>\n",
       "      <td>2016-01-21 15:05:23</td>\n",
       "      <td>0</td>\n",
       "      <td>12</td>\n",
       "      <td>00:00:06</td>\n",
       "    </tr>\n",
       "    <tr>\n",
       "      <th>8348</th>\n",
       "      <td>8348</td>\n",
       "      <td>45004</td>\n",
       "      <td>2016-04-20 12:35:50</td>\n",
       "      <td>0</td>\n",
       "      <td>108</td>\n",
       "      <td>00:00:13</td>\n",
       "    </tr>\n",
       "    <tr>\n",
       "      <th>5883</th>\n",
       "      <td>5883</td>\n",
       "      <td>61188</td>\n",
       "      <td>2016-03-30 21:00:39</td>\n",
       "      <td>0</td>\n",
       "      <td>25</td>\n",
       "      <td>00:00:20</td>\n",
       "    </tr>\n",
       "    <tr>\n",
       "      <th>5884</th>\n",
       "      <td>5884</td>\n",
       "      <td>61188</td>\n",
       "      <td>2016-03-30 21:00:59</td>\n",
       "      <td>0</td>\n",
       "      <td>26</td>\n",
       "      <td>00:00:20</td>\n",
       "    </tr>\n",
       "  </tbody>\n",
       "</table>\n",
       "</div>"
      ],
      "text/plain": [
       "      order_id  customer_id          order_date  is_canceled  \\\n",
       "852        852        35435 2016-01-21 15:05:29            0   \n",
       "851        851        35435 2016-01-21 15:05:23            0   \n",
       "8348      8348        45004 2016-04-20 12:35:50            0   \n",
       "5883      5883        61188 2016-03-30 21:00:39            0   \n",
       "5884      5884        61188 2016-03-30 21:00:59            0   \n",
       "\n",
       "      number_of_paid_orders_before time_next  \n",
       "852                             13  00:00:04  \n",
       "851                             12  00:00:06  \n",
       "8348                           108  00:00:13  \n",
       "5883                            25  00:00:20  \n",
       "5884                            26  00:00:20  "
      ]
     },
     "execution_count": 689,
     "metadata": {},
     "output_type": "execute_result"
    }
   ],
   "source": [
    "df.head()"
   ]
  },
  {
   "cell_type": "code",
   "execution_count": 690,
   "metadata": {},
   "outputs": [
    {
     "data": {
      "text/plain": [
       "Timedelta('9 days 20:18:00.540519')"
      ]
     },
     "execution_count": 690,
     "metadata": {},
     "output_type": "execute_result"
    }
   ],
   "source": [
    "df[df.number_of_paid_orders_before == 0].time_next.mean() # People who buy first comes after 12 days"
   ]
  },
  {
   "cell_type": "code",
   "execution_count": 691,
   "metadata": {},
   "outputs": [
    {
     "data": {
      "text/plain": [
       "Timedelta('11 days 03:20:47.345294')"
      ]
     },
     "execution_count": 691,
     "metadata": {},
     "output_type": "execute_result"
    }
   ],
   "source": [
    "df[df.number_of_paid_orders_before <= 2].time_next.mean() #  After 11 days they buy second item"
   ]
  },
  {
   "cell_type": "markdown",
   "metadata": {},
   "source": [
    "#### 3.3. investigate what is the fraction of ‘multi-orders’ for which the time between two sequential orders < dT_multi, and it is short enough to consider two orders to be placed simultaneously. What dT_multi would would you choose and why?    T"
   ]
  },
  {
   "cell_type": "code",
   "execution_count": 692,
   "metadata": {},
   "outputs": [],
   "source": [
    "df = df.set_index('order_date')"
   ]
  },
  {
   "cell_type": "code",
   "execution_count": 693,
   "metadata": {},
   "outputs": [],
   "source": [
    "df['dT_multi'] = df.time_next.transform(lambda x: x.diff().shift(-1))"
   ]
  },
  {
   "cell_type": "code",
   "execution_count": 694,
   "metadata": {},
   "outputs": [
    {
     "data": {
      "text/html": [
       "<div>\n",
       "<style scoped>\n",
       "    .dataframe tbody tr th:only-of-type {\n",
       "        vertical-align: middle;\n",
       "    }\n",
       "\n",
       "    .dataframe tbody tr th {\n",
       "        vertical-align: top;\n",
       "    }\n",
       "\n",
       "    .dataframe thead th {\n",
       "        text-align: right;\n",
       "    }\n",
       "</style>\n",
       "<table border=\"1\" class=\"dataframe\">\n",
       "  <thead>\n",
       "    <tr style=\"text-align: right;\">\n",
       "      <th></th>\n",
       "      <th>order_id</th>\n",
       "      <th>customer_id</th>\n",
       "      <th>is_canceled</th>\n",
       "      <th>number_of_paid_orders_before</th>\n",
       "      <th>time_next</th>\n",
       "      <th>dT_multi</th>\n",
       "    </tr>\n",
       "    <tr>\n",
       "      <th>order_date</th>\n",
       "      <th></th>\n",
       "      <th></th>\n",
       "      <th></th>\n",
       "      <th></th>\n",
       "      <th></th>\n",
       "      <th></th>\n",
       "    </tr>\n",
       "  </thead>\n",
       "  <tbody>\n",
       "    <tr>\n",
       "      <th>2016-01-21 15:05:29</th>\n",
       "      <td>852</td>\n",
       "      <td>35435</td>\n",
       "      <td>0</td>\n",
       "      <td>13</td>\n",
       "      <td>00:00:04</td>\n",
       "      <td>00:00:02</td>\n",
       "    </tr>\n",
       "    <tr>\n",
       "      <th>2016-01-21 15:05:23</th>\n",
       "      <td>851</td>\n",
       "      <td>35435</td>\n",
       "      <td>0</td>\n",
       "      <td>12</td>\n",
       "      <td>00:00:06</td>\n",
       "      <td>00:00:07</td>\n",
       "    </tr>\n",
       "    <tr>\n",
       "      <th>2016-04-20 12:35:50</th>\n",
       "      <td>8348</td>\n",
       "      <td>45004</td>\n",
       "      <td>0</td>\n",
       "      <td>108</td>\n",
       "      <td>00:00:13</td>\n",
       "      <td>00:00:07</td>\n",
       "    </tr>\n",
       "    <tr>\n",
       "      <th>2016-03-30 21:00:39</th>\n",
       "      <td>5883</td>\n",
       "      <td>61188</td>\n",
       "      <td>0</td>\n",
       "      <td>25</td>\n",
       "      <td>00:00:20</td>\n",
       "      <td>00:00:00</td>\n",
       "    </tr>\n",
       "    <tr>\n",
       "      <th>2016-03-30 21:00:59</th>\n",
       "      <td>5884</td>\n",
       "      <td>61188</td>\n",
       "      <td>0</td>\n",
       "      <td>26</td>\n",
       "      <td>00:00:20</td>\n",
       "      <td>00:00:02</td>\n",
       "    </tr>\n",
       "  </tbody>\n",
       "</table>\n",
       "</div>"
      ],
      "text/plain": [
       "                     order_id  customer_id  is_canceled  \\\n",
       "order_date                                                \n",
       "2016-01-21 15:05:29       852        35435            0   \n",
       "2016-01-21 15:05:23       851        35435            0   \n",
       "2016-04-20 12:35:50      8348        45004            0   \n",
       "2016-03-30 21:00:39      5883        61188            0   \n",
       "2016-03-30 21:00:59      5884        61188            0   \n",
       "\n",
       "                     number_of_paid_orders_before time_next dT_multi  \n",
       "order_date                                                            \n",
       "2016-01-21 15:05:29                            13  00:00:04 00:00:02  \n",
       "2016-01-21 15:05:23                            12  00:00:06 00:00:07  \n",
       "2016-04-20 12:35:50                           108  00:00:13 00:00:07  \n",
       "2016-03-30 21:00:39                            25  00:00:20 00:00:00  \n",
       "2016-03-30 21:00:59                            26  00:00:20 00:00:02  "
      ]
     },
     "execution_count": 694,
     "metadata": {},
     "output_type": "execute_result"
    }
   ],
   "source": [
    "df.head()"
   ]
  },
  {
   "cell_type": "code",
   "execution_count": 695,
   "metadata": {},
   "outputs": [
    {
     "data": {
      "text/plain": [
       "Text(0, 0.5, '# hours')"
      ]
     },
     "execution_count": 695,
     "metadata": {},
     "output_type": "execute_result"
    },
    {
     "data": {
      "image/png": "[encoded data removed]",
      "text/plain": [
       "<Figure size 432x288 with 1 Axes>"
      ]
     },
     "metadata": {
      "needs_background": "light"
     },
     "output_type": "display_data"
    }
   ],
   "source": [
    "df['dT_multi'].quantile([0.1, 0.2, 0.3, 0.4, 0.5, 0.6, 0.7, 0.9]).plot()\n",
    "plt.xlabel('quantiles')\n",
    "plt.ylabel('# hours')"
   ]
  },
  {
   "cell_type": "markdown",
   "metadata": {},
   "source": [
    "### We can count 0.2 sec as time after we may consider a not simultanious order"
   ]
  },
  {
   "cell_type": "markdown",
   "metadata": {},
   "source": [
    "4. Investigate customer retention_rate: % of customers who return after completing an order"
   ]
  },
  {
   "cell_type": "code",
   "execution_count": 698,
   "metadata": {},
   "outputs": [
    {
     "data": {
      "text/plain": [
       "0.2924885274937606"
      ]
     },
     "execution_count": 698,
     "metadata": {},
     "output_type": "execute_result"
    }
   ],
   "source": [
    "len(df[df.number_of_paid_orders_before == 0]) / len(df[df.number_of_paid_orders_before > 0])"
   ]
  },
  {
   "cell_type": "code",
   "execution_count": 699,
   "metadata": {},
   "outputs": [],
   "source": [
    "df.reset_index(inplace=True)"
   ]
  },
  {
   "cell_type": "code",
   "execution_count": 700,
   "metadata": {},
   "outputs": [],
   "source": [
    "dt_loss = datetime.timedelta(days=30)"
   ]
  },
  {
   "cell_type": "code",
   "execution_count": 701,
   "metadata": {},
   "outputs": [],
   "source": [
    "df['returned_after'] = 0"
   ]
  },
  {
   "cell_type": "code",
   "execution_count": 702,
   "metadata": {},
   "outputs": [],
   "source": [
    "df.loc[df.time_next < dt_loss, 'returned_after'] = 1"
   ]
  },
  {
   "cell_type": "code",
   "execution_count": 705,
   "metadata": {},
   "outputs": [
    {
     "data": {
      "text/plain": [
       "0.6282546405880155"
      ]
     },
     "execution_count": 705,
     "metadata": {},
     "output_type": "execute_result"
    }
   ],
   "source": [
    "df.returned_after.mean()"
   ]
  },
  {
   "cell_type": "code",
   "execution_count": 713,
   "metadata": {},
   "outputs": [
    {
     "name": "stdout",
     "output_type": "stream",
     "text": [
      "0.047805794663911653\n"
     ]
    }
   ],
   "source": [
    "mask = (df.is_canceled == 1)\n",
    "\n",
    "_, pvalue = ttest_ind(df[mask].returned_after, df[~mask].returned_after, nan_policy='omit')\n",
    "\n",
    "pvalue /=2\n",
    "\n",
    "print(pvalue) # less than 0.05 - so it is stat sagnificant"
   ]
  },
  {
   "cell_type": "code",
   "execution_count": 714,
   "metadata": {},
   "outputs": [
    {
     "data": {
      "text/plain": [
       "(0.6052631578947368, 0.6300120691967279)"
      ]
     },
     "execution_count": 714,
     "metadata": {},
     "output_type": "execute_result"
    }
   ],
   "source": [
    "df[mask].returned_after.mean(), df[~mask].returned_after.mean() # мі проверяем "
   ]
  },
  {
   "cell_type": "code",
   "execution_count": 715,
   "metadata": {},
   "outputs": [],
   "source": [
    "mask_1 = (df.number_of_paid_orders_before <= 1)"
   ]
  },
  {
   "cell_type": "code",
   "execution_count": null,
   "metadata": {},
   "outputs": [],
   "source": [
    "df[mask_1 & mask]"
   ]
  },
  {
   "cell_type": "code",
   "execution_count": null,
   "metadata": {},
   "outputs": [],
   "source": []
  },
  {
   "cell_type": "code",
   "execution_count": 720,
   "metadata": {},
   "outputs": [
    {
     "data": {
      "text/plain": [
       "0.13157894736842105"
      ]
     },
     "execution_count": 720,
     "metadata": {},
     "output_type": "execute_result"
    }
   ],
   "source": [
    "(df[mask].time_next < dt_mult).mean() # проверяем причины возврата товара и возможной новой покупки "
   ]
  },
  {
   "cell_type": "code",
   "execution_count": 717,
   "metadata": {},
   "outputs": [
    {
     "data": {
      "text/plain": [
       "0.14322113450449242"
      ]
     },
     "execution_count": 717,
     "metadata": {},
     "output_type": "execute_result"
    }
   ],
   "source": [
    "(df[~mask].time_next < dt_mult).mean()"
   ]
  },
  {
   "cell_type": "code",
   "execution_count": 721,
   "metadata": {},
   "outputs": [
    {
     "data": {
      "text/plain": [
       "Timedelta('1 days 12:37:07')"
      ]
     },
     "execution_count": 721,
     "metadata": {},
     "output_type": "execute_result"
    }
   ],
   "source": [
    "df[mask].time_next.median()"
   ]
  },
  {
   "cell_type": "code",
   "execution_count": 722,
   "metadata": {},
   "outputs": [
    {
     "data": {
      "text/plain": [
       "Timedelta('3 days 23:29:22.500000')"
      ]
     },
     "execution_count": 722,
     "metadata": {},
     "output_type": "execute_result"
    }
   ],
   "source": [
    "df[~mask].time_next.median()"
   ]
  },
  {
   "cell_type": "code",
   "execution_count": null,
   "metadata": {},
   "outputs": [],
   "source": []
  }
 ],
 "metadata": {
  "kernelspec": {
   "display_name": "Python 3",
   "language": "python",
   "name": "python3"
  },
  "language_info": {
   "codemirror_mode": {
    "name": "ipython",
    "version": 3
   },
   "file_extension": ".py",
   "mimetype": "text/x-python",
   "name": "python",
   "nbconvert_exporter": "python",
   "pygments_lexer": "ipython3",
   "version": "3.7.3"
  }
 },
 "nbformat": 4,
 "nbformat_minor": 2
}
