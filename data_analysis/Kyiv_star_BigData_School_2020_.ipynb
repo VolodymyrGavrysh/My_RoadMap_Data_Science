{
 "cells": [
  {
   "cell_type": "code",
   "execution_count": 95,
   "metadata": {},
   "outputs": [],
   "source": [
    "import pandas as pd\n",
    "import numpy as np\n",
    "from tqdm import tqdm\n",
    "import matplotlib.pyplot as plt\n",
    "import warnings\n",
    "warnings.filterwarnings(\"ignore\")\n",
    "import gc\n",
    "import time\n",
    "\n",
    "from sklearn.cluster import KMeans\n",
    "from sklearn.base import BaseEstimator, TransformerMixin\n",
    "from sklearn.model_selection import train_test_split, GridSearchCV, StratifiedKFold, \\\n",
    "                    KFold, RandomizedSearchCV, cross_val_score\n",
    "from sklearn.ensemble import RandomForestClassifier, GradientBoostingClassifier, \\\n",
    "                    AdaBoostClassifier, ExtraTreesClassifier\n",
    "from sklearn.metrics import roc_curve, roc_auc_score, accuracy_score\n",
    "from sklearn.pipeline import Pipeline, FeatureUnion\n",
    "from sklearn.linear_model import SGDClassifier, LinearRegression\n",
    "from sklearn.preprocessing import LabelEncoder, StandardScaler, OneHotEncoder, \\\n",
    "                KBinsDiscretizer, Binarizer, PolynomialFeatures, quantile_transform, power_transform\n",
    "\n",
    "from catboost import CatBoostClassifier, Pool, cv\n",
    "from sklearn.ensemble import BaggingClassifier\n",
    "from sklearn.svm import SVC\n",
    "import xgboost\n",
    "import lightgbm\n",
    "from sklearn.naive_bayes import GaussianNB\n",
    "from sklearn.tree import DecisionTreeClassifier\n",
    "from sklearn.linear_model import LogisticRegression, BayesianRidge\n",
    "from sklearn.neighbors import KNeighborsClassifier\n",
    "from sklearn.compose import ColumnTransformer\n",
    "from sklearn.decomposition import PCA"
   ]
  },
  {
   "cell_type": "code",
   "execution_count": 96,
   "metadata": {},
   "outputs": [],
   "source": [
    "# load data\n",
    "train = pd.read_csv('train.csv')\n",
    "test = pd.read_csv('test.csv')\n",
    "data = pd.read_csv('tabular_data.csv')\n",
    "feature = pd.read_csv('hashed_feature.csv')"
   ]
  },
  {
   "cell_type": "markdown",
   "metadata": {},
   "source": [
    "### clear and prepare data"
   ]
  },
  {
   "cell_type": "code",
   "execution_count": 97,
   "metadata": {},
   "outputs": [
    {
     "data": {
      "text/html": [
       "<div>\n",
       "<style scoped>\n",
       "    .dataframe tbody tr th:only-of-type {\n",
       "        vertical-align: middle;\n",
       "    }\n",
       "\n",
       "    .dataframe tbody tr th {\n",
       "        vertical-align: top;\n",
       "    }\n",
       "\n",
       "    .dataframe thead th {\n",
       "        text-align: right;\n",
       "    }\n",
       "</style>\n",
       "<table border=\"1\" class=\"dataframe\">\n",
       "  <thead>\n",
       "    <tr style=\"text-align: right;\">\n",
       "      <th></th>\n",
       "      <th>id</th>\n",
       "      <th>feature_50</th>\n",
       "    </tr>\n",
       "  </thead>\n",
       "  <tbody>\n",
       "    <tr>\n",
       "      <th>0</th>\n",
       "      <td>0</td>\n",
       "      <td>-7320801361389487764</td>\n",
       "    </tr>\n",
       "  </tbody>\n",
       "</table>\n",
       "</div>"
      ],
      "text/plain": [
       "   id           feature_50\n",
       "0   0 -7320801361389487764"
      ]
     },
     "execution_count": 97,
     "metadata": {},
     "output_type": "execute_result"
    }
   ],
   "source": [
    "# feature 50, tranform hash to numeric \n",
    "feature['feature_50'] = feature['feature_50'].map(lambda x: hash(str(x)))\n",
    "feature[:1]"
   ]
  },
  {
   "cell_type": "code",
   "execution_count": 138,
   "metadata": {},
   "outputs": [
    {
     "name": "stderr",
     "output_type": "stream",
     "text": [
      "100%|██████████| 9/9 [00:14<00:00,  1.62s/it]\n"
     ]
    },
    {
     "data": {
      "image/png": "[encoded data removed]",
      "text/plain": [
       "<Figure size 576x360 with 1 Axes>"
      ]
     },
     "metadata": {
      "needs_background": "light"
     },
     "output_type": "display_data"
    }
   ],
   "source": [
    "# check for the better value of k\n",
    "ks = range(1, 10)\n",
    "inertias = []\n",
    "for k in tqdm(ks):\n",
    "    model = KMeans(n_clusters=k)\n",
    "    model.fit(feature)\n",
    "    inertias.append(model.inertia_)\n",
    "plt.figure(figsize=(8,5))\n",
    "plt.style.use('bmh')\n",
    "plt.plot(ks, inertias, '-o')\n",
    "plt.xlabel('Number of clusters, k')\n",
    "plt.ylabel('Inertia')\n",
    "plt.xticks(ks)\n",
    "plt.show();"
   ]
  },
  {
   "cell_type": "code",
   "execution_count": 99,
   "metadata": {},
   "outputs": [],
   "source": [
    "# final model for # of 4 clusters\n",
    "final_model = KMeans(n_clusters=4, random_state=11)"
   ]
  },
  {
   "cell_type": "code",
   "execution_count": 100,
   "metadata": {},
   "outputs": [
    {
     "data": {
      "text/plain": [
       "KMeans(n_clusters=4, random_state=11)"
      ]
     },
     "execution_count": 100,
     "metadata": {},
     "output_type": "execute_result"
    }
   ],
   "source": [
    "# fit \n",
    "final_model.fit(feature)"
   ]
  },
  {
   "cell_type": "code",
   "execution_count": 101,
   "metadata": {},
   "outputs": [],
   "source": [
    "# predict for labels and fill the data\n",
    "feature['cluster'] = final_model.predict(feature)"
   ]
  },
  {
   "cell_type": "code",
   "execution_count": 102,
   "metadata": {},
   "outputs": [
    {
     "data": {
      "image/png": "[encoded data removed]",
      "text/plain": [
       "<Figure size 432x288 with 1 Axes>"
      ]
     },
     "metadata": {
      "needs_background": "light"
     },
     "output_type": "display_data"
    }
   ],
   "source": [
    "# check the distrib\n",
    "feature['cluster'].hist()\n",
    "plt.show()"
   ]
  },
  {
   "cell_type": "code",
   "execution_count": 103,
   "metadata": {},
   "outputs": [],
   "source": [
    "# aggregate the cluster values\n",
    "feature_50_cluster = feature.groupby('id')['cluster'].mean()\n",
    "# add to data \n",
    "data['feature_50_cluster'] = feature_50_cluster\n",
    "# fill nan\n",
    "data = data.fillna(0)"
   ]
  },
  {
   "cell_type": "code",
   "execution_count": 104,
   "metadata": {},
   "outputs": [],
   "source": [
    "# transform feature 25 to One Hot\n",
    "feature_25 = pd.get_dummies(data.feature_25, prefix='feature_25')"
   ]
  },
  {
   "cell_type": "code",
   "execution_count": 105,
   "metadata": {},
   "outputs": [
    {
     "data": {
      "text/plain": [
       "((5106, 53), (61272, 8), (61272, 53))"
      ]
     },
     "execution_count": 105,
     "metadata": {},
     "output_type": "execute_result"
    }
   ],
   "source": [
    "# check the shapes \n",
    "feature_25.shape, data.shape"
   ]
  },
  {
   "cell_type": "code",
   "execution_count": 106,
   "metadata": {},
   "outputs": [],
   "source": [
    "# concat the DF\n",
    "data_ = pd.concat([data, feature_25], axis=1)\n",
    "# make an average for all observation\n",
    "data_ = data_.groupby('id')[data_.columns].mean()\n",
    "# add target\n",
    "data_['target'] = train.target\n",
    "# drop period\n",
    "data_.drop('period', axis=1, inplace=True)"
   ]
  },
  {
   "cell_type": "code",
   "execution_count": 124,
   "metadata": {},
   "outputs": [],
   "source": [
    "# select the data with target values \n",
    "data_train = data_[:4084]\n",
    "data_test = data_[4084:]"
   ]
  },
  {
   "cell_type": "markdown",
   "metadata": {},
   "source": [
    "### prepare data and models pipe"
   ]
  },
  {
   "cell_type": "code",
   "execution_count": 125,
   "metadata": {},
   "outputs": [
    {
     "data": {
      "text/plain": [
       "2933"
      ]
     },
     "execution_count": 125,
     "metadata": {},
     "output_type": "execute_result"
    }
   ],
   "source": [
    "X_train, X_test, y_train, y_test = train_test_split(data_train.drop('target', axis=1), data_train.target, \\\n",
    "                                                    test_size=0.15, random_state=11)\n",
    "gc.collect()"
   ]
  },
  {
   "cell_type": "code",
   "execution_count": 131,
   "metadata": {},
   "outputs": [],
   "source": [
    "n_jobs = -1\n",
    "random_state = 11 \n",
    "\n",
    "### PIPELINE \n",
    "pipe_rf = Pipeline([('rf', RandomForestClassifier(random_state=random_state, n_jobs=n_jobs))])\n",
    "\n",
    "pipe_ada = Pipeline([('ada', AdaBoostClassifier(base_estimator=DecisionTreeClassifier(), \\\n",
    "                                                random_state=random_state))])\n",
    "\n",
    "pipe_gbc = Pipeline([('gbc', GradientBoostingClassifier(random_state=random_state))])\n",
    "\n",
    "pipe_ext = Pipeline([('ext', ExtraTreesClassifier(random_state=random_state, n_jobs=n_jobs))])\n",
    "\n",
    "pipe_cat = Pipeline([('cat', CatBoostClassifier(random_state=random_state, verbose=False))])\n",
    "\n",
    "pipe_bag = Pipeline([('bag', BaggingClassifier(n_jobs=n_jobs, random_state=random_state))])\n",
    "\n",
    "pipe_svc = Pipeline([('svc', SVC(random_state=random_state, probability=True))])\n",
    "\n",
    "pipe_xgb = Pipeline([('xgb', xgboost.XGBClassifier(n_jobs=n_jobs, random_state=random_state))])\n",
    "\n",
    "pipe_lgh = Pipeline([('lgh', lightgbm.LGBMClassifier(n_jobs=n_jobs, random_state=random_state))])\n",
    "\n",
    "### PARAMS\n",
    "cv = StratifiedKFold(shuffle=False, n_splits=5, random_state=11)\n",
    "\n",
    "grid_params_rf = [{\n",
    "                'rf__criterion': ['entropy'],\n",
    "                'rf__min_samples_leaf': list(range(2, 7, 2)),\n",
    "                'rf__max_depth': list(range(5, 20, 5)),\n",
    "                'rf__n_estimators' : list(range(100, 200, 10))\n",
    "                }]\n",
    "                \n",
    "grid_params_ada = [{\n",
    "                'ada__learning_rate' : [0.8, 0.9],\n",
    "                'ada__n_estimators': [200, 300]\n",
    "                }]\n",
    "\n",
    "grid_params_gbc = [{\n",
    "                'gbc__learning_rate' : list(np.linspace(0.1, 0.2, 3)),\n",
    "                'gbc__n_estimators' : list(range(100, 200, 25)),\n",
    "                'gbc__max_depth' : list(range(1, 4, 1))\n",
    "                }]\n",
    "\n",
    "grid_params_ext = [{\n",
    "                'ext__min_samples_leaf': list(range(5, 15, 2)),\n",
    "                'ext__max_depth': list(range(16, 20, 2)),\n",
    "                'ext__n_estimators' : list(range(150, 200, 25))\n",
    "                }]\n",
    "\n",
    "grid_params_cat = [{\n",
    "                'cat__learning_rate' : list(np.linspace(0.001, 0.01, 5)),\n",
    "                'cat__iterations': [1500],\n",
    "                'cat__depth': list(range(9, 12, 3)),\n",
    "                'cat__l2_leaf_reg':list(np.linspace(3, 5, 1))\n",
    "                }]\n",
    "\n",
    "grid_params_bag = [{'bag__base_estimator': [KNeighborsClassifier()],\n",
    "                'bag__n_estimators': [70, 90] #list(range(10, 80, 10))\n",
    "                    }]\n",
    "\n",
    "grid_params_svc = [{\n",
    "                    'svc__C': [2, 4]\n",
    "                    }]\n",
    "\n",
    "grid_params_xgb = [{\n",
    "                'xgb__max_depth': list(range(1,4,3)),\n",
    "                'xgb__learning_rate': list(np.linspace(0.001, 0.01, 5)),\n",
    "                'xgb__n_estimators': list(range(200, 300, 50)),\n",
    "                'xgb__min_child_weight': list(range(1, 3, 1))\n",
    "                \n",
    "                    }]\n",
    "                                      \n",
    "grid_params_lgh = [{'lgh__learning_rate': list(np.linspace(0.01, 0.1, 4)),\n",
    "                    'lgh__boosting_type': ['gbdt', 'goss'],\n",
    "                    'lgh__max_depth': list(range(5, 10, 5)),\n",
    "                    'lgh__n_estimators': list(range(10, 40, 10))\n",
    "                    }]                                                                     \n",
    "### Grid search \n",
    "\n",
    "gs_rf = RandomizedSearchCV(pipe_rf, param_distributions=grid_params_rf,\n",
    "                     scoring='roc_auc', cv=cv, n_iter=15)\n",
    "\n",
    "gs_ada = RandomizedSearchCV(pipe_ada, param_distributions=grid_params_ada,\n",
    "                     scoring='roc_auc', cv=cv, n_iter=15)\n",
    "\n",
    "gs_gbc = RandomizedSearchCV(pipe_gbc, param_distributions=grid_params_gbc,\n",
    "                     scoring='roc_auc', cv=cv, n_iter=15)\n",
    "\n",
    "gs_ext = RandomizedSearchCV(pipe_ext, param_distributions=grid_params_ext,\n",
    "                     scoring='roc_auc', cv=cv, n_iter=15)\n",
    "\n",
    "gs_cat = RandomizedSearchCV(pipe_cat, param_distributions=grid_params_cat,\n",
    "                     scoring='roc_auc', cv=cv, n_iter=15)\n",
    "\n",
    "gs_bag = RandomizedSearchCV(pipe_bag, param_distributions=grid_params_bag,\n",
    "                     scoring='roc_auc', cv=cv, n_iter=15)\n",
    "\n",
    "gs_svc = RandomizedSearchCV(pipe_svc, param_distributions=grid_params_svc,\n",
    "                     scoring='roc_auc', cv=cv, n_iter=15)\n",
    "\n",
    "gs_xgb = RandomizedSearchCV(pipe_xgb, param_distributions=grid_params_xgb,\n",
    "                     scoring='roc_auc', cv=cv, n_iter=15)\n",
    "                                      \n",
    "gs_lgh = RandomizedSearchCV(pipe_lgh, param_distributions=grid_params_lgh,\n",
    "                     scoring='roc_auc', cv=cv, n_iter=15)\n",
    "\n",
    "### \n",
    "look_for = [gs_rf, gs_ada, gs_gbc, gs_ext, gs_cat, gs_bag, gs_svc, gs_xgb, gs_lgh]\n",
    "\n",
    "model_dict = {0:'RandomForest', 1:'Adaboost', 2: \"Gradient boost\", 3:'ExtraTreeBoost', \\\n",
    "              4: 'Catboost', 5:'Bagging', 6:'CVM', 7:'Xgb', 8:'lgh'}"
   ]
  },
  {
   "cell_type": "code",
   "execution_count": 132,
   "metadata": {},
   "outputs": [
    {
     "name": "stdout",
     "output_type": "stream",
     "text": [
      "\n",
      "+++++++ Start New Model ++++++++++++++++++++++\n",
      "Estimator is RandomForest\n",
      "---------------------------------------------\n",
      "best params {'rf__n_estimators': 140, 'rf__min_samples_leaf': 2, 'rf__max_depth': 5, 'rf__criterion': 'entropy'}\n",
      "best score is 0.7340133603908275\n",
      "---------------------------------------------\n",
      "ROC_AUC is 0.7295454545454546 and accuracy rate is 0.7295454545454546\n",
      "It lasted for 37.35 sec\n",
      "++++++++ End Model +++++++++++++++++++++++++++\n",
      "\n",
      "\n",
      "\n",
      "+++++++ Start New Model ++++++++++++++++++++++\n",
      "Estimator is Adaboost\n",
      "---------------------------------------------\n",
      "best params {'ada__n_estimators': 200, 'ada__learning_rate': 0.8}\n",
      "best score is 0.5756249096298438\n",
      "---------------------------------------------\n",
      "ROC_AUC is 0.5759537337662338 and accuracy rate is 0.5759537337662338\n",
      "It lasted for 2.265 sec\n",
      "++++++++ End Model +++++++++++++++++++++++++++\n",
      "\n",
      "\n",
      "\n",
      "+++++++ Start New Model ++++++++++++++++++++++\n",
      "Estimator is Gradient boost\n",
      "---------------------------------------------\n",
      "best params {'gbc__n_estimators': 125, 'gbc__max_depth': 2, 'gbc__learning_rate': 0.1}\n",
      "best score is 0.7270244546663133\n",
      "---------------------------------------------\n",
      "ROC_AUC is 0.7365530303030303 and accuracy rate is 0.7365530303030303\n",
      "It lasted for 169.268 sec\n",
      "++++++++ End Model +++++++++++++++++++++++++++\n",
      "\n",
      "\n",
      "\n",
      "+++++++ Start New Model ++++++++++++++++++++++\n",
      "Estimator is ExtraTreeBoost\n",
      "---------------------------------------------\n",
      "best params {'ext__n_estimators': 150, 'ext__min_samples_leaf': 7, 'ext__max_depth': 18}\n",
      "best score is 0.7327151010539168\n",
      "---------------------------------------------\n",
      "ROC_AUC is 0.7487012987012986 and accuracy rate is 0.7487012987012986\n",
      "It lasted for 23.663 sec\n",
      "++++++++ End Model +++++++++++++++++++++++++++\n",
      "\n",
      "\n",
      "\n",
      "+++++++ Start New Model ++++++++++++++++++++++\n",
      "Estimator is Catboost\n",
      "---------------------------------------------\n",
      "best params {'cat__learning_rate': 0.0032500000000000003, 'cat__l2_leaf_reg': 3.0, 'cat__iterations': 1500, 'cat__depth': 9}\n",
      "best score is 0.7361082661247136\n",
      "---------------------------------------------\n",
      "ROC_AUC is 0.7395021645021647 and accuracy rate is 0.7395021645021647\n",
      "It lasted for 729.007 sec\n",
      "++++++++ End Model +++++++++++++++++++++++++++\n",
      "\n",
      "\n",
      "\n",
      "+++++++ Start New Model ++++++++++++++++++++++\n",
      "Estimator is Bagging\n",
      "---------------------------------------------\n",
      "best params {'bag__n_estimators': 90, 'bag__base_estimator': KNeighborsClassifier()}\n",
      "best score is 0.5216488026623718\n",
      "---------------------------------------------\n",
      "ROC_AUC is 0.4882237554112554 and accuracy rate is 0.4882237554112554\n",
      "It lasted for 20.243 sec\n",
      "++++++++ End Model +++++++++++++++++++++++++++\n",
      "\n",
      "\n",
      "\n",
      "+++++++ Start New Model ++++++++++++++++++++++\n",
      "Estimator is CVM\n",
      "---------------------------------------------\n",
      "best params {'svc__C': 2}\n",
      "best score is 0.6056184757767816\n",
      "---------------------------------------------\n",
      "ROC_AUC is 0.6026785714285714 and accuracy rate is 0.6026785714285714\n",
      "It lasted for 28.287 sec\n",
      "++++++++ End Model +++++++++++++++++++++++++++\n",
      "\n",
      "\n",
      "\n",
      "+++++++ Start New Model ++++++++++++++++++++++\n",
      "Estimator is Xgb\n",
      "---------------------------------------------\n",
      "best params {'xgb__n_estimators': 250, 'xgb__min_child_weight': 2, 'xgb__max_depth': 1, 'xgb__learning_rate': 0.01}\n",
      "best score is 0.7144117262641112\n",
      "---------------------------------------------\n",
      "ROC_AUC is 0.7287540584415586 and accuracy rate is 0.7287540584415586\n",
      "It lasted for 9.049 sec\n",
      "++++++++ End Model +++++++++++++++++++++++++++\n",
      "\n",
      "\n",
      "\n",
      "+++++++ Start New Model ++++++++++++++++++++++\n",
      "Estimator is lgh\n",
      "---------------------------------------------\n",
      "best params {'lgh__n_estimators': 30, 'lgh__max_depth': 5, 'lgh__learning_rate': 0.07, 'lgh__boosting_type': 'gbdt'}\n",
      "best score is 0.7210612460304073\n",
      "---------------------------------------------\n",
      "ROC_AUC is 0.741774891774892 and accuracy rate is 0.741774891774892\n",
      "It lasted for 3.328 sec\n",
      "++++++++ End Model +++++++++++++++++++++++++++\n",
      "\n",
      "\n"
     ]
    }
   ],
   "source": [
    "''' Function to iterate over models and obtain results'''\n",
    "# set empty dicts and list\n",
    "result_acc = {}\n",
    "result_auc = {}\n",
    "models = []\n",
    "\n",
    "for index, model in enumerate(look_for):\n",
    "        start = time.time()\n",
    "        print()\n",
    "        print('+++++++ Start New Model ++++++++++++++++++++++')\n",
    "        print('Estimator is {}'.format(model_dict[index]))\n",
    "        model.fit(X_train, y_train)\n",
    "        print('---------------------------------------------')\n",
    "        print('best params {}'.format(model.best_params_))\n",
    "        print('best score is {}'.format(model.best_score_))\n",
    "        auc = roc_auc_score(y_test, model.predict_proba(X_test)[:,1])\n",
    "        print('---------------------------------------------')\n",
    "        print('ROC_AUC is {} and accuracy rate is {}'.format(auc, model.score(X_test, y_test)))\n",
    "        end = time.time()\n",
    "        print('It lasted for {} sec'.format(round(end - start, 3)))\n",
    "        print('++++++++ End Model +++++++++++++++++++++++++++')\n",
    "        print()\n",
    "        print()\n",
    "        models.append(model.best_estimator_)\n",
    "        result_acc[index] = model.best_score_\n",
    "        result_auc[index] = auc"
   ]
  },
  {
   "cell_type": "code",
   "execution_count": 158,
   "metadata": {},
   "outputs": [
    {
     "name": "stdout",
     "output_type": "stream",
     "text": [
      "{0: 0.7295454545454546, 1: 0.5759537337662338, 2: 0.7365530303030303, 3: 0.7487012987012986, 4: 0.7395021645021647, 5: 0.4882237554112554, 6: 0.6026785714285714, 7: 0.7287540584415586, 8: 0.741774891774892}\n"
     ]
    }
   ],
   "source": [
    "# all the results\n",
    "print(result_auc)"
   ]
  },
  {
   "cell_type": "code",
   "execution_count": 160,
   "metadata": {},
   "outputs": [
    {
     "data": {
      "text/plain": [
       "ExtraTreesClassifier(max_depth=18, min_samples_leaf=7, n_estimators=150,\n",
       "                     n_jobs=-1, random_state=11)"
      ]
     },
     "execution_count": 160,
     "metadata": {},
     "output_type": "execute_result"
    }
   ],
   "source": [
    "# Look up for the model\n",
    "max_key = max(result_auc, key=result_auc.get)\n",
    "models[max_key][0]"
   ]
  },
  {
   "cell_type": "markdown",
   "metadata": {},
   "source": [
    "### best is ExtraTreesClassifier(max_depth=18, min_samples_leaf=7, n_estimators=150)"
   ]
  },
  {
   "cell_type": "code",
   "execution_count": 144,
   "metadata": {},
   "outputs": [],
   "source": [
    "# use this model to predict from test\n",
    "results = models[3].predict_proba(data_test.drop('target', axis=1))[:,1]"
   ]
  },
  {
   "cell_type": "code",
   "execution_count": 152,
   "metadata": {},
   "outputs": [],
   "source": [
    "# save to test\n",
    "test.score = results"
   ]
  },
  {
   "cell_type": "code",
   "execution_count": 153,
   "metadata": {},
   "outputs": [],
   "source": [
    "# save to file \n",
    "test.to_csv('GavryshVolodymyr_test.csv', index=False)"
   ]
  },
  {
   "cell_type": "code",
   "execution_count": 156,
   "metadata": {},
   "outputs": [
    {
     "data": {
      "text/html": [
       "<div>\n",
       "<style scoped>\n",
       "    .dataframe tbody tr th:only-of-type {\n",
       "        vertical-align: middle;\n",
       "    }\n",
       "\n",
       "    .dataframe tbody tr th {\n",
       "        vertical-align: top;\n",
       "    }\n",
       "\n",
       "    .dataframe thead th {\n",
       "        text-align: right;\n",
       "    }\n",
       "</style>\n",
       "<table border=\"1\" class=\"dataframe\">\n",
       "  <thead>\n",
       "    <tr style=\"text-align: right;\">\n",
       "      <th></th>\n",
       "      <th>id</th>\n",
       "      <th>score</th>\n",
       "    </tr>\n",
       "  </thead>\n",
       "  <tbody>\n",
       "    <tr>\n",
       "      <th>0</th>\n",
       "      <td>4084</td>\n",
       "      <td>0.157857</td>\n",
       "    </tr>\n",
       "    <tr>\n",
       "      <th>1</th>\n",
       "      <td>4085</td>\n",
       "      <td>0.209447</td>\n",
       "    </tr>\n",
       "    <tr>\n",
       "      <th>2</th>\n",
       "      <td>4086</td>\n",
       "      <td>0.205118</td>\n",
       "    </tr>\n",
       "    <tr>\n",
       "      <th>3</th>\n",
       "      <td>4087</td>\n",
       "      <td>0.273723</td>\n",
       "    </tr>\n",
       "    <tr>\n",
       "      <th>4</th>\n",
       "      <td>4088</td>\n",
       "      <td>0.240101</td>\n",
       "    </tr>\n",
       "  </tbody>\n",
       "</table>\n",
       "</div>"
      ],
      "text/plain": [
       "     id     score\n",
       "0  4084  0.157857\n",
       "1  4085  0.209447\n",
       "2  4086  0.205118\n",
       "3  4087  0.273723\n",
       "4  4088  0.240101"
      ]
     },
     "execution_count": 156,
     "metadata": {},
     "output_type": "execute_result"
    }
   ],
   "source": [
    "# check file\n",
    "pd.read_csv('GavryshVolodymyr_test.csv').head()"
   ]
  },
  {
   "cell_type": "markdown",
   "metadata": {},
   "source": [
    "-----------------------------\n",
    "\n",
    "Gavrysh Volodymyr\n",
    "\n",
    "https://www.linkedin.com/in/volodymyrgavrish/"
   ]
  }
 ],
 "metadata": {
  "kernelspec": {
   "display_name": "Python 3",
   "language": "python",
   "name": "python3"
  },
  "language_info": {
   "codemirror_mode": {
    "name": "ipython",
    "version": 3
   },
   "file_extension": ".py",
   "mimetype": "text/x-python",
   "name": "python",
   "nbconvert_exporter": "python",
   "pygments_lexer": "ipython3",
   "version": "3.7.6"
  }
 },
 "nbformat": 4,
 "nbformat_minor": 4
}
