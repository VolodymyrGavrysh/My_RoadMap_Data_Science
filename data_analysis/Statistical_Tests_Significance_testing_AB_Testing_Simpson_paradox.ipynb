{
 "cells": [
  {
   "cell_type": "markdown",
   "metadata": {
    "colab_type": "text",
    "id": "4jLE0nxT_P19"
   },
   "source": [
    "<center><font size=\"4\"><b>Statistical Tests Significance testing; AB Testing; Simpson paradox </b></font></center>\n",
    "\n",
    "***"
   ]
  },
  {
   "cell_type": "markdown",
   "metadata": {
    "colab_type": "text",
    "id": "rgsImuK1xlp9"
   },
   "source": [
    "## Task 1: testing"
   ]
  },
  {
   "cell_type": "markdown",
   "metadata": {
    "colab_type": "text",
    "id": "QuyjM_D5fw1z"
   },
   "source": [
    "A research study was conducted to examine the differences between older and younger adults on perceived life satisfaction. A pilot study was conducted to examine this hypothesis. Ten older adults (over the age of 70) and ten younger adults (between 20 and 30) were give a life satisfaction test (known to have high reliability and validity). Scores on the measure range from 0 to 60 with high scores indicative of high life satisfaction; low scores indicative of low life satisfaction. The data are presented below. Compute the appropriate t-test.\n",
    "\n",
    "1. What would be the null hypothesis in this study?\n",
    "2. What would be the alternate hypothesis?\n",
    "3. What probability level did you choose and why?\n",
    "4. What is your tcrit?\n",
    "5. Is there a significant difference between the two groups?\n",
    "6. Interpret your answer.\n",
    "7. If you have made an error, would it be a Type I or a Type II error? "
   ]
  },
  {
   "cell_type": "code",
   "execution_count": 2,
   "metadata": {
    "colab": {},
    "colab_type": "code",
    "id": "w8Yi6y7bfpT9"
   },
   "outputs": [],
   "source": [
    "older_adults = [45, 38, 52, 48, 25, 39, 51, 46, 55, 46]\n",
    "younger_adults = [34, 22, 15, 27, 37, 41, 24, 19, 26, 36]"
   ]
  },
  {
   "cell_type": "code",
   "execution_count": 3,
   "metadata": {
    "colab": {},
    "colab_type": "code",
    "id": "MdE86uAc-Nor"
   },
   "outputs": [],
   "source": [
    "from scipy import stats\n",
    "import numpy as np\n",
    "import pandas as pd"
   ]
  },
  {
   "cell_type": "code",
   "execution_count": 4,
   "metadata": {
    "colab": {},
    "colab_type": "code",
    "id": "dHA8ewOC81z9"
   },
   "outputs": [],
   "source": [
    "mu_1 = np.mean(older_adults)\n",
    "mu_2 = np.mean(younger_adults)\n",
    "\n",
    "sigma_1 = np.std(older_adults, ddof=1)\n",
    "sigma_2 = np.std(younger_adults, ddof=1)\n",
    "\n",
    "n = 10"
   ]
  },
  {
   "cell_type": "code",
   "execution_count": 5,
   "metadata": {},
   "outputs": [
    {
     "data": {
      "text/plain": [
       "19.84962406015038"
      ]
     },
     "execution_count": 5,
     "metadata": {},
     "output_type": "execute_result"
    }
   ],
   "source": [
    "mu_1 = 1.3\n",
    "mu_2 = 1.6\n",
    "sigma_1 = 0.25\n",
    "sigma_2 = 0.09\n",
    "\n",
    "n_1 = 22\n",
    "n_2 = 24\n",
    "\n",
    "import numpy as np\n",
    "\n",
    "t = (mu_2 - mu_1) / (sigma_1/n_1 + sigma_2/n_2)\n",
    "t "
   ]
  },
  {
   "cell_type": "code",
   "execution_count": 6,
   "metadata": {
    "colab": {
     "base_uri": "https://localhost:8080/",
     "height": 34
    },
    "colab_type": "code",
    "id": "eIQTt66-9gZL",
    "outputId": "15fc7699-af59-4c63-b285-5e7695f59c4d"
   },
   "outputs": [
    {
     "data": {
      "text/plain": [
       "-3.570416691943344"
      ]
     },
     "execution_count": 6,
     "metadata": {},
     "output_type": "execute_result"
    }
   ],
   "source": [
    "t = (-mu_2 + mu_1) / (np.sqrt(sigma_2**2/n + sigma_1**2/n))\n",
    "t"
   ]
  },
  {
   "cell_type": "code",
   "execution_count": 7,
   "metadata": {
    "colab": {
     "base_uri": "https://localhost:8080/",
     "height": 34
    },
    "colab_type": "code",
    "id": "is6sckD2-MBO",
    "outputId": "cbe8c73a-7bc7-4aed-c62e-a55708ffe1e5"
   },
   "outputs": [
    {
     "data": {
      "text/plain": [
       "2.10092204024096"
      ]
     },
     "execution_count": 7,
     "metadata": {},
     "output_type": "execute_result"
    }
   ],
   "source": [
    "t_crit = stats.t.ppf(1-0.05/2, 18)\n",
    "t_crit"
   ]
  },
  {
   "cell_type": "code",
   "execution_count": 8,
   "metadata": {
    "colab": {
     "base_uri": "https://localhost:8080/",
     "height": 34
    },
    "colab_type": "code",
    "id": "bmquvzvc9Nxk",
    "outputId": "3915299c-bbda-4058-9bdc-db680cc56752"
   },
   "outputs": [
    {
     "data": {
      "text/plain": [
       "True"
      ]
     },
     "execution_count": 8,
     "metadata": {},
     "output_type": "execute_result"
    }
   ],
   "source": [
    "t < t_crit"
   ]
  },
  {
   "cell_type": "code",
   "execution_count": 9,
   "metadata": {
    "colab": {
     "base_uri": "https://localhost:8080/",
     "height": 34
    },
    "colab_type": "code",
    "id": "Z_UKloXIAkyt",
    "outputId": "ff0008e8-904e-4cfe-9a6b-c1a06724f38d"
   },
   "outputs": [
    {
     "data": {
      "text/plain": [
       "0.998979362829552"
      ]
     },
     "execution_count": 9,
     "metadata": {},
     "output_type": "execute_result"
    }
   ],
   "source": [
    "p = 1 - stats.t.cdf(t,df=19)\n",
    "p"
   ]
  },
  {
   "cell_type": "code",
   "execution_count": 10,
   "metadata": {
    "colab": {
     "base_uri": "https://localhost:8080/",
     "height": 34
    },
    "colab_type": "code",
    "id": "T6r9Bq1OAo56",
    "outputId": "836ac5de-3439-47a7-f7a3-8eb1e045d405"
   },
   "outputs": [
    {
     "data": {
      "text/plain": [
       "False"
      ]
     },
     "execution_count": 10,
     "metadata": {},
     "output_type": "execute_result"
    }
   ],
   "source": [
    "alpha = 0.05\n",
    "p < alpha"
   ]
  },
  {
   "cell_type": "markdown",
   "metadata": {
    "colab_type": "text",
    "id": "1ZvHLLlq6quU"
   },
   "source": [
    "## Task 2: testing"
   ]
  },
  {
   "cell_type": "markdown",
   "metadata": {
    "colab_type": "text",
    "id": "SaNVjkqB6quV"
   },
   "source": [
    "A researcher hypothesizes that electrical stimulation of the lateral habenula will result in a decrease in food intake (in this case, chocolate chips) in rats. Rats undergo stereotaxic surgery and an electrode is implanted in the right lateral habenula. Following a ten day recovery period, rats (kept at 80 percent body weight) are tested for the number of chocolate chips consumed during a 10 minute period of time both with and without electrical stimulation. The testing conditions are counter balanced. Compute the appropriate t-test for the data provided below.\n",
    "\n",
    "1. What would be the null hypothesis in this study?\n",
    "2. What would be the alternate hypothesis?\n",
    "3. What probability level did you choose and why?\n",
    "4. What were your degrees of freedom?\n",
    "5. Is there a significant difference between the two testing conditions?\n",
    "6. Interpret your answer.\n",
    "7. If you have made an error, would it be a Type I or a Type II error?"
   ]
  },
  {
   "cell_type": "code",
   "execution_count": 11,
   "metadata": {
    "colab": {},
    "colab_type": "code",
    "id": "V_tQjLmz6quW"
   },
   "outputs": [],
   "source": [
    "stimulation\t= [12, 7, 3, 11, 8, 5, 14, 7, 9, 10]\n",
    "no_stimulation = [8, 7, 4, 14, 6, 7, 12, 5, 5, 8]\n",
    "alpha = 0.05\n",
    "n = 10\n",
    "\n",
    "mu_1 = np.mean(no_stimulation)\n",
    "mu_2 = np.mean(stimulation)\n",
    "\n",
    "sigma_1 = np.std(no_stimulation, ddof=1)\n",
    "sigma_2 = np.std(stimulation, ddof=1)\n",
    "\n",
    "# t_crit = stats.t.ppf"
   ]
  },
  {
   "cell_type": "code",
   "execution_count": 12,
   "metadata": {
    "colab": {
     "base_uri": "https://localhost:8080/",
     "height": 34
    },
    "colab_type": "code",
    "id": "s3uenX14ESnk",
    "outputId": "b75ac188-13b0-4943-a0ec-48e8661e4c4e"
   },
   "outputs": [
    {
     "name": "stdout",
     "output_type": "stream",
     "text": [
      "t =  0.69, t_critical =  2.10\n",
      "t <= t critical. Accept H_0.\n"
     ]
    }
   ],
   "source": [
    "t = (mu_2 - mu_1) / (np.sqrt(sigma_2**2/n + sigma_1**2/n))\n",
    "\n",
    "print(f't = {t: .2f}, t_critical = {t_crit: .2f}')\n",
    "if t <= t_crit:\n",
    "    print('t <= t critical. Accept H_0.')\n",
    "else:\n",
    "    print('t > t critical. Reject H_0.')"
   ]
  },
  {
   "cell_type": "code",
   "execution_count": 13,
   "metadata": {
    "colab": {
     "base_uri": "https://localhost:8080/",
     "height": 34
    },
    "colab_type": "code",
    "id": "E6bc2rF4EsQn",
    "outputId": "f23a236c-f861-4668-83bd-b8987fb991be"
   },
   "outputs": [
    {
     "data": {
      "text/plain": [
       "0.24913574227679747"
      ]
     },
     "execution_count": 13,
     "metadata": {},
     "output_type": "execute_result"
    }
   ],
   "source": [
    "p = 1 - stats.t.cdf(t,df=19)\n",
    "p"
   ]
  },
  {
   "cell_type": "markdown",
   "metadata": {
    "colab_type": "text",
    "id": "c6hjIKh_8FGN"
   },
   "source": [
    "## Task 3: testing"
   ]
  },
  {
   "cell_type": "markdown",
   "metadata": {
    "colab_type": "text",
    "id": "6x1sOCTK8FGO"
   },
   "source": [
    "Researchers want to examine the effect of perceived control on health complaints of geriatric patients in a long-term care facility. Thirty patients are randomly selected to participate in the study. Half are given a plant to care for and half are given a plant but the care is conducted by the staff. Number of health complaints are recorded for each patient over the following seven days. Compute the appropriate t-test for the data provided below.\n",
    "\n",
    "1. What would be the null hypothesis in this study?\n",
    "2. What would be the alternate hypothesis?\n",
    "3. What probability level did you choose and why?\n",
    "4. What were your degrees of freedom?\n",
    "5. Is there a significant difference between the two testing conditions?\n",
    "6. Interpret your answer.\n",
    "7. If you have made an error, would it be a Type I or a Type II error?"
   ]
  },
  {
   "cell_type": "code",
   "execution_count": 15,
   "metadata": {
    "colab": {},
    "colab_type": "code",
    "id": "S6-pvFOE8FGP"
   },
   "outputs": [],
   "source": [
    "control_over_plant = [23, 12, 6, 15, 18, 5, 21, 18, 34, 10, 23, 14, 19, 23, 8]\n",
    "no_control_over_plant = [35, 21, 26, 24, 17, 23, 37, 22, 16, 38, 23, 41, 27, 24, 32]"
   ]
  },
  {
   "cell_type": "code",
   "execution_count": 16,
   "metadata": {
    "colab": {},
    "colab_type": "code",
    "id": "71hCe0JpFOp6"
   },
   "outputs": [],
   "source": [
    "import numpy as np\n",
    "from scipy import stats as st"
   ]
  },
  {
   "cell_type": "code",
   "execution_count": 17,
   "metadata": {
    "colab": {
     "base_uri": "https://localhost:8080/",
     "height": 34
    },
    "colab_type": "code",
    "id": "S_V8NbfwGcDf",
    "outputId": "fc31d65f-0904-4f29-9b97-e1011d0900d8"
   },
   "outputs": [
    {
     "data": {
      "text/plain": [
       "False"
      ]
     },
     "execution_count": 17,
     "metadata": {},
     "output_type": "execute_result"
    }
   ],
   "source": [
    "h0 = 'there is affect'\n",
    "h1 = 'there is no affect'\n",
    "\n",
    "n = 15\n",
    "alpha = 0.05\n",
    "ddf = 15 * 2 -1\n",
    "\n",
    "mu_1 = np.mean(control_over_plant)\n",
    "mu_2 = np.mean(no_control_over_plant)\n",
    "\n",
    "sigma_0 = np.std(control_over_plant, ddof=1)\n",
    "sigma_1 = np.std(no_control_over_plant, ddof=1)\n",
    "\n",
    "t_crit = st.t.ppf((1-alpha)/2, ddf)\n",
    "\n",
    "t = abs((mu_1 - mu_2)) / (np.sqrt(sigma_0**2/n + sigma_1**2/n))\n",
    "\n",
    "t < t_crit"
   ]
  },
  {
   "cell_type": "markdown",
   "metadata": {
    "colab_type": "text",
    "id": "jJ8HpZg_PoPE"
   },
   "source": [
    "## Task 4: transactions dataset investigation\n"
   ]
  },
  {
   "cell_type": "markdown",
   "metadata": {
    "colab_type": "text",
    "id": "89zTGZluPw7T"
   },
   "source": [
    "In this task you should perform investigation of the transactions dataset of some e-commerce service that provides different kind of **service-packages** and performs on both **desktop** and **mobile**. Each record corresponds to the website visit session by certain user and could be finished by buying the product of not (see `is_paid_order` column)."
   ]
  },
  {
   "cell_type": "code",
   "execution_count": 18,
   "metadata": {
    "colab": {
     "base_uri": "https://localhost:8080/",
     "height": 359
    },
    "colab_type": "code",
    "id": "oJUMz1RtGOrt",
    "outputId": "373d7e42-2141-4482-ae9f-35fe95532029"
   },
   "outputs": [
    {
     "data": {
      "text/html": [
       "<div>\n",
       "<style scoped>\n",
       "    .dataframe tbody tr th:only-of-type {\n",
       "        vertical-align: middle;\n",
       "    }\n",
       "\n",
       "    .dataframe tbody tr th {\n",
       "        vertical-align: top;\n",
       "    }\n",
       "\n",
       "    .dataframe thead th {\n",
       "        text-align: right;\n",
       "    }\n",
       "</style>\n",
       "<table border=\"1\" class=\"dataframe\">\n",
       "  <thead>\n",
       "    <tr style=\"text-align: right;\">\n",
       "      <th></th>\n",
       "      <th>order_date</th>\n",
       "      <th>package_level</th>\n",
       "      <th>device</th>\n",
       "      <th>is_paid_order</th>\n",
       "    </tr>\n",
       "  </thead>\n",
       "  <tbody>\n",
       "    <tr>\n",
       "      <th>0</th>\n",
       "      <td>2012-01-01 00:10:32</td>\n",
       "      <td>standard</td>\n",
       "      <td>desktop</td>\n",
       "      <td>1</td>\n",
       "    </tr>\n",
       "    <tr>\n",
       "      <th>1</th>\n",
       "      <td>2012-01-01 01:02:35</td>\n",
       "      <td>standard</td>\n",
       "      <td>desktop</td>\n",
       "      <td>0</td>\n",
       "    </tr>\n",
       "    <tr>\n",
       "      <th>2</th>\n",
       "      <td>2012-01-01 01:05:35</td>\n",
       "      <td>standard</td>\n",
       "      <td>desktop</td>\n",
       "      <td>1</td>\n",
       "    </tr>\n",
       "    <tr>\n",
       "      <th>3</th>\n",
       "      <td>2012-01-01 01:20:52</td>\n",
       "      <td>standard</td>\n",
       "      <td>desktop</td>\n",
       "      <td>1</td>\n",
       "    </tr>\n",
       "    <tr>\n",
       "      <th>4</th>\n",
       "      <td>2012-01-01 01:38:27</td>\n",
       "      <td>standard</td>\n",
       "      <td>desktop</td>\n",
       "      <td>0</td>\n",
       "    </tr>\n",
       "    <tr>\n",
       "      <th>5</th>\n",
       "      <td>2012-01-01 02:04:11</td>\n",
       "      <td>standard</td>\n",
       "      <td>desktop</td>\n",
       "      <td>0</td>\n",
       "    </tr>\n",
       "    <tr>\n",
       "      <th>6</th>\n",
       "      <td>2012-01-01 03:08:33</td>\n",
       "      <td>standard</td>\n",
       "      <td>desktop</td>\n",
       "      <td>1</td>\n",
       "    </tr>\n",
       "    <tr>\n",
       "      <th>7</th>\n",
       "      <td>2012-01-01 03:43:02</td>\n",
       "      <td>premium</td>\n",
       "      <td>desktop</td>\n",
       "      <td>1</td>\n",
       "    </tr>\n",
       "    <tr>\n",
       "      <th>8</th>\n",
       "      <td>2012-01-01 05:35:16</td>\n",
       "      <td>standard</td>\n",
       "      <td>mobile</td>\n",
       "      <td>1</td>\n",
       "    </tr>\n",
       "    <tr>\n",
       "      <th>9</th>\n",
       "      <td>2012-01-01 06:00:20</td>\n",
       "      <td>standard</td>\n",
       "      <td>desktop</td>\n",
       "      <td>0</td>\n",
       "    </tr>\n",
       "  </tbody>\n",
       "</table>\n",
       "</div>"
      ],
      "text/plain": [
       "           order_date package_level   device  is_paid_order\n",
       "0 2012-01-01 00:10:32      standard  desktop              1\n",
       "1 2012-01-01 01:02:35      standard  desktop              0\n",
       "2 2012-01-01 01:05:35      standard  desktop              1\n",
       "3 2012-01-01 01:20:52      standard  desktop              1\n",
       "4 2012-01-01 01:38:27      standard  desktop              0\n",
       "5 2012-01-01 02:04:11      standard  desktop              0\n",
       "6 2012-01-01 03:08:33      standard  desktop              1\n",
       "7 2012-01-01 03:43:02       premium  desktop              1\n",
       "8 2012-01-01 05:35:16      standard   mobile              1\n",
       "9 2012-01-01 06:00:20      standard  desktop              0"
      ]
     },
     "execution_count": 18,
     "metadata": {},
     "output_type": "execute_result"
    }
   ],
   "source": [
    "import pandas as pd\n",
    "df = pd.read_csv(\"https://raw.githubusercontent.com/devrepublik/data-science-course/master/data/a-b-testing/2.3.7.%20conversion_dataset.csv\", index_col=0, parse_dates=[\"order_date\"])\n",
    "df.head(10)"
   ]
  },
  {
   "cell_type": "code",
   "execution_count": 19,
   "metadata": {},
   "outputs": [
    {
     "data": {
      "text/plain": [
       "package_level\n",
       "platinum    10580\n",
       "premium     23742\n",
       "standard    65678\n",
       "Name: is_paid_order, dtype: int64"
      ]
     },
     "execution_count": 19,
     "metadata": {},
     "output_type": "execute_result"
    }
   ],
   "source": [
    "df.groupby('package_level')['is_paid_order'].count()\n"
   ]
  },
  {
   "cell_type": "markdown",
   "metadata": {
    "colab_type": "text",
    "id": "saGvy0IaJ7Ym"
   },
   "source": [
    "### A. Average conversion rate, SE and CI\n",
    "Calculate the average conversion rate (order payment rate), its standard error (SE) and confidence interval (CI) with significance 95%. \n",
    "\n",
    "**Hint:** You can treat the column `is_paid_order` as the observation variable that follows **Bernoulli distribution**. Then convertion rate is calculated as a mean value of the observations sample."
   ]
  },
  {
   "cell_type": "code",
   "execution_count": 20,
   "metadata": {
    "colab": {},
    "colab_type": "code",
    "id": "rpYdG113Gdtp"
   },
   "outputs": [
    {
     "data": {
      "text/plain": [
       "0.69303"
      ]
     },
     "execution_count": 20,
     "metadata": {},
     "output_type": "execute_result"
    }
   ],
   "source": [
    "# YOUR CODE GOES HERE\n",
    "\n",
    "alpha = 0.05\n",
    "convertion_rate = len(df[df['is_paid_order'] == 1]) / len(df)\n",
    "convertion_rate"
   ]
  },
  {
   "cell_type": "code",
   "execution_count": 21,
   "metadata": {},
   "outputs": [
    {
     "data": {
      "text/plain": [
       "0.0014585589432724341"
      ]
     },
     "execution_count": 21,
     "metadata": {},
     "output_type": "execute_result"
    }
   ],
   "source": [
    "se =  np.sqrt(convertion_rate * (1-convertion_rate)) / np.sqrt(len(df))\n",
    "se"
   ]
  },
  {
   "cell_type": "code",
   "execution_count": 22,
   "metadata": {},
   "outputs": [
    {
     "data": {
      "text/plain": [
       "1.9599877077718446"
      ]
     },
     "execution_count": 22,
     "metadata": {},
     "output_type": "execute_result"
    }
   ],
   "source": [
    "t_score = st.t.ppf(1-alpha/2, len(df) - 1)\n",
    "t_score"
   ]
  },
  {
   "cell_type": "code",
   "execution_count": 23,
   "metadata": {},
   "outputs": [],
   "source": [
    "lower = convertion_rate - t_score * se\n",
    "upper = convertion_rate + t_score * se"
   ]
  },
  {
   "cell_type": "code",
   "execution_count": 24,
   "metadata": {},
   "outputs": [
    {
     "data": {
      "text/plain": [
       "(0.6901712424001254, 0.6958887575998747)"
      ]
     },
     "execution_count": 24,
     "metadata": {},
     "output_type": "execute_result"
    }
   ],
   "source": [
    "lower, upper"
   ]
  },
  {
   "cell_type": "markdown",
   "metadata": {
    "colab_type": "text",
    "id": "qxckB-bDLooa"
   },
   "source": [
    "### B. comparing conversion by segments\n",
    "\n",
    "Compare conversion rate by different **devices** and **package_level**. Is the difference statistically significant?"
   ]
  },
  {
   "cell_type": "code",
   "execution_count": 26,
   "metadata": {},
   "outputs": [],
   "source": [
    "def ttest_ind(data, package, device):\n",
    "    \"\"\"Returns the p_value of the t-test\"\"\"\n",
    "    \n",
    "    data = df[(df['package_level'] == package) & ((df['device'] == device))]\n",
    "    \n",
    "    alpha = 0.05\n",
    "    \n",
    "    convertion_rate = len(data[data['is_paid_order'] == 1]) / len(data)\n",
    "    se =  np.sqrt(convertion_rate * (1-convertion_rate)) / np.sqrt(len(data))\n",
    "    \n",
    "    t_score = st.t.ppf(1-alpha/2, len(data) - 1)\n",
    "\n",
    "    lower = convertion_rate - t_score * se\n",
    "    upper = convertion_rate + t_score * se\n",
    "    \n",
    "    t = (mu_2 - mu_1) / (np.sqrt(sigma_2**2/n + sigma_1**2/n))\n",
    "\n",
    "    \n",
    "    return lower, upper, t_score"
   ]
  },
  {
   "cell_type": "code",
   "execution_count": 27,
   "metadata": {
    "colab": {},
    "colab_type": "code",
    "id": "OrFhd4G0LpM8"
   },
   "outputs": [
    {
     "data": {
      "text/plain": [
       "(0.7291396031343815, 0.7409674412259233, 1.9600748859601018)"
      ]
     },
     "execution_count": 27,
     "metadata": {},
     "output_type": "execute_result"
    }
   ],
   "source": [
    "ttest_ind(df, 'premium', 'desktop') "
   ]
  },
  {
   "cell_type": "code",
   "execution_count": 28,
   "metadata": {},
   "outputs": [
    {
     "data": {
      "text/plain": [
       "(0.6902208118003856, 0.697815672679569, 1.9600059198271116)"
      ]
     },
     "execution_count": 28,
     "metadata": {},
     "output_type": "execute_result"
    }
   ],
   "source": [
    "ttest_ind(df, 'standard', 'desktop')"
   ]
  },
  {
   "cell_type": "code",
   "execution_count": 29,
   "metadata": {},
   "outputs": [
    {
     "data": {
      "text/plain": [
       "(0.6062187569609947, 0.6453776670492224, 1.9609748336798793)"
      ]
     },
     "execution_count": 29,
     "metadata": {},
     "output_type": "execute_result"
    }
   ],
   "source": [
    "ttest_ind(df, 'premium', 'mobile') "
   ]
  },
  {
   "cell_type": "code",
   "execution_count": 30,
   "metadata": {},
   "outputs": [
    {
     "data": {
      "text/plain": [
       "(0.5474518212624, 0.5678567664819445, 1.9602245645790968)"
      ]
     },
     "execution_count": 30,
     "metadata": {},
     "output_type": "execute_result"
    }
   ],
   "source": [
    "ttest_ind(df, 'standard', 'mobile') "
   ]
  },
  {
   "cell_type": "code",
   "execution_count": 31,
   "metadata": {},
   "outputs": [
    {
     "name": "stdout",
     "output_type": "stream",
     "text": [
      "1.9599877077718446 29.321913142542687\n"
     ]
    },
    {
     "data": {
      "text/plain": [
       "False"
      ]
     },
     "execution_count": 31,
     "metadata": {},
     "output_type": "execute_result"
    }
   ],
   "source": [
    "def ttest_ind_2(data, arr1, arr2):\n",
    "    \n",
    "    mean_1 = df['is_paid_order'][df['device'] == arr1].mean()\n",
    "    mean_2 = df['is_paid_order'][df['device'] == arr2].mean()\n",
    "    \n",
    "    sigma_0 = np.std(df['is_paid_order'][df['device'] == arr1], ddof=1)\n",
    "    sigma_1 = np.std(df['is_paid_order'][df['device'] == arr2], ddof=1)\n",
    "    \n",
    "    n1 = len(df['is_paid_order'][df['device'] == arr1])\n",
    "    n2 = len(df['is_paid_order'][df['device'] == arr2])\n",
    "    \n",
    "    t_crit = st.t.ppf(1-0.05/2, n1+n2-1)\n",
    "    \n",
    "    t_calc = abs((mean_1 - mean_2)) / (np.sqrt(sigma_0**2/n1 + sigma_1**2/n2))\n",
    "    \n",
    "    print(t_crit, t_calc)\n",
    "\n",
    "    return t_calc <= t_crit\n",
    "\n",
    "ttest_ind_2(df, 'desktop', 'mobile')"
   ]
  },
  {
   "cell_type": "markdown",
   "metadata": {
    "colab_type": "text",
    "id": "Kr_6K5CDLs-J"
   },
   "source": [
    "### C. conversion timeseries plot\n",
    "\n",
    "Sample data by different time periods (1 hour, day, week, month) and plot the conversion rate timeseries (dependency on time) and its 95% significance confidence interval (CI). \n",
    "\n",
    "What time period of sampling would you use for conversion timeseries presentation? Why?\n",
    "\n",
    "**Hint:** in order to sample data you can use `pandas` `resample` function for grouping and then process the samples using `apply`.\n",
    "\n",
    "\n",
    "**Hint 2:** in order to visualize CI you can use `matplotlib` `fill_between` function."
   ]
  },
  {
   "cell_type": "code",
   "execution_count": 34,
   "metadata": {},
   "outputs": [
    {
     "data": {
      "text/plain": [
       "<matplotlib.axes._subplots.AxesSubplot at 0x7fe9cebdaa58>"
      ]
     },
     "execution_count": 34,
     "metadata": {},
     "output_type": "execute_result"
    },
    {
     "data": {
      "image/png": "[encoded data removed]",
      "text/plain": [
       "<Figure size 432x288 with 1 Axes>"
      ]
     },
     "metadata": {
      "needs_background": "light"
     },
     "output_type": "display_data"
    }
   ],
   "source": [
    "import matplotlib.pyplot as plt\n",
    "\n",
    "df.groupby(df['order_date'].dt.hour)[['is_paid_order']].mean().plot()"
   ]
  },
  {
   "cell_type": "code",
   "execution_count": 35,
   "metadata": {},
   "outputs": [
    {
     "data": {
      "text/plain": [
       "<matplotlib.axes._subplots.AxesSubplot at 0x7fe9cf33e160>"
      ]
     },
     "execution_count": 35,
     "metadata": {},
     "output_type": "execute_result"
    },
    {
     "data": {
      "image/png": "[encoded data removed]",
      "text/plain": [
       "<Figure size 432x288 with 1 Axes>"
      ]
     },
     "metadata": {
      "needs_background": "light"
     },
     "output_type": "display_data"
    }
   ],
   "source": [
    "df.groupby(df['order_date'].dt.day)[['is_paid_order']].mean().plot()"
   ]
  },
  {
   "cell_type": "code",
   "execution_count": 36,
   "metadata": {},
   "outputs": [
    {
     "data": {
      "text/plain": [
       "<matplotlib.axes._subplots.AxesSubplot at 0x7fe9cf21b6a0>"
      ]
     },
     "execution_count": 36,
     "metadata": {},
     "output_type": "execute_result"
    },
    {
     "data": {
      "image/png": "[encoded data removed]",
      "text/plain": [
       "<Figure size 432x288 with 1 Axes>"
      ]
     },
     "metadata": {
      "needs_background": "light"
     },
     "output_type": "display_data"
    }
   ],
   "source": [
    "df.groupby(df['order_date'].dt.week)[['is_paid_order']].mean().plot()"
   ]
  },
  {
   "cell_type": "code",
   "execution_count": 37,
   "metadata": {
    "colab": {},
    "colab_type": "code",
    "id": "5dNkBM8ALs-K"
   },
   "outputs": [
    {
     "data": {
      "text/plain": [
       "<matplotlib.axes._subplots.AxesSubplot at 0x7fe9cf3bc400>"
      ]
     },
     "execution_count": 37,
     "metadata": {},
     "output_type": "execute_result"
    },
    {
     "data": {
      "image/png": "[encoded data removed]",
      "text/plain": [
       "<Figure size 432x288 with 1 Axes>"
      ]
     },
     "metadata": {
      "needs_background": "light"
     },
     "output_type": "display_data"
    }
   ],
   "source": [
    "df.groupby(df['order_date'].dt.month)[['is_paid_order']].mean().plot()"
   ]
  },
  {
   "cell_type": "code",
   "execution_count": 38,
   "metadata": {},
   "outputs": [],
   "source": [
    "import scipy\n",
    "import matplotlib.pyplot as plt"
   ]
  },
  {
   "cell_type": "code",
   "execution_count": 39,
   "metadata": {},
   "outputs": [
    {
     "data": {
      "text/plain": [
       "<matplotlib.collections.PolyCollection at 0x7fe9cee01ac8>"
      ]
     },
     "execution_count": 39,
     "metadata": {},
     "output_type": "execute_result"
    },
    {
     "data": {
      "image/png": "[encoded data removed]",
      "text/plain": [
       "<Figure size 640x480 with 1 Axes>"
      ]
     },
     "metadata": {},
     "output_type": "display_data"
    }
   ],
   "source": [
    "alpha = 0.05\n",
    "number_sample = 12\n",
    "\n",
    "mean_cr = df.groupby(df['order_date'].dt.month)['is_paid_order'].sum() / \\\n",
    "        df.groupby(df['order_date'].dt.month)['is_paid_order'].count()\n",
    "\n",
    "se_cr = np.std(mean_cr, ddof=1) / np.sqrt(number_sample) \n",
    "\n",
    "t_score = st.t.ppf(1-alpha/2, number_sample -1)\n",
    "\n",
    "lower = mean_cr - t_score * se_cr\n",
    "upper = mean_cr + t_score * se_cr\n",
    "\n",
    "plt.figure(figsize=(8, 6), dpi=80, facecolor='w', edgecolor='r')\n",
    "\n",
    "\n",
    "plt.xlabel('number period is {}'.format(number_sample))\n",
    "plt.ylabel('conversion rate')\n",
    "plt.title('Dinamic of conversion rates')\n",
    "\n",
    "plt.plot(mean_cr)\n",
    "plt.fill_between(range(1,13), lower, upper, edgecolor='none', facecolor='b', alpha=0.2, interpolate=True)"
   ]
  }
 ],
 "metadata": {
  "colab": {
   "collapsed_sections": [
    "rgsImuK1xlp9",
    "1ZvHLLlq6quU",
    "c6hjIKh_8FGN",
    "jJ8HpZg_PoPE"
   ],
   "name": "2.3.7: Statistical Tests, part1: Significance testing; AB Testing; Simpson paradox || Exercises.ipynb",
   "provenance": []
  },
  "kernelspec": {
   "display_name": "Python 3",
   "language": "python",
   "name": "python3"
  },
  "language_info": {
   "codemirror_mode": {
    "name": "ipython",
    "version": 3
   },
   "file_extension": ".py",
   "mimetype": "text/x-python",
   "name": "python",
   "nbconvert_exporter": "python",
   "pygments_lexer": "ipython3",
   "version": "3.7.3"
  }
 },
 "nbformat": 4,
 "nbformat_minor": 1
}
