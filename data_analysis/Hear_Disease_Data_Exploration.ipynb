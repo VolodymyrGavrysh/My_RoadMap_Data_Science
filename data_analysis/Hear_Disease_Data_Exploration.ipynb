{
 "cells": [
  {
   "cell_type": "markdown",
   "metadata": {},
   "source": [
    "<center><img src=\"https://raw.githubusercontent.com/VolodymyrGavrysh/My_RoadMap_Data_Science/master/pictures/5F828D8129CBAFFB.jpg\" width=\"400\"></center>\n",
    "\n",
    "<center><font size=\"6\"><b>Heart Disease</b></font></center>\n",
    "\n",
    "<center><font size=\"4\"><b>Data set exploration</b></font></center>\n",
    "\n",
    "***\n"
   ]
  },
  {
   "cell_type": "markdown",
   "metadata": {},
   "source": [
    "**Motivation**\n",
    "\n",
    "After struggling with the Data Science theory one need to practice it with real task and master his ability to apply variety of different tools and libraries\n",
    "\n",
    "I have choisen well studed dataset of heart disease for two reason:\n",
    "- small amount numerical data make it easy to condact experiments faster . \n",
    "- understandable features makes it easy to interpreted the results.\n",
    "- it is possible to compare your results with well studied data"
   ]
  },
  {
   "cell_type": "markdown",
   "metadata": {},
   "source": [
    "--------------------------------------------------"
   ]
  },
  {
   "cell_type": "markdown",
   "metadata": {
    "colab_type": "text",
    "id": "ldtHLb-fiJpH"
   },
   "source": [
    "In the task we will investigate **Heart Disease Data Set** applying different ensemble learning technics.\n",
    "\n",
    "This dataset provides information on the risk factors for\n",
    "heart disease. The [original](https://archive.ics.uci.edu/ml/datasets/Heart+Disease) database contains 76 attributes, but all published experiments refer to using a subset of 14 of thema and is refferenced as Cleveland dataset ([link](https://raw.githubusercontent.com/devrepublik/data-science-course/master/data/boosting/heart.csv)).\n",
    "\n",
    "Experiments with the Cleveland database have concentrated on attempting to distinguish presence (value 1) or absence (value 0) of heart disease in the patient.\n",
    "\n",
    "This is a typical **binary classification task.**"
   ]
  },
  {
   "cell_type": "markdown",
   "metadata": {
    "colab_type": "text",
    "id": "lcKC_HA6iGi9"
   },
   "source": [
    "### Attribute Information:\n",
    "\n",
    "> 1. **Age**: Age\n",
    "> 2. **Sex**: Sex (1 = male; 0 = female)\n",
    "> 3. **ChestPain**: Chest pain (typical, asymptotic, nonanginal, nontypical)\n",
    "> 4. **RestBP**: Resting blood pressure\n",
    "> 5. **Chol**: Serum cholestoral in mg/dl\n",
    "> 6. **Fbs**: Fasting blood sugar > 120 mg/dl (1 = true; 0 = false)\n",
    "> 7. **RestECG**: Resting electrocardiographic results\n",
    "> 8. **MaxHR**: Maximum heart rate achieved\n",
    "> 9. **ExAng**: Exercise induced angina (1 = yes; 0 = no)\n",
    "> 10. **Oldpeak**: ST depression induced by exercise relative to rest\n",
    "> 11. **Slope**: Slope of the peak exercise ST segment\n",
    "> 12. **Ca**: Number of major vessels colored by flourosopy (0 - 3)\n",
    "> 13. **Thal**: (3 = normal; 6 = fixed defect; 7 = reversable defect)\n",
    "> 14. **target**: AHD - Diagnosis of heart disease (1 = yes; 0 = no)"
   ]
  },
  {
   "cell_type": "markdown",
   "metadata": {
    "colab_type": "text",
    "id": "SkeuUHy2GR8o"
   },
   "source": [
    "## Strategy"
   ]
  },
  {
   "cell_type": "markdown",
   "metadata": {
    "colab_type": "text",
    "id": "rgsImuK1xlp9"
   },
   "source": [
    "1. Short Data visualization. This task details the visualization aspect of the data analysis.\n",
    "2. Data cleaning. This task relates to the data cleaning aspect of the analysis.\n",
    "3. Insights generation. Analysis might leads to insights generation to generate unique and visually understandable insights.\n",
    "4. Feature engineering. This task relates to the feature engineering aspect of the analysis.\n",
    "5. Start analysis with Random Forest model. Compare than two simple model - decision tree and random forest.\n",
    "6. Continue with AdaBoost model with selected features. Use Cross validation and explore partial effects of features on model.\n",
    "7. Compare models results during Grid Search process. Find best performed model with best model parameters.\n",
    "8. Conclusion."
   ]
  },
  {
   "cell_type": "markdown",
   "metadata": {},
   "source": [
    "## Evaluation method"
   ]
  },
  {
   "cell_type": "markdown",
   "metadata": {},
   "source": [
    "\n",
    "Measurement of any model ability to generalize data requires a clear metric.\n",
    "\n",
    "Here will use well-studied several metrics at the same time. In conclusion we may select the one that might be more important to some  observer.\n",
    "\n",
    "Since we are limited with data (almost always), a part of it will be used to train the model (80%), and the rest of the data (20%) will be used solely to evaluate with mentioned metrics. \n",
    "\n",
    "More details here - \"Model Evaluation, Model Selection, and Algorithm Selection in Machine Learning\" (https://arxiv.org/abs/1811.12808)"
   ]
  },
  {
   "cell_type": "markdown",
   "metadata": {
    "colab_type": "text",
    "id": "E9H0ndWyGUZV"
   },
   "source": [
    "## Solution\n"
   ]
  },
  {
   "cell_type": "code",
   "execution_count": 68,
   "metadata": {},
   "outputs": [],
   "source": [
    "### Libraries\n",
    "\n",
    "import pandas as pd\n",
    "import numpy as np\n",
    "import time\n",
    "import gc\n",
    "from tqdm import tqdm\n",
    "import warnings\n",
    "warnings.filterwarnings(\"ignore\")\n",
    "\n",
    "# https://matplotlib.org/\n",
    "import matplotlib.pyplot as plt \n",
    "\n",
    "# https://seaborn.pydata.org/\n",
    "import seaborn as sns \n",
    "\n",
    "# https://scikit-learn.org/stable/about.html#citing-scikit-learn\n",
    "from sklearn.model_selection import train_test_split, GridSearchCV, StratifiedKFold, KFold, cross_val_score, RandomizedSearchCV\n",
    "from sklearn.ensemble import RandomForestClassifier, GradientBoostingClassifier, AdaBoostClassifier, ExtraTreesClassifier\n",
    "from sklearn.metrics import roc_curve, roc_auc_score, plot_roc_curve, mean_squared_error\n",
    "from sklearn.pipeline import Pipeline\n",
    "from sklearn.linear_model import SGDClassifier\n",
    "from sklearn.preprocessing import LabelEncoder, StandardScaler\n",
    "from sklearn.inspection import plot_partial_dependence, partial_dependence\n",
    "from sklearn.decomposition import PCA\n",
    "from sklearn.ensemble import BaggingClassifier\n",
    "from sklearn.tree import DecisionTreeClassifier\n",
    "from sklearn.linear_model import LogisticRegression\n",
    "from sklearn.neighbors import KNeighborsClassifier\n",
    "from sklearn.svm import SVC # support vector classifier\n",
    "from sklearn.naive_bayes import GaussianNB\n",
    "from sklearn.linear_model import LogisticRegression\n",
    "\n",
    "# catboost.ai\n",
    "from catboost import CatBoostClassifier, Pool, cv\n",
    "\n",
    "#https://xgboost.readthedocs.io/en/latest/index.html\n",
    "import xgboost"
   ]
  },
  {
   "cell_type": "markdown",
   "metadata": {},
   "source": [
    "### 1. Load dataset:"
   ]
  },
  {
   "cell_type": "code",
   "execution_count": 2,
   "metadata": {
    "colab": {},
    "colab_type": "code",
    "id": "jeYnpyXpfo-6"
   },
   "outputs": [
    {
     "data": {
      "text/html": [
       "<div>\n",
       "<style scoped>\n",
       "    .dataframe tbody tr th:only-of-type {\n",
       "        vertical-align: middle;\n",
       "    }\n",
       "\n",
       "    .dataframe tbody tr th {\n",
       "        vertical-align: top;\n",
       "    }\n",
       "\n",
       "    .dataframe thead th {\n",
       "        text-align: right;\n",
       "    }\n",
       "</style>\n",
       "<table border=\"1\" class=\"dataframe\">\n",
       "  <thead>\n",
       "    <tr style=\"text-align: right;\">\n",
       "      <th></th>\n",
       "      <th>age</th>\n",
       "      <th>sex</th>\n",
       "      <th>cp</th>\n",
       "      <th>trestbps</th>\n",
       "      <th>chol</th>\n",
       "      <th>fbs</th>\n",
       "      <th>restecg</th>\n",
       "      <th>thalach</th>\n",
       "      <th>exang</th>\n",
       "      <th>oldpeak</th>\n",
       "      <th>slope</th>\n",
       "      <th>ca</th>\n",
       "      <th>thal</th>\n",
       "      <th>target</th>\n",
       "    </tr>\n",
       "  </thead>\n",
       "  <tbody>\n",
       "    <tr>\n",
       "      <th>0</th>\n",
       "      <td>63</td>\n",
       "      <td>1</td>\n",
       "      <td>3</td>\n",
       "      <td>145</td>\n",
       "      <td>233</td>\n",
       "      <td>1</td>\n",
       "      <td>0</td>\n",
       "      <td>150</td>\n",
       "      <td>0</td>\n",
       "      <td>2.3</td>\n",
       "      <td>0</td>\n",
       "      <td>0</td>\n",
       "      <td>1</td>\n",
       "      <td>1</td>\n",
       "    </tr>\n",
       "    <tr>\n",
       "      <th>1</th>\n",
       "      <td>37</td>\n",
       "      <td>1</td>\n",
       "      <td>2</td>\n",
       "      <td>130</td>\n",
       "      <td>250</td>\n",
       "      <td>0</td>\n",
       "      <td>1</td>\n",
       "      <td>187</td>\n",
       "      <td>0</td>\n",
       "      <td>3.5</td>\n",
       "      <td>0</td>\n",
       "      <td>0</td>\n",
       "      <td>2</td>\n",
       "      <td>1</td>\n",
       "    </tr>\n",
       "  </tbody>\n",
       "</table>\n",
       "</div>"
      ],
      "text/plain": [
       "   age  sex  cp  trestbps  chol  fbs  restecg  thalach  exang  oldpeak  slope  \\\n",
       "0   63    1   3       145   233    1        0      150      0      2.3      0   \n",
       "1   37    1   2       130   250    0        1      187      0      3.5      0   \n",
       "\n",
       "   ca  thal  target  \n",
       "0   0     1       1  \n",
       "1   0     2       1  "
      ]
     },
     "metadata": {},
     "output_type": "display_data"
    },
    {
     "data": {
      "text/plain": [
       "'Dataset is small with only 303 observation'"
      ]
     },
     "metadata": {},
     "output_type": "display_data"
    }
   ],
   "source": [
    "# Original ([link](https://raw.githubusercontent.com/devrepublik/data-science-course/master/data/boosting/heart.csv))\n",
    "df = pd.read_csv('heart.csv') # check your path\n",
    "display(df.head(2), 'Dataset is small with only {} observation'.format(df.shape[0]))"
   ]
  },
  {
   "cell_type": "markdown",
   "metadata": {},
   "source": [
    "#### Check data types and missing values"
   ]
  },
  {
   "cell_type": "code",
   "execution_count": 3,
   "metadata": {},
   "outputs": [
    {
     "data": {
      "text/plain": [
       "False"
      ]
     },
     "execution_count": 3,
     "metadata": {},
     "output_type": "execute_result"
    }
   ],
   "source": [
    "assert df.dtypes.any() != object\n",
    "df.isnull().values.any() # check if there are missing values "
   ]
  },
  {
   "cell_type": "markdown",
   "metadata": {},
   "source": [
    "There is only numerical features. No NaN. No missing values. Nice! )"
   ]
  },
  {
   "cell_type": "markdown",
   "metadata": {},
   "source": [
    "## 2. Short Data visualization."
   ]
  },
  {
   "cell_type": "markdown",
   "metadata": {},
   "source": [
    "### Features correlation"
   ]
  },
  {
   "cell_type": "code",
   "execution_count": 4,
   "metadata": {},
   "outputs": [
    {
     "data": {
      "text/html": [
       "<style  type=\"text/css\" >\n",
       "    #T_48419f2a_3932_11ea_bb93_58a023c013efrow0_col0 {\n",
       "            background-color:  #b40426;\n",
       "            color:  #f1f1f1;\n",
       "        }    #T_48419f2a_3932_11ea_bb93_58a023c013efrow0_col1 {\n",
       "            background-color:  #8fb1fe;\n",
       "            color:  #000000;\n",
       "        }    #T_48419f2a_3932_11ea_bb93_58a023c013efrow0_col2 {\n",
       "            background-color:  #aac7fd;\n",
       "            color:  #000000;\n",
       "        }    #T_48419f2a_3932_11ea_bb93_58a023c013efrow0_col3 {\n",
       "            background-color:  #cfdaea;\n",
       "            color:  #000000;\n",
       "        }    #T_48419f2a_3932_11ea_bb93_58a023c013efrow0_col4 {\n",
       "            background-color:  #c9d7f0;\n",
       "            color:  #000000;\n",
       "        }    #T_48419f2a_3932_11ea_bb93_58a023c013efrow0_col5 {\n",
       "            background-color:  #9dbdff;\n",
       "            color:  #000000;\n",
       "        }    #T_48419f2a_3932_11ea_bb93_58a023c013efrow0_col6 {\n",
       "            background-color:  #6c8ff1;\n",
       "            color:  #000000;\n",
       "        }    #T_48419f2a_3932_11ea_bb93_58a023c013efrow0_col7 {\n",
       "            background-color:  #6384eb;\n",
       "            color:  #000000;\n",
       "        }    #T_48419f2a_3932_11ea_bb93_58a023c013efrow0_col8 {\n",
       "            background-color:  #d1dae9;\n",
       "            color:  #000000;\n",
       "        }    #T_48419f2a_3932_11ea_bb93_58a023c013efrow0_col9 {\n",
       "            background-color:  #ecd3c5;\n",
       "            color:  #000000;\n",
       "        }    #T_48419f2a_3932_11ea_bb93_58a023c013efrow0_col10 {\n",
       "            background-color:  #b2ccfb;\n",
       "            color:  #000000;\n",
       "        }    #T_48419f2a_3932_11ea_bb93_58a023c013efrow0_col11 {\n",
       "            background-color:  #e9d5cb;\n",
       "            color:  #000000;\n",
       "        }    #T_48419f2a_3932_11ea_bb93_58a023c013efrow0_col12 {\n",
       "            background-color:  #bfd3f6;\n",
       "            color:  #000000;\n",
       "        }    #T_48419f2a_3932_11ea_bb93_58a023c013efrow0_col13 {\n",
       "            background-color:  #90b2fe;\n",
       "            color:  #000000;\n",
       "        }    #T_48419f2a_3932_11ea_bb93_58a023c013efrow1_col0 {\n",
       "            background-color:  #a5c3fe;\n",
       "            color:  #000000;\n",
       "        }    #T_48419f2a_3932_11ea_bb93_58a023c013efrow1_col1 {\n",
       "            background-color:  #b40426;\n",
       "            color:  #f1f1f1;\n",
       "        }    #T_48419f2a_3932_11ea_bb93_58a023c013efrow1_col2 {\n",
       "            background-color:  #aec9fc;\n",
       "            color:  #000000;\n",
       "        }    #T_48419f2a_3932_11ea_bb93_58a023c013efrow1_col3 {\n",
       "            background-color:  #7a9df8;\n",
       "            color:  #000000;\n",
       "        }    #T_48419f2a_3932_11ea_bb93_58a023c013efrow1_col4 {\n",
       "            background-color:  #6384eb;\n",
       "            color:  #000000;\n",
       "        }    #T_48419f2a_3932_11ea_bb93_58a023c013efrow1_col5 {\n",
       "            background-color:  #86a9fc;\n",
       "            color:  #000000;\n",
       "        }    #T_48419f2a_3932_11ea_bb93_58a023c013efrow1_col6 {\n",
       "            background-color:  #7b9ff9;\n",
       "            color:  #000000;\n",
       "        }    #T_48419f2a_3932_11ea_bb93_58a023c013efrow1_col7 {\n",
       "            background-color:  #afcafc;\n",
       "            color:  #000000;\n",
       "        }    #T_48419f2a_3932_11ea_bb93_58a023c013efrow1_col8 {\n",
       "            background-color:  #d8dce2;\n",
       "            color:  #000000;\n",
       "        }    #T_48419f2a_3932_11ea_bb93_58a023c013efrow1_col9 {\n",
       "            background-color:  #dddcdc;\n",
       "            color:  #000000;\n",
       "        }    #T_48419f2a_3932_11ea_bb93_58a023c013efrow1_col10 {\n",
       "            background-color:  #cad8ef;\n",
       "            color:  #000000;\n",
       "        }    #T_48419f2a_3932_11ea_bb93_58a023c013efrow1_col11 {\n",
       "            background-color:  #cedaeb;\n",
       "            color:  #000000;\n",
       "        }    #T_48419f2a_3932_11ea_bb93_58a023c013efrow1_col12 {\n",
       "            background-color:  #dadce0;\n",
       "            color:  #000000;\n",
       "        }    #T_48419f2a_3932_11ea_bb93_58a023c013efrow1_col13 {\n",
       "            background-color:  #84a7fc;\n",
       "            color:  #000000;\n",
       "        }    #T_48419f2a_3932_11ea_bb93_58a023c013efrow2_col0 {\n",
       "            background-color:  #aac7fd;\n",
       "            color:  #000000;\n",
       "        }    #T_48419f2a_3932_11ea_bb93_58a023c013efrow2_col1 {\n",
       "            background-color:  #9abbff;\n",
       "            color:  #000000;\n",
       "        }    #T_48419f2a_3932_11ea_bb93_58a023c013efrow2_col2 {\n",
       "            background-color:  #b40426;\n",
       "            color:  #f1f1f1;\n",
       "        }    #T_48419f2a_3932_11ea_bb93_58a023c013efrow2_col3 {\n",
       "            background-color:  #96b7ff;\n",
       "            color:  #000000;\n",
       "        }    #T_48419f2a_3932_11ea_bb93_58a023c013efrow2_col4 {\n",
       "            background-color:  #81a4fb;\n",
       "            color:  #000000;\n",
       "        }    #T_48419f2a_3932_11ea_bb93_58a023c013efrow2_col5 {\n",
       "            background-color:  #96b7ff;\n",
       "            color:  #000000;\n",
       "        }    #T_48419f2a_3932_11ea_bb93_58a023c013efrow2_col6 {\n",
       "            background-color:  #97b8ff;\n",
       "            color:  #000000;\n",
       "        }    #T_48419f2a_3932_11ea_bb93_58a023c013efrow2_col7 {\n",
       "            background-color:  #ebd3c6;\n",
       "            color:  #000000;\n",
       "        }    #T_48419f2a_3932_11ea_bb93_58a023c013efrow2_col8 {\n",
       "            background-color:  #6b8df0;\n",
       "            color:  #000000;\n",
       "        }    #T_48419f2a_3932_11ea_bb93_58a023c013efrow2_col9 {\n",
       "            background-color:  #b5cdfa;\n",
       "            color:  #000000;\n",
       "        }    #T_48419f2a_3932_11ea_bb93_58a023c013efrow2_col10 {\n",
       "            background-color:  #e0dbd8;\n",
       "            color:  #000000;\n",
       "        }    #T_48419f2a_3932_11ea_bb93_58a023c013efrow2_col11 {\n",
       "            background-color:  #92b4fe;\n",
       "            color:  #000000;\n",
       "        }    #T_48419f2a_3932_11ea_bb93_58a023c013efrow2_col12 {\n",
       "            background-color:  #8caffe;\n",
       "            color:  #000000;\n",
       "        }    #T_48419f2a_3932_11ea_bb93_58a023c013efrow2_col13 {\n",
       "            background-color:  #f7ba9f;\n",
       "            color:  #000000;\n",
       "        }    #T_48419f2a_3932_11ea_bb93_58a023c013efrow3_col0 {\n",
       "            background-color:  #ead5c9;\n",
       "            color:  #000000;\n",
       "        }    #T_48419f2a_3932_11ea_bb93_58a023c013efrow3_col1 {\n",
       "            background-color:  #98b9ff;\n",
       "            color:  #000000;\n",
       "        }    #T_48419f2a_3932_11ea_bb93_58a023c013efrow3_col2 {\n",
       "            background-color:  #c1d4f4;\n",
       "            color:  #000000;\n",
       "        }    #T_48419f2a_3932_11ea_bb93_58a023c013efrow3_col3 {\n",
       "            background-color:  #b40426;\n",
       "            color:  #f1f1f1;\n",
       "        }    #T_48419f2a_3932_11ea_bb93_58a023c013efrow3_col4 {\n",
       "            background-color:  #b5cdfa;\n",
       "            color:  #000000;\n",
       "        }    #T_48419f2a_3932_11ea_bb93_58a023c013efrow3_col5 {\n",
       "            background-color:  #adc9fd;\n",
       "            color:  #000000;\n",
       "        }    #T_48419f2a_3932_11ea_bb93_58a023c013efrow3_col6 {\n",
       "            background-color:  #6c8ff1;\n",
       "            color:  #000000;\n",
       "        }    #T_48419f2a_3932_11ea_bb93_58a023c013efrow3_col7 {\n",
       "            background-color:  #afcafc;\n",
       "            color:  #000000;\n",
       "        }    #T_48419f2a_3932_11ea_bb93_58a023c013efrow3_col8 {\n",
       "            background-color:  #cbd8ee;\n",
       "            color:  #000000;\n",
       "        }    #T_48419f2a_3932_11ea_bb93_58a023c013efrow3_col9 {\n",
       "            background-color:  #ead4c8;\n",
       "            color:  #000000;\n",
       "        }    #T_48419f2a_3932_11ea_bb93_58a023c013efrow3_col10 {\n",
       "            background-color:  #bad0f8;\n",
       "            color:  #000000;\n",
       "        }    #T_48419f2a_3932_11ea_bb93_58a023c013efrow3_col11 {\n",
       "            background-color:  #ccd9ed;\n",
       "            color:  #000000;\n",
       "        }    #T_48419f2a_3932_11ea_bb93_58a023c013efrow3_col12 {\n",
       "            background-color:  #bed2f6;\n",
       "            color:  #000000;\n",
       "        }    #T_48419f2a_3932_11ea_bb93_58a023c013efrow3_col13 {\n",
       "            background-color:  #a1c0ff;\n",
       "            color:  #000000;\n",
       "        }    #T_48419f2a_3932_11ea_bb93_58a023c013efrow4_col0 {\n",
       "            background-color:  #dfdbd9;\n",
       "            color:  #000000;\n",
       "        }    #T_48419f2a_3932_11ea_bb93_58a023c013efrow4_col1 {\n",
       "            background-color:  #7699f6;\n",
       "            color:  #000000;\n",
       "        }    #T_48419f2a_3932_11ea_bb93_58a023c013efrow4_col2 {\n",
       "            background-color:  #a9c6fd;\n",
       "            color:  #000000;\n",
       "        }    #T_48419f2a_3932_11ea_bb93_58a023c013efrow4_col3 {\n",
       "            background-color:  #aac7fd;\n",
       "            color:  #000000;\n",
       "        }    #T_48419f2a_3932_11ea_bb93_58a023c013efrow4_col4 {\n",
       "            background-color:  #b40426;\n",
       "            color:  #f1f1f1;\n",
       "        }    #T_48419f2a_3932_11ea_bb93_58a023c013efrow4_col5 {\n",
       "            background-color:  #7ea1fa;\n",
       "            color:  #000000;\n",
       "        }    #T_48419f2a_3932_11ea_bb93_58a023c013efrow4_col6 {\n",
       "            background-color:  #6384eb;\n",
       "            color:  #000000;\n",
       "        }    #T_48419f2a_3932_11ea_bb93_58a023c013efrow4_col7 {\n",
       "            background-color:  #b7cff9;\n",
       "            color:  #000000;\n",
       "        }    #T_48419f2a_3932_11ea_bb93_58a023c013efrow4_col8 {\n",
       "            background-color:  #cbd8ee;\n",
       "            color:  #000000;\n",
       "        }    #T_48419f2a_3932_11ea_bb93_58a023c013efrow4_col9 {\n",
       "            background-color:  #d7dce3;\n",
       "            color:  #000000;\n",
       "        }    #T_48419f2a_3932_11ea_bb93_58a023c013efrow4_col10 {\n",
       "            background-color:  #cedaeb;\n",
       "            color:  #000000;\n",
       "        }    #T_48419f2a_3932_11ea_bb93_58a023c013efrow4_col11 {\n",
       "            background-color:  #c6d6f1;\n",
       "            color:  #000000;\n",
       "        }    #T_48419f2a_3932_11ea_bb93_58a023c013efrow4_col12 {\n",
       "            background-color:  #c5d6f2;\n",
       "            color:  #000000;\n",
       "        }    #T_48419f2a_3932_11ea_bb93_58a023c013efrow4_col13 {\n",
       "            background-color:  #adc9fd;\n",
       "            color:  #000000;\n",
       "        }    #T_48419f2a_3932_11ea_bb93_58a023c013efrow5_col0 {\n",
       "            background-color:  #d1dae9;\n",
       "            color:  #000000;\n",
       "        }    #T_48419f2a_3932_11ea_bb93_58a023c013efrow5_col1 {\n",
       "            background-color:  #b1cbfc;\n",
       "            color:  #000000;\n",
       "        }    #T_48419f2a_3932_11ea_bb93_58a023c013efrow5_col2 {\n",
       "            background-color:  #cbd8ee;\n",
       "            color:  #000000;\n",
       "        }    #T_48419f2a_3932_11ea_bb93_58a023c013efrow5_col3 {\n",
       "            background-color:  #b9d0f9;\n",
       "            color:  #000000;\n",
       "        }    #T_48419f2a_3932_11ea_bb93_58a023c013efrow5_col4 {\n",
       "            background-color:  #98b9ff;\n",
       "            color:  #000000;\n",
       "        }    #T_48419f2a_3932_11ea_bb93_58a023c013efrow5_col5 {\n",
       "            background-color:  #b40426;\n",
       "            color:  #f1f1f1;\n",
       "        }    #T_48419f2a_3932_11ea_bb93_58a023c013efrow5_col6 {\n",
       "            background-color:  #7597f6;\n",
       "            color:  #000000;\n",
       "        }    #T_48419f2a_3932_11ea_bb93_58a023c013efrow5_col7 {\n",
       "            background-color:  #b7cff9;\n",
       "            color:  #000000;\n",
       "        }    #T_48419f2a_3932_11ea_bb93_58a023c013efrow5_col8 {\n",
       "            background-color:  #c4d5f3;\n",
       "            color:  #000000;\n",
       "        }    #T_48419f2a_3932_11ea_bb93_58a023c013efrow5_col9 {\n",
       "            background-color:  #cfdaea;\n",
       "            color:  #000000;\n",
       "        }    #T_48419f2a_3932_11ea_bb93_58a023c013efrow5_col10 {\n",
       "            background-color:  #c5d6f2;\n",
       "            color:  #000000;\n",
       "        }    #T_48419f2a_3932_11ea_bb93_58a023c013efrow5_col11 {\n",
       "            background-color:  #d3dbe7;\n",
       "            color:  #000000;\n",
       "        }    #T_48419f2a_3932_11ea_bb93_58a023c013efrow5_col12 {\n",
       "            background-color:  #aac7fd;\n",
       "            color:  #000000;\n",
       "        }    #T_48419f2a_3932_11ea_bb93_58a023c013efrow5_col13 {\n",
       "            background-color:  #b9d0f9;\n",
       "            color:  #000000;\n",
       "        }    #T_48419f2a_3932_11ea_bb93_58a023c013efrow6_col0 {\n",
       "            background-color:  #a1c0ff;\n",
       "            color:  #000000;\n",
       "        }    #T_48419f2a_3932_11ea_bb93_58a023c013efrow6_col1 {\n",
       "            background-color:  #98b9ff;\n",
       "            color:  #000000;\n",
       "        }    #T_48419f2a_3932_11ea_bb93_58a023c013efrow6_col2 {\n",
       "            background-color:  #c1d4f4;\n",
       "            color:  #000000;\n",
       "        }    #T_48419f2a_3932_11ea_bb93_58a023c013efrow6_col3 {\n",
       "            background-color:  #6b8df0;\n",
       "            color:  #000000;\n",
       "        }    #T_48419f2a_3932_11ea_bb93_58a023c013efrow6_col4 {\n",
       "            background-color:  #6f92f3;\n",
       "            color:  #000000;\n",
       "        }    #T_48419f2a_3932_11ea_bb93_58a023c013efrow6_col5 {\n",
       "            background-color:  #6384eb;\n",
       "            color:  #000000;\n",
       "        }    #T_48419f2a_3932_11ea_bb93_58a023c013efrow6_col6 {\n",
       "            background-color:  #b40426;\n",
       "            color:  #f1f1f1;\n",
       "        }    #T_48419f2a_3932_11ea_bb93_58a023c013efrow6_col7 {\n",
       "            background-color:  #c1d4f4;\n",
       "            color:  #000000;\n",
       "        }    #T_48419f2a_3932_11ea_bb93_58a023c013efrow6_col8 {\n",
       "            background-color:  #b1cbfc;\n",
       "            color:  #000000;\n",
       "        }    #T_48419f2a_3932_11ea_bb93_58a023c013efrow6_col9 {\n",
       "            background-color:  #c5d6f2;\n",
       "            color:  #000000;\n",
       "        }    #T_48419f2a_3932_11ea_bb93_58a023c013efrow6_col10 {\n",
       "            background-color:  #dddcdc;\n",
       "            color:  #000000;\n",
       "        }    #T_48419f2a_3932_11ea_bb93_58a023c013efrow6_col11 {\n",
       "            background-color:  #a9c6fd;\n",
       "            color:  #000000;\n",
       "        }    #T_48419f2a_3932_11ea_bb93_58a023c013efrow6_col12 {\n",
       "            background-color:  #aec9fc;\n",
       "            color:  #000000;\n",
       "        }    #T_48419f2a_3932_11ea_bb93_58a023c013efrow6_col13 {\n",
       "            background-color:  #d7dce3;\n",
       "            color:  #000000;\n",
       "        }    #T_48419f2a_3932_11ea_bb93_58a023c013efrow7_col0 {\n",
       "            background-color:  #6384eb;\n",
       "            color:  #000000;\n",
       "        }    #T_48419f2a_3932_11ea_bb93_58a023c013efrow7_col1 {\n",
       "            background-color:  #9bbcff;\n",
       "            color:  #000000;\n",
       "        }    #T_48419f2a_3932_11ea_bb93_58a023c013efrow7_col2 {\n",
       "            background-color:  #ebd3c6;\n",
       "            color:  #000000;\n",
       "        }    #T_48419f2a_3932_11ea_bb93_58a023c013efrow7_col3 {\n",
       "            background-color:  #7da0f9;\n",
       "            color:  #000000;\n",
       "        }    #T_48419f2a_3932_11ea_bb93_58a023c013efrow7_col4 {\n",
       "            background-color:  #93b5fe;\n",
       "            color:  #000000;\n",
       "        }    #T_48419f2a_3932_11ea_bb93_58a023c013efrow7_col5 {\n",
       "            background-color:  #779af7;\n",
       "            color:  #000000;\n",
       "        }    #T_48419f2a_3932_11ea_bb93_58a023c013efrow7_col6 {\n",
       "            background-color:  #97b8ff;\n",
       "            color:  #000000;\n",
       "        }    #T_48419f2a_3932_11ea_bb93_58a023c013efrow7_col7 {\n",
       "            background-color:  #b40426;\n",
       "            color:  #f1f1f1;\n",
       "        }    #T_48419f2a_3932_11ea_bb93_58a023c013efrow7_col8 {\n",
       "            background-color:  #6f92f3;\n",
       "            color:  #000000;\n",
       "        }    #T_48419f2a_3932_11ea_bb93_58a023c013efrow7_col9 {\n",
       "            background-color:  #90b2fe;\n",
       "            color:  #000000;\n",
       "        }    #T_48419f2a_3932_11ea_bb93_58a023c013efrow7_col10 {\n",
       "            background-color:  #f7b99e;\n",
       "            color:  #000000;\n",
       "        }    #T_48419f2a_3932_11ea_bb93_58a023c013efrow7_col11 {\n",
       "            background-color:  #89acfd;\n",
       "            color:  #000000;\n",
       "        }    #T_48419f2a_3932_11ea_bb93_58a023c013efrow7_col12 {\n",
       "            background-color:  #9bbcff;\n",
       "            color:  #000000;\n",
       "        }    #T_48419f2a_3932_11ea_bb93_58a023c013efrow7_col13 {\n",
       "            background-color:  #f6bda2;\n",
       "            color:  #000000;\n",
       "        }    #T_48419f2a_3932_11ea_bb93_58a023c013efrow8_col0 {\n",
       "            background-color:  #ccd9ed;\n",
       "            color:  #000000;\n",
       "        }    #T_48419f2a_3932_11ea_bb93_58a023c013efrow8_col1 {\n",
       "            background-color:  #c5d6f2;\n",
       "            color:  #000000;\n",
       "        }    #T_48419f2a_3932_11ea_bb93_58a023c013efrow8_col2 {\n",
       "            background-color:  #6384eb;\n",
       "            color:  #000000;\n",
       "        }    #T_48419f2a_3932_11ea_bb93_58a023c013efrow8_col3 {\n",
       "            background-color:  #9bbcff;\n",
       "            color:  #000000;\n",
       "        }    #T_48419f2a_3932_11ea_bb93_58a023c013efrow8_col4 {\n",
       "            background-color:  #a6c4fe;\n",
       "            color:  #000000;\n",
       "        }    #T_48419f2a_3932_11ea_bb93_58a023c013efrow8_col5 {\n",
       "            background-color:  #81a4fb;\n",
       "            color:  #000000;\n",
       "        }    #T_48419f2a_3932_11ea_bb93_58a023c013efrow8_col6 {\n",
       "            background-color:  #779af7;\n",
       "            color:  #000000;\n",
       "        }    #T_48419f2a_3932_11ea_bb93_58a023c013efrow8_col7 {\n",
       "            background-color:  #6788ee;\n",
       "            color:  #000000;\n",
       "        }    #T_48419f2a_3932_11ea_bb93_58a023c013efrow8_col8 {\n",
       "            background-color:  #b40426;\n",
       "            color:  #f1f1f1;\n",
       "        }    #T_48419f2a_3932_11ea_bb93_58a023c013efrow8_col9 {\n",
       "            background-color:  #f2c9b4;\n",
       "            color:  #000000;\n",
       "        }    #T_48419f2a_3932_11ea_bb93_58a023c013efrow8_col10 {\n",
       "            background-color:  #a1c0ff;\n",
       "            color:  #000000;\n",
       "        }    #T_48419f2a_3932_11ea_bb93_58a023c013efrow8_col11 {\n",
       "            background-color:  #cedaeb;\n",
       "            color:  #000000;\n",
       "        }    #T_48419f2a_3932_11ea_bb93_58a023c013efrow8_col12 {\n",
       "            background-color:  #d9dce1;\n",
       "            color:  #000000;\n",
       "        }    #T_48419f2a_3932_11ea_bb93_58a023c013efrow8_col13 {\n",
       "            background-color:  #6384eb;\n",
       "            color:  #000000;\n",
       "        }    #T_48419f2a_3932_11ea_bb93_58a023c013efrow9_col0 {\n",
       "            background-color:  #dfdbd9;\n",
       "            color:  #000000;\n",
       "        }    #T_48419f2a_3932_11ea_bb93_58a023c013efrow9_col1 {\n",
       "            background-color:  #bbd1f8;\n",
       "            color:  #000000;\n",
       "        }    #T_48419f2a_3932_11ea_bb93_58a023c013efrow9_col2 {\n",
       "            background-color:  #98b9ff;\n",
       "            color:  #000000;\n",
       "        }    #T_48419f2a_3932_11ea_bb93_58a023c013efrow9_col3 {\n",
       "            background-color:  #bcd2f7;\n",
       "            color:  #000000;\n",
       "        }    #T_48419f2a_3932_11ea_bb93_58a023c013efrow9_col4 {\n",
       "            background-color:  #a3c2fe;\n",
       "            color:  #000000;\n",
       "        }    #T_48419f2a_3932_11ea_bb93_58a023c013efrow9_col5 {\n",
       "            background-color:  #7b9ff9;\n",
       "            color:  #000000;\n",
       "        }    #T_48419f2a_3932_11ea_bb93_58a023c013efrow9_col6 {\n",
       "            background-color:  #7b9ff9;\n",
       "            color:  #000000;\n",
       "        }    #T_48419f2a_3932_11ea_bb93_58a023c013efrow9_col7 {\n",
       "            background-color:  #6f92f3;\n",
       "            color:  #000000;\n",
       "        }    #T_48419f2a_3932_11ea_bb93_58a023c013efrow9_col8 {\n",
       "            background-color:  #edd2c3;\n",
       "            color:  #000000;\n",
       "        }    #T_48419f2a_3932_11ea_bb93_58a023c013efrow9_col9 {\n",
       "            background-color:  #b40426;\n",
       "            color:  #f1f1f1;\n",
       "        }    #T_48419f2a_3932_11ea_bb93_58a023c013efrow9_col10 {\n",
       "            background-color:  #6384eb;\n",
       "            color:  #000000;\n",
       "        }    #T_48419f2a_3932_11ea_bb93_58a023c013efrow9_col11 {\n",
       "            background-color:  #e0dbd8;\n",
       "            color:  #000000;\n",
       "        }    #T_48419f2a_3932_11ea_bb93_58a023c013efrow9_col12 {\n",
       "            background-color:  #dadce0;\n",
       "            color:  #000000;\n",
       "        }    #T_48419f2a_3932_11ea_bb93_58a023c013efrow9_col13 {\n",
       "            background-color:  #6485ec;\n",
       "            color:  #000000;\n",
       "        }    #T_48419f2a_3932_11ea_bb93_58a023c013efrow10_col0 {\n",
       "            background-color:  #94b6ff;\n",
       "            color:  #000000;\n",
       "        }    #T_48419f2a_3932_11ea_bb93_58a023c013efrow10_col1 {\n",
       "            background-color:  #9ebeff;\n",
       "            color:  #000000;\n",
       "        }    #T_48419f2a_3932_11ea_bb93_58a023c013efrow10_col2 {\n",
       "            background-color:  #cfdaea;\n",
       "            color:  #000000;\n",
       "        }    #T_48419f2a_3932_11ea_bb93_58a023c013efrow10_col3 {\n",
       "            background-color:  #688aef;\n",
       "            color:  #000000;\n",
       "        }    #T_48419f2a_3932_11ea_bb93_58a023c013efrow10_col4 {\n",
       "            background-color:  #94b6ff;\n",
       "            color:  #000000;\n",
       "        }    #T_48419f2a_3932_11ea_bb93_58a023c013efrow10_col5 {\n",
       "            background-color:  #6a8bef;\n",
       "            color:  #000000;\n",
       "        }    #T_48419f2a_3932_11ea_bb93_58a023c013efrow10_col6 {\n",
       "            background-color:  #a3c2fe;\n",
       "            color:  #000000;\n",
       "        }    #T_48419f2a_3932_11ea_bb93_58a023c013efrow10_col7 {\n",
       "            background-color:  #f4c6af;\n",
       "            color:  #000000;\n",
       "        }    #T_48419f2a_3932_11ea_bb93_58a023c013efrow10_col8 {\n",
       "            background-color:  #89acfd;\n",
       "            color:  #000000;\n",
       "        }    #T_48419f2a_3932_11ea_bb93_58a023c013efrow10_col9 {\n",
       "            background-color:  #6384eb;\n",
       "            color:  #000000;\n",
       "        }    #T_48419f2a_3932_11ea_bb93_58a023c013efrow10_col10 {\n",
       "            background-color:  #b40426;\n",
       "            color:  #f1f1f1;\n",
       "        }    #T_48419f2a_3932_11ea_bb93_58a023c013efrow10_col11 {\n",
       "            background-color:  #a7c5fe;\n",
       "            color:  #000000;\n",
       "        }    #T_48419f2a_3932_11ea_bb93_58a023c013efrow10_col12 {\n",
       "            background-color:  #9abbff;\n",
       "            color:  #000000;\n",
       "        }    #T_48419f2a_3932_11ea_bb93_58a023c013efrow10_col13 {\n",
       "            background-color:  #f2cab5;\n",
       "            color:  #000000;\n",
       "        }    #T_48419f2a_3932_11ea_bb93_58a023c013efrow11_col0 {\n",
       "            background-color:  #e9d5cb;\n",
       "            color:  #000000;\n",
       "        }    #T_48419f2a_3932_11ea_bb93_58a023c013efrow11_col1 {\n",
       "            background-color:  #c0d4f5;\n",
       "            color:  #000000;\n",
       "        }    #T_48419f2a_3932_11ea_bb93_58a023c013efrow11_col2 {\n",
       "            background-color:  #92b4fe;\n",
       "            color:  #000000;\n",
       "        }    #T_48419f2a_3932_11ea_bb93_58a023c013efrow11_col3 {\n",
       "            background-color:  #a5c3fe;\n",
       "            color:  #000000;\n",
       "        }    #T_48419f2a_3932_11ea_bb93_58a023c013efrow11_col4 {\n",
       "            background-color:  #a7c5fe;\n",
       "            color:  #000000;\n",
       "        }    #T_48419f2a_3932_11ea_bb93_58a023c013efrow11_col5 {\n",
       "            background-color:  #a2c1ff;\n",
       "            color:  #000000;\n",
       "        }    #T_48419f2a_3932_11ea_bb93_58a023c013efrow11_col6 {\n",
       "            background-color:  #779af7;\n",
       "            color:  #000000;\n",
       "        }    #T_48419f2a_3932_11ea_bb93_58a023c013efrow11_col7 {\n",
       "            background-color:  #8badfd;\n",
       "            color:  #000000;\n",
       "        }    #T_48419f2a_3932_11ea_bb93_58a023c013efrow11_col8 {\n",
       "            background-color:  #d3dbe7;\n",
       "            color:  #000000;\n",
       "        }    #T_48419f2a_3932_11ea_bb93_58a023c013efrow11_col9 {\n",
       "            background-color:  #edd1c2;\n",
       "            color:  #000000;\n",
       "        }    #T_48419f2a_3932_11ea_bb93_58a023c013efrow11_col10 {\n",
       "            background-color:  #c1d4f4;\n",
       "            color:  #000000;\n",
       "        }    #T_48419f2a_3932_11ea_bb93_58a023c013efrow11_col11 {\n",
       "            background-color:  #b40426;\n",
       "            color:  #f1f1f1;\n",
       "        }    #T_48419f2a_3932_11ea_bb93_58a023c013efrow11_col12 {\n",
       "            background-color:  #cfdaea;\n",
       "            color:  #000000;\n",
       "        }    #T_48419f2a_3932_11ea_bb93_58a023c013efrow11_col13 {\n",
       "            background-color:  #6c8ff1;\n",
       "            color:  #000000;\n",
       "        }    #T_48419f2a_3932_11ea_bb93_58a023c013efrow12_col0 {\n",
       "            background-color:  #c6d6f1;\n",
       "            color:  #000000;\n",
       "        }    #T_48419f2a_3932_11ea_bb93_58a023c013efrow12_col1 {\n",
       "            background-color:  #d3dbe7;\n",
       "            color:  #000000;\n",
       "        }    #T_48419f2a_3932_11ea_bb93_58a023c013efrow12_col2 {\n",
       "            background-color:  #96b7ff;\n",
       "            color:  #000000;\n",
       "        }    #T_48419f2a_3932_11ea_bb93_58a023c013efrow12_col3 {\n",
       "            background-color:  #9abbff;\n",
       "            color:  #000000;\n",
       "        }    #T_48419f2a_3932_11ea_bb93_58a023c013efrow12_col4 {\n",
       "            background-color:  #aec9fc;\n",
       "            color:  #000000;\n",
       "        }    #T_48419f2a_3932_11ea_bb93_58a023c013efrow12_col5 {\n",
       "            background-color:  #7295f4;\n",
       "            color:  #000000;\n",
       "        }    #T_48419f2a_3932_11ea_bb93_58a023c013efrow12_col6 {\n",
       "            background-color:  #88abfd;\n",
       "            color:  #000000;\n",
       "        }    #T_48419f2a_3932_11ea_bb93_58a023c013efrow12_col7 {\n",
       "            background-color:  #a5c3fe;\n",
       "            color:  #000000;\n",
       "        }    #T_48419f2a_3932_11ea_bb93_58a023c013efrow12_col8 {\n",
       "            background-color:  #e2dad5;\n",
       "            color:  #000000;\n",
       "        }    #T_48419f2a_3932_11ea_bb93_58a023c013efrow12_col9 {\n",
       "            background-color:  #ecd3c5;\n",
       "            color:  #000000;\n",
       "        }    #T_48419f2a_3932_11ea_bb93_58a023c013efrow12_col10 {\n",
       "            background-color:  #bed2f6;\n",
       "            color:  #000000;\n",
       "        }    #T_48419f2a_3932_11ea_bb93_58a023c013efrow12_col11 {\n",
       "            background-color:  #d5dbe5;\n",
       "            color:  #000000;\n",
       "        }    #T_48419f2a_3932_11ea_bb93_58a023c013efrow12_col12 {\n",
       "            background-color:  #b40426;\n",
       "            color:  #f1f1f1;\n",
       "        }    #T_48419f2a_3932_11ea_bb93_58a023c013efrow12_col13 {\n",
       "            background-color:  #7699f6;\n",
       "            color:  #000000;\n",
       "        }    #T_48419f2a_3932_11ea_bb93_58a023c013efrow13_col0 {\n",
       "            background-color:  #88abfd;\n",
       "            color:  #000000;\n",
       "        }    #T_48419f2a_3932_11ea_bb93_58a023c013efrow13_col1 {\n",
       "            background-color:  #6384eb;\n",
       "            color:  #000000;\n",
       "        }    #T_48419f2a_3932_11ea_bb93_58a023c013efrow13_col2 {\n",
       "            background-color:  #f6bea4;\n",
       "            color:  #000000;\n",
       "        }    #T_48419f2a_3932_11ea_bb93_58a023c013efrow13_col3 {\n",
       "            background-color:  #6384eb;\n",
       "            color:  #000000;\n",
       "        }    #T_48419f2a_3932_11ea_bb93_58a023c013efrow13_col4 {\n",
       "            background-color:  #80a3fa;\n",
       "            color:  #000000;\n",
       "        }    #T_48419f2a_3932_11ea_bb93_58a023c013efrow13_col5 {\n",
       "            background-color:  #7295f4;\n",
       "            color:  #000000;\n",
       "        }    #T_48419f2a_3932_11ea_bb93_58a023c013efrow13_col6 {\n",
       "            background-color:  #afcafc;\n",
       "            color:  #000000;\n",
       "        }    #T_48419f2a_3932_11ea_bb93_58a023c013efrow13_col7 {\n",
       "            background-color:  #f5c0a7;\n",
       "            color:  #000000;\n",
       "        }    #T_48419f2a_3932_11ea_bb93_58a023c013efrow13_col8 {\n",
       "            background-color:  #6384eb;\n",
       "            color:  #000000;\n",
       "        }    #T_48419f2a_3932_11ea_bb93_58a023c013efrow13_col9 {\n",
       "            background-color:  #80a3fa;\n",
       "            color:  #000000;\n",
       "        }    #T_48419f2a_3932_11ea_bb93_58a023c013efrow13_col10 {\n",
       "            background-color:  #f5c0a7;\n",
       "            color:  #000000;\n",
       "        }    #T_48419f2a_3932_11ea_bb93_58a023c013efrow13_col11 {\n",
       "            background-color:  #6384eb;\n",
       "            color:  #000000;\n",
       "        }    #T_48419f2a_3932_11ea_bb93_58a023c013efrow13_col12 {\n",
       "            background-color:  #6384eb;\n",
       "            color:  #000000;\n",
       "        }    #T_48419f2a_3932_11ea_bb93_58a023c013efrow13_col13 {\n",
       "            background-color:  #b40426;\n",
       "            color:  #f1f1f1;\n",
       "        }</style><table id=\"T_48419f2a_3932_11ea_bb93_58a023c013ef\" ><thead>    <tr>        <th class=\"blank level0\" ></th>        <th class=\"col_heading level0 col0\" >age</th>        <th class=\"col_heading level0 col1\" >sex</th>        <th class=\"col_heading level0 col2\" >cp</th>        <th class=\"col_heading level0 col3\" >trestbps</th>        <th class=\"col_heading level0 col4\" >chol</th>        <th class=\"col_heading level0 col5\" >fbs</th>        <th class=\"col_heading level0 col6\" >restecg</th>        <th class=\"col_heading level0 col7\" >thalach</th>        <th class=\"col_heading level0 col8\" >exang</th>        <th class=\"col_heading level0 col9\" >oldpeak</th>        <th class=\"col_heading level0 col10\" >slope</th>        <th class=\"col_heading level0 col11\" >ca</th>        <th class=\"col_heading level0 col12\" >thal</th>        <th class=\"col_heading level0 col13\" >target</th>    </tr></thead><tbody>\n",
       "                <tr>\n",
       "                        <th id=\"T_48419f2a_3932_11ea_bb93_58a023c013eflevel0_row0\" class=\"row_heading level0 row0\" >age</th>\n",
       "                        <td id=\"T_48419f2a_3932_11ea_bb93_58a023c013efrow0_col0\" class=\"data row0 col0\" >1</td>\n",
       "                        <td id=\"T_48419f2a_3932_11ea_bb93_58a023c013efrow0_col1\" class=\"data row0 col1\" >-0.0984466</td>\n",
       "                        <td id=\"T_48419f2a_3932_11ea_bb93_58a023c013efrow0_col2\" class=\"data row0 col2\" >-0.068653</td>\n",
       "                        <td id=\"T_48419f2a_3932_11ea_bb93_58a023c013efrow0_col3\" class=\"data row0 col3\" >0.279351</td>\n",
       "                        <td id=\"T_48419f2a_3932_11ea_bb93_58a023c013efrow0_col4\" class=\"data row0 col4\" >0.213678</td>\n",
       "                        <td id=\"T_48419f2a_3932_11ea_bb93_58a023c013efrow0_col5\" class=\"data row0 col5\" >0.121308</td>\n",
       "                        <td id=\"T_48419f2a_3932_11ea_bb93_58a023c013efrow0_col6\" class=\"data row0 col6\" >-0.116211</td>\n",
       "                        <td id=\"T_48419f2a_3932_11ea_bb93_58a023c013efrow0_col7\" class=\"data row0 col7\" >-0.398522</td>\n",
       "                        <td id=\"T_48419f2a_3932_11ea_bb93_58a023c013efrow0_col8\" class=\"data row0 col8\" >0.0968008</td>\n",
       "                        <td id=\"T_48419f2a_3932_11ea_bb93_58a023c013efrow0_col9\" class=\"data row0 col9\" >0.210013</td>\n",
       "                        <td id=\"T_48419f2a_3932_11ea_bb93_58a023c013efrow0_col10\" class=\"data row0 col10\" >-0.168814</td>\n",
       "                        <td id=\"T_48419f2a_3932_11ea_bb93_58a023c013efrow0_col11\" class=\"data row0 col11\" >0.276326</td>\n",
       "                        <td id=\"T_48419f2a_3932_11ea_bb93_58a023c013efrow0_col12\" class=\"data row0 col12\" >0.0680014</td>\n",
       "                        <td id=\"T_48419f2a_3932_11ea_bb93_58a023c013efrow0_col13\" class=\"data row0 col13\" >-0.225439</td>\n",
       "            </tr>\n",
       "            <tr>\n",
       "                        <th id=\"T_48419f2a_3932_11ea_bb93_58a023c013eflevel0_row1\" class=\"row_heading level0 row1\" >sex</th>\n",
       "                        <td id=\"T_48419f2a_3932_11ea_bb93_58a023c013efrow1_col0\" class=\"data row1 col0\" >-0.0984466</td>\n",
       "                        <td id=\"T_48419f2a_3932_11ea_bb93_58a023c013efrow1_col1\" class=\"data row1 col1\" >1</td>\n",
       "                        <td id=\"T_48419f2a_3932_11ea_bb93_58a023c013efrow1_col2\" class=\"data row1 col2\" >-0.0493529</td>\n",
       "                        <td id=\"T_48419f2a_3932_11ea_bb93_58a023c013efrow1_col3\" class=\"data row1 col3\" >-0.0567688</td>\n",
       "                        <td id=\"T_48419f2a_3932_11ea_bb93_58a023c013efrow1_col4\" class=\"data row1 col4\" >-0.197912</td>\n",
       "                        <td id=\"T_48419f2a_3932_11ea_bb93_58a023c013efrow1_col5\" class=\"data row1 col5\" >0.0450318</td>\n",
       "                        <td id=\"T_48419f2a_3932_11ea_bb93_58a023c013efrow1_col6\" class=\"data row1 col6\" >-0.0581963</td>\n",
       "                        <td id=\"T_48419f2a_3932_11ea_bb93_58a023c013efrow1_col7\" class=\"data row1 col7\" >-0.0440199</td>\n",
       "                        <td id=\"T_48419f2a_3932_11ea_bb93_58a023c013efrow1_col8\" class=\"data row1 col8\" >0.141664</td>\n",
       "                        <td id=\"T_48419f2a_3932_11ea_bb93_58a023c013efrow1_col9\" class=\"data row1 col9\" >0.0960929</td>\n",
       "                        <td id=\"T_48419f2a_3932_11ea_bb93_58a023c013efrow1_col10\" class=\"data row1 col10\" >-0.0307106</td>\n",
       "                        <td id=\"T_48419f2a_3932_11ea_bb93_58a023c013efrow1_col11\" class=\"data row1 col11\" >0.118261</td>\n",
       "                        <td id=\"T_48419f2a_3932_11ea_bb93_58a023c013efrow1_col12\" class=\"data row1 col12\" >0.210041</td>\n",
       "                        <td id=\"T_48419f2a_3932_11ea_bb93_58a023c013efrow1_col13\" class=\"data row1 col13\" >-0.280937</td>\n",
       "            </tr>\n",
       "            <tr>\n",
       "                        <th id=\"T_48419f2a_3932_11ea_bb93_58a023c013eflevel0_row2\" class=\"row_heading level0 row2\" >cp</th>\n",
       "                        <td id=\"T_48419f2a_3932_11ea_bb93_58a023c013efrow2_col0\" class=\"data row2 col0\" >-0.068653</td>\n",
       "                        <td id=\"T_48419f2a_3932_11ea_bb93_58a023c013efrow2_col1\" class=\"data row2 col1\" >-0.0493529</td>\n",
       "                        <td id=\"T_48419f2a_3932_11ea_bb93_58a023c013efrow2_col2\" class=\"data row2 col2\" >1</td>\n",
       "                        <td id=\"T_48419f2a_3932_11ea_bb93_58a023c013efrow2_col3\" class=\"data row2 col3\" >0.0476078</td>\n",
       "                        <td id=\"T_48419f2a_3932_11ea_bb93_58a023c013efrow2_col4\" class=\"data row2 col4\" >-0.0769044</td>\n",
       "                        <td id=\"T_48419f2a_3932_11ea_bb93_58a023c013efrow2_col5\" class=\"data row2 col5\" >0.094444</td>\n",
       "                        <td id=\"T_48419f2a_3932_11ea_bb93_58a023c013efrow2_col6\" class=\"data row2 col6\" >0.0444206</td>\n",
       "                        <td id=\"T_48419f2a_3932_11ea_bb93_58a023c013efrow2_col7\" class=\"data row2 col7\" >0.295762</td>\n",
       "                        <td id=\"T_48419f2a_3932_11ea_bb93_58a023c013efrow2_col8\" class=\"data row2 col8\" >-0.39428</td>\n",
       "                        <td id=\"T_48419f2a_3932_11ea_bb93_58a023c013efrow2_col9\" class=\"data row2 col9\" >-0.14923</td>\n",
       "                        <td id=\"T_48419f2a_3932_11ea_bb93_58a023c013efrow2_col10\" class=\"data row2 col10\" >0.119717</td>\n",
       "                        <td id=\"T_48419f2a_3932_11ea_bb93_58a023c013efrow2_col11\" class=\"data row2 col11\" >-0.181053</td>\n",
       "                        <td id=\"T_48419f2a_3932_11ea_bb93_58a023c013efrow2_col12\" class=\"data row2 col12\" >-0.161736</td>\n",
       "                        <td id=\"T_48419f2a_3932_11ea_bb93_58a023c013efrow2_col13\" class=\"data row2 col13\" >0.433798</td>\n",
       "            </tr>\n",
       "            <tr>\n",
       "                        <th id=\"T_48419f2a_3932_11ea_bb93_58a023c013eflevel0_row3\" class=\"row_heading level0 row3\" >trestbps</th>\n",
       "                        <td id=\"T_48419f2a_3932_11ea_bb93_58a023c013efrow3_col0\" class=\"data row3 col0\" >0.279351</td>\n",
       "                        <td id=\"T_48419f2a_3932_11ea_bb93_58a023c013efrow3_col1\" class=\"data row3 col1\" >-0.0567688</td>\n",
       "                        <td id=\"T_48419f2a_3932_11ea_bb93_58a023c013efrow3_col2\" class=\"data row3 col2\" >0.0476078</td>\n",
       "                        <td id=\"T_48419f2a_3932_11ea_bb93_58a023c013efrow3_col3\" class=\"data row3 col3\" >1</td>\n",
       "                        <td id=\"T_48419f2a_3932_11ea_bb93_58a023c013efrow3_col4\" class=\"data row3 col4\" >0.123174</td>\n",
       "                        <td id=\"T_48419f2a_3932_11ea_bb93_58a023c013efrow3_col5\" class=\"data row3 col5\" >0.177531</td>\n",
       "                        <td id=\"T_48419f2a_3932_11ea_bb93_58a023c013efrow3_col6\" class=\"data row3 col6\" >-0.114103</td>\n",
       "                        <td id=\"T_48419f2a_3932_11ea_bb93_58a023c013efrow3_col7\" class=\"data row3 col7\" >-0.0466977</td>\n",
       "                        <td id=\"T_48419f2a_3932_11ea_bb93_58a023c013efrow3_col8\" class=\"data row3 col8\" >0.0676161</td>\n",
       "                        <td id=\"T_48419f2a_3932_11ea_bb93_58a023c013efrow3_col9\" class=\"data row3 col9\" >0.193216</td>\n",
       "                        <td id=\"T_48419f2a_3932_11ea_bb93_58a023c013efrow3_col10\" class=\"data row3 col10\" >-0.121475</td>\n",
       "                        <td id=\"T_48419f2a_3932_11ea_bb93_58a023c013efrow3_col11\" class=\"data row3 col11\" >0.101389</td>\n",
       "                        <td id=\"T_48419f2a_3932_11ea_bb93_58a023c013efrow3_col12\" class=\"data row3 col12\" >0.0622099</td>\n",
       "                        <td id=\"T_48419f2a_3932_11ea_bb93_58a023c013efrow3_col13\" class=\"data row3 col13\" >-0.144931</td>\n",
       "            </tr>\n",
       "            <tr>\n",
       "                        <th id=\"T_48419f2a_3932_11ea_bb93_58a023c013eflevel0_row4\" class=\"row_heading level0 row4\" >chol</th>\n",
       "                        <td id=\"T_48419f2a_3932_11ea_bb93_58a023c013efrow4_col0\" class=\"data row4 col0\" >0.213678</td>\n",
       "                        <td id=\"T_48419f2a_3932_11ea_bb93_58a023c013efrow4_col1\" class=\"data row4 col1\" >-0.197912</td>\n",
       "                        <td id=\"T_48419f2a_3932_11ea_bb93_58a023c013efrow4_col2\" class=\"data row4 col2\" >-0.0769044</td>\n",
       "                        <td id=\"T_48419f2a_3932_11ea_bb93_58a023c013efrow4_col3\" class=\"data row4 col3\" >0.123174</td>\n",
       "                        <td id=\"T_48419f2a_3932_11ea_bb93_58a023c013efrow4_col4\" class=\"data row4 col4\" >1</td>\n",
       "                        <td id=\"T_48419f2a_3932_11ea_bb93_58a023c013efrow4_col5\" class=\"data row4 col5\" >0.0132936</td>\n",
       "                        <td id=\"T_48419f2a_3932_11ea_bb93_58a023c013efrow4_col6\" class=\"data row4 col6\" >-0.15104</td>\n",
       "                        <td id=\"T_48419f2a_3932_11ea_bb93_58a023c013efrow4_col7\" class=\"data row4 col7\" >-0.00993984</td>\n",
       "                        <td id=\"T_48419f2a_3932_11ea_bb93_58a023c013efrow4_col8\" class=\"data row4 col8\" >0.0670228</td>\n",
       "                        <td id=\"T_48419f2a_3932_11ea_bb93_58a023c013efrow4_col9\" class=\"data row4 col9\" >0.0539519</td>\n",
       "                        <td id=\"T_48419f2a_3932_11ea_bb93_58a023c013efrow4_col10\" class=\"data row4 col10\" >-0.00403777</td>\n",
       "                        <td id=\"T_48419f2a_3932_11ea_bb93_58a023c013efrow4_col11\" class=\"data row4 col11\" >0.0705109</td>\n",
       "                        <td id=\"T_48419f2a_3932_11ea_bb93_58a023c013efrow4_col12\" class=\"data row4 col12\" >0.098803</td>\n",
       "                        <td id=\"T_48419f2a_3932_11ea_bb93_58a023c013efrow4_col13\" class=\"data row4 col13\" >-0.0852391</td>\n",
       "            </tr>\n",
       "            <tr>\n",
       "                        <th id=\"T_48419f2a_3932_11ea_bb93_58a023c013eflevel0_row5\" class=\"row_heading level0 row5\" >fbs</th>\n",
       "                        <td id=\"T_48419f2a_3932_11ea_bb93_58a023c013efrow5_col0\" class=\"data row5 col0\" >0.121308</td>\n",
       "                        <td id=\"T_48419f2a_3932_11ea_bb93_58a023c013efrow5_col1\" class=\"data row5 col1\" >0.0450318</td>\n",
       "                        <td id=\"T_48419f2a_3932_11ea_bb93_58a023c013efrow5_col2\" class=\"data row5 col2\" >0.094444</td>\n",
       "                        <td id=\"T_48419f2a_3932_11ea_bb93_58a023c013efrow5_col3\" class=\"data row5 col3\" >0.177531</td>\n",
       "                        <td id=\"T_48419f2a_3932_11ea_bb93_58a023c013efrow5_col4\" class=\"data row5 col4\" >0.0132936</td>\n",
       "                        <td id=\"T_48419f2a_3932_11ea_bb93_58a023c013efrow5_col5\" class=\"data row5 col5\" >1</td>\n",
       "                        <td id=\"T_48419f2a_3932_11ea_bb93_58a023c013efrow5_col6\" class=\"data row5 col6\" >-0.0841891</td>\n",
       "                        <td id=\"T_48419f2a_3932_11ea_bb93_58a023c013efrow5_col7\" class=\"data row5 col7\" >-0.00856711</td>\n",
       "                        <td id=\"T_48419f2a_3932_11ea_bb93_58a023c013efrow5_col8\" class=\"data row5 col8\" >0.0256651</td>\n",
       "                        <td id=\"T_48419f2a_3932_11ea_bb93_58a023c013efrow5_col9\" class=\"data row5 col9\" >0.00574722</td>\n",
       "                        <td id=\"T_48419f2a_3932_11ea_bb93_58a023c013efrow5_col10\" class=\"data row5 col10\" >-0.0598942</td>\n",
       "                        <td id=\"T_48419f2a_3932_11ea_bb93_58a023c013efrow5_col11\" class=\"data row5 col11\" >0.137979</td>\n",
       "                        <td id=\"T_48419f2a_3932_11ea_bb93_58a023c013efrow5_col12\" class=\"data row5 col12\" >-0.0320193</td>\n",
       "                        <td id=\"T_48419f2a_3932_11ea_bb93_58a023c013efrow5_col13\" class=\"data row5 col13\" >-0.0280458</td>\n",
       "            </tr>\n",
       "            <tr>\n",
       "                        <th id=\"T_48419f2a_3932_11ea_bb93_58a023c013eflevel0_row6\" class=\"row_heading level0 row6\" >restecg</th>\n",
       "                        <td id=\"T_48419f2a_3932_11ea_bb93_58a023c013efrow6_col0\" class=\"data row6 col0\" >-0.116211</td>\n",
       "                        <td id=\"T_48419f2a_3932_11ea_bb93_58a023c013efrow6_col1\" class=\"data row6 col1\" >-0.0581963</td>\n",
       "                        <td id=\"T_48419f2a_3932_11ea_bb93_58a023c013efrow6_col2\" class=\"data row6 col2\" >0.0444206</td>\n",
       "                        <td id=\"T_48419f2a_3932_11ea_bb93_58a023c013efrow6_col3\" class=\"data row6 col3\" >-0.114103</td>\n",
       "                        <td id=\"T_48419f2a_3932_11ea_bb93_58a023c013efrow6_col4\" class=\"data row6 col4\" >-0.15104</td>\n",
       "                        <td id=\"T_48419f2a_3932_11ea_bb93_58a023c013efrow6_col5\" class=\"data row6 col5\" >-0.0841891</td>\n",
       "                        <td id=\"T_48419f2a_3932_11ea_bb93_58a023c013efrow6_col6\" class=\"data row6 col6\" >1</td>\n",
       "                        <td id=\"T_48419f2a_3932_11ea_bb93_58a023c013efrow6_col7\" class=\"data row6 col7\" >0.0441234</td>\n",
       "                        <td id=\"T_48419f2a_3932_11ea_bb93_58a023c013efrow6_col8\" class=\"data row6 col8\" >-0.0707329</td>\n",
       "                        <td id=\"T_48419f2a_3932_11ea_bb93_58a023c013efrow6_col9\" class=\"data row6 col9\" >-0.0587702</td>\n",
       "                        <td id=\"T_48419f2a_3932_11ea_bb93_58a023c013efrow6_col10\" class=\"data row6 col10\" >0.0930448</td>\n",
       "                        <td id=\"T_48419f2a_3932_11ea_bb93_58a023c013efrow6_col11\" class=\"data row6 col11\" >-0.0720424</td>\n",
       "                        <td id=\"T_48419f2a_3932_11ea_bb93_58a023c013efrow6_col12\" class=\"data row6 col12\" >-0.0119814</td>\n",
       "                        <td id=\"T_48419f2a_3932_11ea_bb93_58a023c013efrow6_col13\" class=\"data row6 col13\" >0.13723</td>\n",
       "            </tr>\n",
       "            <tr>\n",
       "                        <th id=\"T_48419f2a_3932_11ea_bb93_58a023c013eflevel0_row7\" class=\"row_heading level0 row7\" >thalach</th>\n",
       "                        <td id=\"T_48419f2a_3932_11ea_bb93_58a023c013efrow7_col0\" class=\"data row7 col0\" >-0.398522</td>\n",
       "                        <td id=\"T_48419f2a_3932_11ea_bb93_58a023c013efrow7_col1\" class=\"data row7 col1\" >-0.0440199</td>\n",
       "                        <td id=\"T_48419f2a_3932_11ea_bb93_58a023c013efrow7_col2\" class=\"data row7 col2\" >0.295762</td>\n",
       "                        <td id=\"T_48419f2a_3932_11ea_bb93_58a023c013efrow7_col3\" class=\"data row7 col3\" >-0.0466977</td>\n",
       "                        <td id=\"T_48419f2a_3932_11ea_bb93_58a023c013efrow7_col4\" class=\"data row7 col4\" >-0.00993984</td>\n",
       "                        <td id=\"T_48419f2a_3932_11ea_bb93_58a023c013efrow7_col5\" class=\"data row7 col5\" >-0.00856711</td>\n",
       "                        <td id=\"T_48419f2a_3932_11ea_bb93_58a023c013efrow7_col6\" class=\"data row7 col6\" >0.0441234</td>\n",
       "                        <td id=\"T_48419f2a_3932_11ea_bb93_58a023c013efrow7_col7\" class=\"data row7 col7\" >1</td>\n",
       "                        <td id=\"T_48419f2a_3932_11ea_bb93_58a023c013efrow7_col8\" class=\"data row7 col8\" >-0.378812</td>\n",
       "                        <td id=\"T_48419f2a_3932_11ea_bb93_58a023c013efrow7_col9\" class=\"data row7 col9\" >-0.344187</td>\n",
       "                        <td id=\"T_48419f2a_3932_11ea_bb93_58a023c013efrow7_col10\" class=\"data row7 col10\" >0.386784</td>\n",
       "                        <td id=\"T_48419f2a_3932_11ea_bb93_58a023c013efrow7_col11\" class=\"data row7 col11\" >-0.213177</td>\n",
       "                        <td id=\"T_48419f2a_3932_11ea_bb93_58a023c013efrow7_col12\" class=\"data row7 col12\" >-0.0964391</td>\n",
       "                        <td id=\"T_48419f2a_3932_11ea_bb93_58a023c013efrow7_col13\" class=\"data row7 col13\" >0.421741</td>\n",
       "            </tr>\n",
       "            <tr>\n",
       "                        <th id=\"T_48419f2a_3932_11ea_bb93_58a023c013eflevel0_row8\" class=\"row_heading level0 row8\" >exang</th>\n",
       "                        <td id=\"T_48419f2a_3932_11ea_bb93_58a023c013efrow8_col0\" class=\"data row8 col0\" >0.0968008</td>\n",
       "                        <td id=\"T_48419f2a_3932_11ea_bb93_58a023c013efrow8_col1\" class=\"data row8 col1\" >0.141664</td>\n",
       "                        <td id=\"T_48419f2a_3932_11ea_bb93_58a023c013efrow8_col2\" class=\"data row8 col2\" >-0.39428</td>\n",
       "                        <td id=\"T_48419f2a_3932_11ea_bb93_58a023c013efrow8_col3\" class=\"data row8 col3\" >0.0676161</td>\n",
       "                        <td id=\"T_48419f2a_3932_11ea_bb93_58a023c013efrow8_col4\" class=\"data row8 col4\" >0.0670228</td>\n",
       "                        <td id=\"T_48419f2a_3932_11ea_bb93_58a023c013efrow8_col5\" class=\"data row8 col5\" >0.0256651</td>\n",
       "                        <td id=\"T_48419f2a_3932_11ea_bb93_58a023c013efrow8_col6\" class=\"data row8 col6\" >-0.0707329</td>\n",
       "                        <td id=\"T_48419f2a_3932_11ea_bb93_58a023c013efrow8_col7\" class=\"data row8 col7\" >-0.378812</td>\n",
       "                        <td id=\"T_48419f2a_3932_11ea_bb93_58a023c013efrow8_col8\" class=\"data row8 col8\" >1</td>\n",
       "                        <td id=\"T_48419f2a_3932_11ea_bb93_58a023c013efrow8_col9\" class=\"data row8 col9\" >0.288223</td>\n",
       "                        <td id=\"T_48419f2a_3932_11ea_bb93_58a023c013efrow8_col10\" class=\"data row8 col10\" >-0.257748</td>\n",
       "                        <td id=\"T_48419f2a_3932_11ea_bb93_58a023c013efrow8_col11\" class=\"data row8 col11\" >0.115739</td>\n",
       "                        <td id=\"T_48419f2a_3932_11ea_bb93_58a023c013efrow8_col12\" class=\"data row8 col12\" >0.206754</td>\n",
       "                        <td id=\"T_48419f2a_3932_11ea_bb93_58a023c013efrow8_col13\" class=\"data row8 col13\" >-0.436757</td>\n",
       "            </tr>\n",
       "            <tr>\n",
       "                        <th id=\"T_48419f2a_3932_11ea_bb93_58a023c013eflevel0_row9\" class=\"row_heading level0 row9\" >oldpeak</th>\n",
       "                        <td id=\"T_48419f2a_3932_11ea_bb93_58a023c013efrow9_col0\" class=\"data row9 col0\" >0.210013</td>\n",
       "                        <td id=\"T_48419f2a_3932_11ea_bb93_58a023c013efrow9_col1\" class=\"data row9 col1\" >0.0960929</td>\n",
       "                        <td id=\"T_48419f2a_3932_11ea_bb93_58a023c013efrow9_col2\" class=\"data row9 col2\" >-0.14923</td>\n",
       "                        <td id=\"T_48419f2a_3932_11ea_bb93_58a023c013efrow9_col3\" class=\"data row9 col3\" >0.193216</td>\n",
       "                        <td id=\"T_48419f2a_3932_11ea_bb93_58a023c013efrow9_col4\" class=\"data row9 col4\" >0.0539519</td>\n",
       "                        <td id=\"T_48419f2a_3932_11ea_bb93_58a023c013efrow9_col5\" class=\"data row9 col5\" >0.00574722</td>\n",
       "                        <td id=\"T_48419f2a_3932_11ea_bb93_58a023c013efrow9_col6\" class=\"data row9 col6\" >-0.0587702</td>\n",
       "                        <td id=\"T_48419f2a_3932_11ea_bb93_58a023c013efrow9_col7\" class=\"data row9 col7\" >-0.344187</td>\n",
       "                        <td id=\"T_48419f2a_3932_11ea_bb93_58a023c013efrow9_col8\" class=\"data row9 col8\" >0.288223</td>\n",
       "                        <td id=\"T_48419f2a_3932_11ea_bb93_58a023c013efrow9_col9\" class=\"data row9 col9\" >1</td>\n",
       "                        <td id=\"T_48419f2a_3932_11ea_bb93_58a023c013efrow9_col10\" class=\"data row9 col10\" >-0.577537</td>\n",
       "                        <td id=\"T_48419f2a_3932_11ea_bb93_58a023c013efrow9_col11\" class=\"data row9 col11\" >0.222682</td>\n",
       "                        <td id=\"T_48419f2a_3932_11ea_bb93_58a023c013efrow9_col12\" class=\"data row9 col12\" >0.210244</td>\n",
       "                        <td id=\"T_48419f2a_3932_11ea_bb93_58a023c013efrow9_col13\" class=\"data row9 col13\" >-0.430696</td>\n",
       "            </tr>\n",
       "            <tr>\n",
       "                        <th id=\"T_48419f2a_3932_11ea_bb93_58a023c013eflevel0_row10\" class=\"row_heading level0 row10\" >slope</th>\n",
       "                        <td id=\"T_48419f2a_3932_11ea_bb93_58a023c013efrow10_col0\" class=\"data row10 col0\" >-0.168814</td>\n",
       "                        <td id=\"T_48419f2a_3932_11ea_bb93_58a023c013efrow10_col1\" class=\"data row10 col1\" >-0.0307106</td>\n",
       "                        <td id=\"T_48419f2a_3932_11ea_bb93_58a023c013efrow10_col2\" class=\"data row10 col2\" >0.119717</td>\n",
       "                        <td id=\"T_48419f2a_3932_11ea_bb93_58a023c013efrow10_col3\" class=\"data row10 col3\" >-0.121475</td>\n",
       "                        <td id=\"T_48419f2a_3932_11ea_bb93_58a023c013efrow10_col4\" class=\"data row10 col4\" >-0.00403777</td>\n",
       "                        <td id=\"T_48419f2a_3932_11ea_bb93_58a023c013efrow10_col5\" class=\"data row10 col5\" >-0.0598942</td>\n",
       "                        <td id=\"T_48419f2a_3932_11ea_bb93_58a023c013efrow10_col6\" class=\"data row10 col6\" >0.0930448</td>\n",
       "                        <td id=\"T_48419f2a_3932_11ea_bb93_58a023c013efrow10_col7\" class=\"data row10 col7\" >0.386784</td>\n",
       "                        <td id=\"T_48419f2a_3932_11ea_bb93_58a023c013efrow10_col8\" class=\"data row10 col8\" >-0.257748</td>\n",
       "                        <td id=\"T_48419f2a_3932_11ea_bb93_58a023c013efrow10_col9\" class=\"data row10 col9\" >-0.577537</td>\n",
       "                        <td id=\"T_48419f2a_3932_11ea_bb93_58a023c013efrow10_col10\" class=\"data row10 col10\" >1</td>\n",
       "                        <td id=\"T_48419f2a_3932_11ea_bb93_58a023c013efrow10_col11\" class=\"data row10 col11\" >-0.0801552</td>\n",
       "                        <td id=\"T_48419f2a_3932_11ea_bb93_58a023c013efrow10_col12\" class=\"data row10 col12\" >-0.104764</td>\n",
       "                        <td id=\"T_48419f2a_3932_11ea_bb93_58a023c013efrow10_col13\" class=\"data row10 col13\" >0.345877</td>\n",
       "            </tr>\n",
       "            <tr>\n",
       "                        <th id=\"T_48419f2a_3932_11ea_bb93_58a023c013eflevel0_row11\" class=\"row_heading level0 row11\" >ca</th>\n",
       "                        <td id=\"T_48419f2a_3932_11ea_bb93_58a023c013efrow11_col0\" class=\"data row11 col0\" >0.276326</td>\n",
       "                        <td id=\"T_48419f2a_3932_11ea_bb93_58a023c013efrow11_col1\" class=\"data row11 col1\" >0.118261</td>\n",
       "                        <td id=\"T_48419f2a_3932_11ea_bb93_58a023c013efrow11_col2\" class=\"data row11 col2\" >-0.181053</td>\n",
       "                        <td id=\"T_48419f2a_3932_11ea_bb93_58a023c013efrow11_col3\" class=\"data row11 col3\" >0.101389</td>\n",
       "                        <td id=\"T_48419f2a_3932_11ea_bb93_58a023c013efrow11_col4\" class=\"data row11 col4\" >0.0705109</td>\n",
       "                        <td id=\"T_48419f2a_3932_11ea_bb93_58a023c013efrow11_col5\" class=\"data row11 col5\" >0.137979</td>\n",
       "                        <td id=\"T_48419f2a_3932_11ea_bb93_58a023c013efrow11_col6\" class=\"data row11 col6\" >-0.0720424</td>\n",
       "                        <td id=\"T_48419f2a_3932_11ea_bb93_58a023c013efrow11_col7\" class=\"data row11 col7\" >-0.213177</td>\n",
       "                        <td id=\"T_48419f2a_3932_11ea_bb93_58a023c013efrow11_col8\" class=\"data row11 col8\" >0.115739</td>\n",
       "                        <td id=\"T_48419f2a_3932_11ea_bb93_58a023c013efrow11_col9\" class=\"data row11 col9\" >0.222682</td>\n",
       "                        <td id=\"T_48419f2a_3932_11ea_bb93_58a023c013efrow11_col10\" class=\"data row11 col10\" >-0.0801552</td>\n",
       "                        <td id=\"T_48419f2a_3932_11ea_bb93_58a023c013efrow11_col11\" class=\"data row11 col11\" >1</td>\n",
       "                        <td id=\"T_48419f2a_3932_11ea_bb93_58a023c013efrow11_col12\" class=\"data row11 col12\" >0.151832</td>\n",
       "                        <td id=\"T_48419f2a_3932_11ea_bb93_58a023c013efrow11_col13\" class=\"data row11 col13\" >-0.391724</td>\n",
       "            </tr>\n",
       "            <tr>\n",
       "                        <th id=\"T_48419f2a_3932_11ea_bb93_58a023c013eflevel0_row12\" class=\"row_heading level0 row12\" >thal</th>\n",
       "                        <td id=\"T_48419f2a_3932_11ea_bb93_58a023c013efrow12_col0\" class=\"data row12 col0\" >0.0680014</td>\n",
       "                        <td id=\"T_48419f2a_3932_11ea_bb93_58a023c013efrow12_col1\" class=\"data row12 col1\" >0.210041</td>\n",
       "                        <td id=\"T_48419f2a_3932_11ea_bb93_58a023c013efrow12_col2\" class=\"data row12 col2\" >-0.161736</td>\n",
       "                        <td id=\"T_48419f2a_3932_11ea_bb93_58a023c013efrow12_col3\" class=\"data row12 col3\" >0.0622099</td>\n",
       "                        <td id=\"T_48419f2a_3932_11ea_bb93_58a023c013efrow12_col4\" class=\"data row12 col4\" >0.098803</td>\n",
       "                        <td id=\"T_48419f2a_3932_11ea_bb93_58a023c013efrow12_col5\" class=\"data row12 col5\" >-0.0320193</td>\n",
       "                        <td id=\"T_48419f2a_3932_11ea_bb93_58a023c013efrow12_col6\" class=\"data row12 col6\" >-0.0119814</td>\n",
       "                        <td id=\"T_48419f2a_3932_11ea_bb93_58a023c013efrow12_col7\" class=\"data row12 col7\" >-0.0964391</td>\n",
       "                        <td id=\"T_48419f2a_3932_11ea_bb93_58a023c013efrow12_col8\" class=\"data row12 col8\" >0.206754</td>\n",
       "                        <td id=\"T_48419f2a_3932_11ea_bb93_58a023c013efrow12_col9\" class=\"data row12 col9\" >0.210244</td>\n",
       "                        <td id=\"T_48419f2a_3932_11ea_bb93_58a023c013efrow12_col10\" class=\"data row12 col10\" >-0.104764</td>\n",
       "                        <td id=\"T_48419f2a_3932_11ea_bb93_58a023c013efrow12_col11\" class=\"data row12 col11\" >0.151832</td>\n",
       "                        <td id=\"T_48419f2a_3932_11ea_bb93_58a023c013efrow12_col12\" class=\"data row12 col12\" >1</td>\n",
       "                        <td id=\"T_48419f2a_3932_11ea_bb93_58a023c013efrow12_col13\" class=\"data row12 col13\" >-0.344029</td>\n",
       "            </tr>\n",
       "            <tr>\n",
       "                        <th id=\"T_48419f2a_3932_11ea_bb93_58a023c013eflevel0_row13\" class=\"row_heading level0 row13\" >target</th>\n",
       "                        <td id=\"T_48419f2a_3932_11ea_bb93_58a023c013efrow13_col0\" class=\"data row13 col0\" >-0.225439</td>\n",
       "                        <td id=\"T_48419f2a_3932_11ea_bb93_58a023c013efrow13_col1\" class=\"data row13 col1\" >-0.280937</td>\n",
       "                        <td id=\"T_48419f2a_3932_11ea_bb93_58a023c013efrow13_col2\" class=\"data row13 col2\" >0.433798</td>\n",
       "                        <td id=\"T_48419f2a_3932_11ea_bb93_58a023c013efrow13_col3\" class=\"data row13 col3\" >-0.144931</td>\n",
       "                        <td id=\"T_48419f2a_3932_11ea_bb93_58a023c013efrow13_col4\" class=\"data row13 col4\" >-0.0852391</td>\n",
       "                        <td id=\"T_48419f2a_3932_11ea_bb93_58a023c013efrow13_col5\" class=\"data row13 col5\" >-0.0280458</td>\n",
       "                        <td id=\"T_48419f2a_3932_11ea_bb93_58a023c013efrow13_col6\" class=\"data row13 col6\" >0.13723</td>\n",
       "                        <td id=\"T_48419f2a_3932_11ea_bb93_58a023c013efrow13_col7\" class=\"data row13 col7\" >0.421741</td>\n",
       "                        <td id=\"T_48419f2a_3932_11ea_bb93_58a023c013efrow13_col8\" class=\"data row13 col8\" >-0.436757</td>\n",
       "                        <td id=\"T_48419f2a_3932_11ea_bb93_58a023c013efrow13_col9\" class=\"data row13 col9\" >-0.430696</td>\n",
       "                        <td id=\"T_48419f2a_3932_11ea_bb93_58a023c013efrow13_col10\" class=\"data row13 col10\" >0.345877</td>\n",
       "                        <td id=\"T_48419f2a_3932_11ea_bb93_58a023c013efrow13_col11\" class=\"data row13 col11\" >-0.391724</td>\n",
       "                        <td id=\"T_48419f2a_3932_11ea_bb93_58a023c013efrow13_col12\" class=\"data row13 col12\" >-0.344029</td>\n",
       "                        <td id=\"T_48419f2a_3932_11ea_bb93_58a023c013efrow13_col13\" class=\"data row13 col13\" >1</td>\n",
       "            </tr>\n",
       "    </tbody></table>"
      ],
      "text/plain": [
       "<pandas.io.formats.style.Styler at 0x7f6fbc438f90>"
      ]
     },
     "execution_count": 4,
     "metadata": {},
     "output_type": "execute_result"
    }
   ],
   "source": [
    "corr = df.corr()\n",
    "corr.style.background_gradient(cmap='coolwarm', low=0.15)"
   ]
  },
  {
   "cell_type": "markdown",
   "metadata": {},
   "source": [
    "#### Highly correlated features with target variable can increase error on new (unseen data), so we need to reduce their influence."
   ]
  },
  {
   "cell_type": "markdown",
   "metadata": {},
   "source": [
    "### Plot distribution of correlated features"
   ]
  },
  {
   "cell_type": "code",
   "execution_count": 5,
   "metadata": {},
   "outputs": [
    {
     "data": {
      "text/plain": [
       "<Figure size 432x288 with 0 Axes>"
      ]
     },
     "metadata": {},
     "output_type": "display_data"
    },
    {
     "data": {
      "image/png": "[encoded data removed]",
      "text/plain": [
       "<Figure size 942.375x900 with 30 Axes>"
      ]
     },
     "metadata": {
      "needs_background": "light"
     },
     "output_type": "display_data"
    }
   ],
   "source": [
    "fig = plt.figure()\n",
    "sns.pairplot(df, vars=['age', 'trestbps', 'chol', 'thalach', 'oldpeak'], hue='target')\\\n",
    "            .fig.suptitle('Distributions of higly correlated features over Target variable')\n",
    "plt.subplots_adjust(top=0.9)\n",
    "plt.show();"
   ]
  },
  {
   "cell_type": "markdown",
   "metadata": {},
   "source": [
    "We can see that some data can be separated quite well (different colors for the target variable on the chart).\n",
    "Here you can also see what distribution the correlating variables have - we will be interested in those that have different (not similar) boundaries."
   ]
  },
  {
   "cell_type": "markdown",
   "metadata": {},
   "source": [
    "### Explore distribution of target variable (ill and not ill) with Age, Sex and Level of Pain features."
   ]
  },
  {
   "cell_type": "code",
   "execution_count": 7,
   "metadata": {},
   "outputs": [
    {
     "data": {
      "text/plain": [
       "<Figure size 720x720 with 0 Axes>"
      ]
     },
     "metadata": {},
     "output_type": "display_data"
    },
    {
     "data": {
      "image/png": "[encoded data removed]",
      "text/plain": [
       "<Figure size 762.375x360 with 2 Axes>"
      ]
     },
     "metadata": {
      "needs_background": "light"
     },
     "output_type": "display_data"
    }
   ],
   "source": [
    "# plot \n",
    "fig = plt.figure(figsize=(10,10))\n",
    "g = sns.catplot(x='cp', y='age', hue='sex', col='target', data=df)\n",
    "(g.set_axis_labels(\"Level of pain\", \"Age\")\n",
    " .set_xticklabels([\"no pain\", \"start to feel\", \"middle pain\", 'hight pain'])\n",
    " .set_titles(\"Person is ill : {col_name}\")\n",
    " .fig.suptitle('Distribution of ill and not ill person for Age, Sex and Level of Pain'))\n",
    "plt.subplots_adjust(top=0.8)\n",
    "plt.show()"
   ]
  },
  {
   "cell_type": "markdown",
   "metadata": {},
   "source": [
    "The graph gives us several ides about of the ***distribution of healthy and sick people, depending on age, gender and level of pain.***\n",
    "\n",
    "We see that the ill group is more normal distributed by gender and density.\n",
    "\n",
    "Medium pain is the most clear features, which, oddly enough, works for all ages.\n",
    "\n",
    "We observe some less dense zones, but not many outlayres. And it is obvious that some groups contain very little data - for example, healthy people with severe pain."
   ]
  },
  {
   "cell_type": "markdown",
   "metadata": {},
   "source": [
    "### Age distribution "
   ]
  },
  {
   "cell_type": "code",
   "execution_count": 8,
   "metadata": {},
   "outputs": [
    {
     "data": {
      "image/png": "[encoded data removed]",
      "text/plain": [
       "<Figure size 1440x360 with 1 Axes>"
      ]
     },
     "metadata": {
      "needs_background": "light"
     },
     "output_type": "display_data"
    }
   ],
   "source": [
    "pd.crosstab(df.age, df.target).plot(kind='bar', figsize=(20, 5))\n",
    "plt.title('Age distribution over Target Variable')\n",
    "plt.show();"
   ]
  },
  {
   "cell_type": "markdown",
   "metadata": {},
   "source": [
    "Two peaks of the disease:\n",
    "41-46 years old and 51-54 years old\n",
    "Maybe we can use it. For example, we can create a categorical variable."
   ]
  },
  {
   "cell_type": "markdown",
   "metadata": {},
   "source": [
    "## 3. Data cleaning, transforning"
   ]
  },
  {
   "cell_type": "markdown",
   "metadata": {},
   "source": [
    "#### Check features that are not binary and nor normaly distrubuted"
   ]
  },
  {
   "cell_type": "code",
   "execution_count": 9,
   "metadata": {},
   "outputs": [
    {
     "data": {
      "image/png": "[encoded data removed]",
      "text/plain": [
       "<Figure size 432x288 with 6 Axes>"
      ]
     },
     "metadata": {
      "needs_background": "light"
     },
     "output_type": "display_data"
    }
   ],
   "source": [
    "fig, axarr = plt.subplots(3, 2)\n",
    "fig.suptitle(\"Features that are not binary or normally distributed\", fontsize=12)\n",
    "plt.subplot(3, 2, 1, title='cp')\n",
    "df.cp.hist()\n",
    "plt.subplot(3, 2, 2, title='restecg')\n",
    "df.restecg.hist()\n",
    "plt.subplot(3, 2, 3, title='oldpeak')\n",
    "df.oldpeak.hist()\n",
    "plt.subplot(3, 2, 4, title='slope')\n",
    "df.slope.hist()\n",
    "plt.subplot(3, 2, 5, title='ca')\n",
    "df.ca.hist()\n",
    "plt.subplot(3, 2, 6, title='thal')\n",
    "df.thal.hist()\n",
    "plt.subplots_adjust(top=1.5)\n",
    "fig.tight_layout()\n",
    "fig.subplots_adjust(top=0.88)\n",
    "plt.show();"
   ]
  },
  {
   "cell_type": "markdown",
   "metadata": {},
   "source": [
    "So, let transfrom cp, restecg, oldpeak, slope, ca, thal features"
   ]
  },
  {
   "cell_type": "code",
   "execution_count": 10,
   "metadata": {},
   "outputs": [
    {
     "data": {
      "text/html": [
       "<div>\n",
       "<style scoped>\n",
       "    .dataframe tbody tr th:only-of-type {\n",
       "        vertical-align: middle;\n",
       "    }\n",
       "\n",
       "    .dataframe tbody tr th {\n",
       "        vertical-align: top;\n",
       "    }\n",
       "\n",
       "    .dataframe thead th {\n",
       "        text-align: right;\n",
       "    }\n",
       "</style>\n",
       "<table border=\"1\" class=\"dataframe\">\n",
       "  <thead>\n",
       "    <tr style=\"text-align: right;\">\n",
       "      <th></th>\n",
       "      <th>age</th>\n",
       "      <th>sex</th>\n",
       "      <th>trestbps</th>\n",
       "      <th>chol</th>\n",
       "      <th>fbs</th>\n",
       "      <th>thalach</th>\n",
       "      <th>exang</th>\n",
       "      <th>oldpeak</th>\n",
       "      <th>target</th>\n",
       "      <th>cp_0</th>\n",
       "      <th>...</th>\n",
       "      <th>slope_1</th>\n",
       "      <th>slope_2</th>\n",
       "      <th>restecg_0</th>\n",
       "      <th>restecg_1</th>\n",
       "      <th>restecg_2</th>\n",
       "      <th>ca_0</th>\n",
       "      <th>ca_1</th>\n",
       "      <th>ca_2</th>\n",
       "      <th>ca_3</th>\n",
       "      <th>ca_4</th>\n",
       "    </tr>\n",
       "  </thead>\n",
       "  <tbody>\n",
       "    <tr>\n",
       "      <th>0</th>\n",
       "      <td>63</td>\n",
       "      <td>1</td>\n",
       "      <td>145</td>\n",
       "      <td>233</td>\n",
       "      <td>1</td>\n",
       "      <td>150</td>\n",
       "      <td>0</td>\n",
       "      <td>2.3</td>\n",
       "      <td>1</td>\n",
       "      <td>0</td>\n",
       "      <td>...</td>\n",
       "      <td>0</td>\n",
       "      <td>0</td>\n",
       "      <td>1</td>\n",
       "      <td>0</td>\n",
       "      <td>0</td>\n",
       "      <td>1</td>\n",
       "      <td>0</td>\n",
       "      <td>0</td>\n",
       "      <td>0</td>\n",
       "      <td>0</td>\n",
       "    </tr>\n",
       "    <tr>\n",
       "      <th>1</th>\n",
       "      <td>37</td>\n",
       "      <td>1</td>\n",
       "      <td>130</td>\n",
       "      <td>250</td>\n",
       "      <td>0</td>\n",
       "      <td>187</td>\n",
       "      <td>0</td>\n",
       "      <td>3.5</td>\n",
       "      <td>1</td>\n",
       "      <td>0</td>\n",
       "      <td>...</td>\n",
       "      <td>0</td>\n",
       "      <td>0</td>\n",
       "      <td>0</td>\n",
       "      <td>1</td>\n",
       "      <td>0</td>\n",
       "      <td>1</td>\n",
       "      <td>0</td>\n",
       "      <td>0</td>\n",
       "      <td>0</td>\n",
       "      <td>0</td>\n",
       "    </tr>\n",
       "  </tbody>\n",
       "</table>\n",
       "<p>2 rows × 28 columns</p>\n",
       "</div>"
      ],
      "text/plain": [
       "   age  sex  trestbps  chol  fbs  thalach  exang  oldpeak  target  cp_0  ...  \\\n",
       "0   63    1       145   233    1      150      0      2.3       1     0  ...   \n",
       "1   37    1       130   250    0      187      0      3.5       1     0  ...   \n",
       "\n",
       "   slope_1  slope_2  restecg_0  restecg_1  restecg_2  ca_0  ca_1  ca_2  ca_3  \\\n",
       "0        0        0          1          0          0     1     0     0     0   \n",
       "1        0        0          0          1          0     1     0     0     0   \n",
       "\n",
       "   ca_4  \n",
       "0     0  \n",
       "1     0  \n",
       "\n",
       "[2 rows x 28 columns]"
      ]
     },
     "execution_count": 10,
     "metadata": {},
     "output_type": "execute_result"
    }
   ],
   "source": [
    "# Function for One Hot for tranformation\n",
    "def encode(data, col):\n",
    "    return pd.concat([data, pd.get_dummies(col, prefix=col.name)], axis=1)\n",
    "df = encode(df, df.cp)\n",
    "df = encode(df, df.thal)\n",
    "df = encode(df, df.slope)\n",
    "df = encode(df, df.restecg)\n",
    "df = encode(df, df.ca)\n",
    "df.drop(['cp', 'thal', 'slope', 'restecg', 'ca'], axis=1, inplace=True)\n",
    "df.head(2)"
   ]
  },
  {
   "cell_type": "markdown",
   "metadata": {},
   "source": [
    "Check the numeric values "
   ]
  },
  {
   "cell_type": "code",
   "execution_count": 11,
   "metadata": {},
   "outputs": [
    {
     "data": {
      "text/html": [
       "<div>\n",
       "<style scoped>\n",
       "    .dataframe tbody tr th:only-of-type {\n",
       "        vertical-align: middle;\n",
       "    }\n",
       "\n",
       "    .dataframe tbody tr th {\n",
       "        vertical-align: top;\n",
       "    }\n",
       "\n",
       "    .dataframe thead th {\n",
       "        text-align: right;\n",
       "    }\n",
       "</style>\n",
       "<table border=\"1\" class=\"dataframe\">\n",
       "  <thead>\n",
       "    <tr style=\"text-align: right;\">\n",
       "      <th></th>\n",
       "      <th>age</th>\n",
       "      <th>trestbps</th>\n",
       "      <th>chol</th>\n",
       "      <th>thalach</th>\n",
       "    </tr>\n",
       "  </thead>\n",
       "  <tbody>\n",
       "    <tr>\n",
       "      <th>count</th>\n",
       "      <td>303.000000</td>\n",
       "      <td>303.000000</td>\n",
       "      <td>303.000000</td>\n",
       "      <td>303.000000</td>\n",
       "    </tr>\n",
       "    <tr>\n",
       "      <th>mean</th>\n",
       "      <td>54.366337</td>\n",
       "      <td>131.623762</td>\n",
       "      <td>246.264026</td>\n",
       "      <td>149.646865</td>\n",
       "    </tr>\n",
       "    <tr>\n",
       "      <th>std</th>\n",
       "      <td>9.082101</td>\n",
       "      <td>17.538143</td>\n",
       "      <td>51.830751</td>\n",
       "      <td>22.905161</td>\n",
       "    </tr>\n",
       "    <tr>\n",
       "      <th>min</th>\n",
       "      <td>29.000000</td>\n",
       "      <td>94.000000</td>\n",
       "      <td>126.000000</td>\n",
       "      <td>71.000000</td>\n",
       "    </tr>\n",
       "    <tr>\n",
       "      <th>25%</th>\n",
       "      <td>47.500000</td>\n",
       "      <td>120.000000</td>\n",
       "      <td>211.000000</td>\n",
       "      <td>133.500000</td>\n",
       "    </tr>\n",
       "    <tr>\n",
       "      <th>50%</th>\n",
       "      <td>55.000000</td>\n",
       "      <td>130.000000</td>\n",
       "      <td>240.000000</td>\n",
       "      <td>153.000000</td>\n",
       "    </tr>\n",
       "    <tr>\n",
       "      <th>75%</th>\n",
       "      <td>61.000000</td>\n",
       "      <td>140.000000</td>\n",
       "      <td>274.500000</td>\n",
       "      <td>166.000000</td>\n",
       "    </tr>\n",
       "    <tr>\n",
       "      <th>max</th>\n",
       "      <td>77.000000</td>\n",
       "      <td>200.000000</td>\n",
       "      <td>564.000000</td>\n",
       "      <td>202.000000</td>\n",
       "    </tr>\n",
       "  </tbody>\n",
       "</table>\n",
       "</div>"
      ],
      "text/plain": [
       "              age    trestbps        chol     thalach\n",
       "count  303.000000  303.000000  303.000000  303.000000\n",
       "mean    54.366337  131.623762  246.264026  149.646865\n",
       "std      9.082101   17.538143   51.830751   22.905161\n",
       "min     29.000000   94.000000  126.000000   71.000000\n",
       "25%     47.500000  120.000000  211.000000  133.500000\n",
       "50%     55.000000  130.000000  240.000000  153.000000\n",
       "75%     61.000000  140.000000  274.500000  166.000000\n",
       "max     77.000000  200.000000  564.000000  202.000000"
      ]
     },
     "execution_count": 11,
     "metadata": {},
     "output_type": "execute_result"
    }
   ],
   "source": [
    "df[['age', 'trestbps', 'chol', 'thalach']].describe()"
   ]
  },
  {
   "cell_type": "markdown",
   "metadata": {},
   "source": [
    "Scale these numeric values"
   ]
  },
  {
   "cell_type": "code",
   "execution_count": 12,
   "metadata": {},
   "outputs": [],
   "source": [
    "scale = StandardScaler()\n",
    "se = pd.DataFrame(scale.fit_transform(df[['age', 'trestbps', 'chol', 'thalach']]))"
   ]
  },
  {
   "cell_type": "markdown",
   "metadata": {},
   "source": [
    "Prepare data for modeling"
   ]
  },
  {
   "cell_type": "code",
   "execution_count": 13,
   "metadata": {},
   "outputs": [
    {
     "data": {
      "text/html": [
       "<div>\n",
       "<style scoped>\n",
       "    .dataframe tbody tr th:only-of-type {\n",
       "        vertical-align: middle;\n",
       "    }\n",
       "\n",
       "    .dataframe tbody tr th {\n",
       "        vertical-align: top;\n",
       "    }\n",
       "\n",
       "    .dataframe thead th {\n",
       "        text-align: right;\n",
       "    }\n",
       "</style>\n",
       "<table border=\"1\" class=\"dataframe\">\n",
       "  <thead>\n",
       "    <tr style=\"text-align: right;\">\n",
       "      <th></th>\n",
       "      <th>sex</th>\n",
       "      <th>fbs</th>\n",
       "      <th>exang</th>\n",
       "      <th>oldpeak</th>\n",
       "      <th>cp_0</th>\n",
       "      <th>cp_1</th>\n",
       "      <th>cp_2</th>\n",
       "      <th>cp_3</th>\n",
       "      <th>thal_0</th>\n",
       "      <th>thal_1</th>\n",
       "      <th>...</th>\n",
       "      <th>restecg_2</th>\n",
       "      <th>ca_0</th>\n",
       "      <th>ca_1</th>\n",
       "      <th>ca_2</th>\n",
       "      <th>ca_3</th>\n",
       "      <th>ca_4</th>\n",
       "      <th>target</th>\n",
       "      <th>age</th>\n",
       "      <th>trestbps</th>\n",
       "      <th>chol</th>\n",
       "    </tr>\n",
       "  </thead>\n",
       "  <tbody>\n",
       "    <tr>\n",
       "      <th>0</th>\n",
       "      <td>1</td>\n",
       "      <td>1</td>\n",
       "      <td>0</td>\n",
       "      <td>2.3</td>\n",
       "      <td>0</td>\n",
       "      <td>0</td>\n",
       "      <td>0</td>\n",
       "      <td>1</td>\n",
       "      <td>0</td>\n",
       "      <td>1</td>\n",
       "      <td>...</td>\n",
       "      <td>0</td>\n",
       "      <td>1</td>\n",
       "      <td>0</td>\n",
       "      <td>0</td>\n",
       "      <td>0</td>\n",
       "      <td>0</td>\n",
       "      <td>0.952197</td>\n",
       "      <td>0.763956</td>\n",
       "      <td>-0.256334</td>\n",
       "      <td>0.015443</td>\n",
       "    </tr>\n",
       "    <tr>\n",
       "      <th>1</th>\n",
       "      <td>1</td>\n",
       "      <td>0</td>\n",
       "      <td>0</td>\n",
       "      <td>3.5</td>\n",
       "      <td>0</td>\n",
       "      <td>0</td>\n",
       "      <td>1</td>\n",
       "      <td>0</td>\n",
       "      <td>0</td>\n",
       "      <td>0</td>\n",
       "      <td>...</td>\n",
       "      <td>0</td>\n",
       "      <td>1</td>\n",
       "      <td>0</td>\n",
       "      <td>0</td>\n",
       "      <td>0</td>\n",
       "      <td>0</td>\n",
       "      <td>-1.915313</td>\n",
       "      <td>-0.092738</td>\n",
       "      <td>0.072199</td>\n",
       "      <td>1.633471</td>\n",
       "    </tr>\n",
       "  </tbody>\n",
       "</table>\n",
       "<p>2 rows × 27 columns</p>\n",
       "</div>"
      ],
      "text/plain": [
       "   sex  fbs  exang  oldpeak  cp_0  cp_1  cp_2  cp_3  thal_0  thal_1  ...  \\\n",
       "0    1    1      0      2.3     0     0     0     1       0       1  ...   \n",
       "1    1    0      0      3.5     0     0     1     0       0       0  ...   \n",
       "\n",
       "   restecg_2  ca_0  ca_1  ca_2  ca_3  ca_4    target       age  trestbps  \\\n",
       "0          0     1     0     0     0     0  0.952197  0.763956 -0.256334   \n",
       "1          0     1     0     0     0     0 -1.915313 -0.092738  0.072199   \n",
       "\n",
       "       chol  \n",
       "0  0.015443  \n",
       "1  1.633471  \n",
       "\n",
       "[2 rows x 27 columns]"
      ]
     },
     "execution_count": 13,
     "metadata": {},
     "output_type": "execute_result"
    }
   ],
   "source": [
    "df = pd.concat([df, se], axis=1)\n",
    "y = df.target \n",
    "df.drop(['target', 'age', 'trestbps', 'chol', 'thalach'], axis=1, inplace=True)\n",
    "df.rename(columns={0: 'target', 1: 'age', 2:'trestbps', 3:'chol', 4:'thalach'}, inplace=True)\n",
    "df.head(2)"
   ]
  },
  {
   "cell_type": "markdown",
   "metadata": {},
   "source": [
    "### 5.Feature engineering"
   ]
  },
  {
   "cell_type": "markdown",
   "metadata": {},
   "source": [
    "Let us get rid of multicollinearity with target variable with PCA"
   ]
  },
  {
   "cell_type": "code",
   "execution_count": 14,
   "metadata": {},
   "outputs": [],
   "source": [
    "pca = PCA(n_components=10)\n",
    "df_pca = pca.fit_transform(df)"
   ]
  },
  {
   "cell_type": "markdown",
   "metadata": {},
   "source": [
    "Check the optimal number of componets for PCA"
   ]
  },
  {
   "cell_type": "code",
   "execution_count": 15,
   "metadata": {},
   "outputs": [
    {
     "name": "stdout",
     "output_type": "stream",
     "text": [
      "1 component: 26.74% of initial variance\n",
      "2 component: 13.81% of initial variance\n",
      "3 component: 10.91% of initial variance\n",
      "4 component: 9.81% of initial variance\n",
      "5 component: 6.36% of initial variance\n",
      "6 component: 5.24% of initial variance\n",
      "7 component: 5.18% of initial variance\n",
      "8 component: 3.55% of initial variance\n",
      "9 component: 3.28% of initial variance\n",
      "10 component: 2.88% of initial variance\n",
      "\n",
      "Total % of initial varianve 0.8775800114335135\n"
     ]
    }
   ],
   "source": [
    "total = 0\n",
    "for i, component in enumerate(pca.components_):\n",
    "    print(\"{} component: {}% of initial variance\".format(i + 1, \n",
    "          round(100 * pca.explained_variance_ratio_[i], 2)))\n",
    "    total += pca.explained_variance_ratio_[i]\n",
    "print()\n",
    "print('Total % of initial varianve {}'.format(total))"
   ]
  },
  {
   "cell_type": "markdown",
   "metadata": {},
   "source": [
    "**We select 10 PCA components to explane data variance**"
   ]
  },
  {
   "cell_type": "markdown",
   "metadata": {},
   "source": [
    "#### What cross val score WITHOUT PCA (10 componets)?"
   ]
  },
  {
   "cell_type": "code",
   "execution_count": 16,
   "metadata": {},
   "outputs": [
    {
     "data": {
      "text/plain": [
       "0.9017917267917268"
      ]
     },
     "execution_count": 16,
     "metadata": {},
     "output_type": "execute_result"
    }
   ],
   "source": [
    "# Check the RandomForestClassifier\n",
    "cross_val_score(RandomForestClassifier(n_estimators=50, random_state=11), df, y, scoring='roc_auc').mean()"
   ]
  },
  {
   "cell_type": "code",
   "execution_count": 17,
   "metadata": {},
   "outputs": [
    {
     "data": {
      "text/plain": [
       "0.9181417348084014"
      ]
     },
     "execution_count": 17,
     "metadata": {},
     "output_type": "execute_result"
    }
   ],
   "source": [
    "# Check the LogisticRegression\n",
    "cross_val_score(LogisticRegression(random_state=11), df, y, scoring='roc_auc').mean()"
   ]
  },
  {
   "cell_type": "markdown",
   "metadata": {},
   "source": [
    "#### What cross val score WITH PCA (10 componets)?"
   ]
  },
  {
   "cell_type": "code",
   "execution_count": 18,
   "metadata": {},
   "outputs": [
    {
     "data": {
      "text/plain": [
       "0.8991101491101492"
      ]
     },
     "execution_count": 18,
     "metadata": {},
     "output_type": "execute_result"
    }
   ],
   "source": [
    "cross_val_score(RandomForestClassifier(n_estimators=50, random_state=11), df_pca, y, scoring='roc_auc').mean()"
   ]
  },
  {
   "cell_type": "code",
   "execution_count": 19,
   "metadata": {},
   "outputs": [
    {
     "data": {
      "text/plain": [
       "0.9201298701298702"
      ]
     },
     "execution_count": 19,
     "metadata": {},
     "output_type": "execute_result"
    }
   ],
   "source": [
    "cross_val_score(LogisticRegression(random_state=11), df_pca, y, scoring='roc_auc').mean()"
   ]
  },
  {
   "cell_type": "markdown",
   "metadata": {},
   "source": [
    "RandomForestClassifier give us a bit worst result. LogisticRegression small improvement.\n",
    "\n",
    "Since there is not much data, it is likely that the transformation of the PCA will negatively affect the final results.\n",
    "\n",
    "Let's look at other ways to select (or delete) features. Especially collinear ones."
   ]
  },
  {
   "cell_type": "markdown",
   "metadata": {},
   "source": [
    "### Check the variance of features without PCA - with sklearn tools"
   ]
  },
  {
   "cell_type": "code",
   "execution_count": 20,
   "metadata": {},
   "outputs": [],
   "source": [
    "from sklearn.feature_selection import VarianceThreshold\n",
    "from sklearn.feature_selection import SelectKBest, f_classif"
   ]
  },
  {
   "cell_type": "markdown",
   "metadata": {},
   "source": [
    "Let use Threshold (75%) to reduce number of feature variance"
   ]
  },
  {
   "cell_type": "code",
   "execution_count": 21,
   "metadata": {},
   "outputs": [
    {
     "data": {
      "text/plain": [
       "'from 27 features we have 5'"
      ]
     },
     "metadata": {},
     "output_type": "display_data"
    }
   ],
   "source": [
    "df_variance = VarianceThreshold(0.75).fit_transform(df)\n",
    "display('from {} features we have {}'.format(df.shape[1], df_variance.shape[1]))"
   ]
  },
  {
   "cell_type": "markdown",
   "metadata": {},
   "source": [
    "We can use other SelectKBest with AVONA stat classifier and top 5 features"
   ]
  },
  {
   "cell_type": "code",
   "execution_count": 22,
   "metadata": {},
   "outputs": [],
   "source": [
    "df_best_5 = SelectKBest(f_classif, k=5).fit_transform(df, y)"
   ]
  },
  {
   "cell_type": "markdown",
   "metadata": {},
   "source": [
    "Let chectk how PCA will change the performance"
   ]
  },
  {
   "cell_type": "code",
   "execution_count": 23,
   "metadata": {},
   "outputs": [],
   "source": [
    "df_pca_variance = VarianceThreshold(.075).fit_transform(df_pca)"
   ]
  },
  {
   "cell_type": "markdown",
   "metadata": {},
   "source": [
    "**See the results**"
   ]
  },
  {
   "cell_type": "code",
   "execution_count": 24,
   "metadata": {},
   "outputs": [],
   "source": [
    "cv_df = cross_val_score(RandomForestClassifier(n_estimators=50, random_state=11), df, y, scoring='roc_auc').mean()\n",
    "cv_var_5 = cross_val_score(RandomForestClassifier(n_estimators=50, random_state=11), df_best_5, y, scoring='roc_auc').mean()\n",
    "cv_var_75 = cross_val_score(RandomForestClassifier(n_estimators=50, random_state=11), df_variance, y, scoring='roc_auc').mean()\n",
    "cv_pca = cross_val_score(RandomForestClassifier(n_estimators=50, random_state=11), df_pca_variance, y, scoring='roc_auc').mean()"
   ]
  },
  {
   "cell_type": "code",
   "execution_count": 25,
   "metadata": {},
   "outputs": [
    {
     "name": "stdout",
     "output_type": "stream",
     "text": [
      "------------------------\n"
     ]
    },
    {
     "data": {
      "text/plain": [
       "'Initial CV score 0.9017917267917268'"
      ]
     },
     "metadata": {},
     "output_type": "display_data"
    },
    {
     "data": {
      "text/plain": [
       "'CV score with 5 best features with SelectKBest sklearn class 0.9010942760942762'"
      ]
     },
     "metadata": {},
     "output_type": "display_data"
    },
    {
     "data": {
      "text/plain": [
       "'CV score with Threshold (75%) using VarianceThreshold sklearn class 0.7501362834696168'"
      ]
     },
     "metadata": {},
     "output_type": "display_data"
    },
    {
     "data": {
      "text/plain": [
       "'CV score on PCA tranformed data with Threshold (75%) using VarianceThreshold sklearn class 0.8991101491101492'"
      ]
     },
     "metadata": {},
     "output_type": "display_data"
    },
    {
     "name": "stdout",
     "output_type": "stream",
     "text": [
      "------------------------\n"
     ]
    }
   ],
   "source": [
    "print('------------------------')\n",
    "display('Initial CV score {}'.format(cv_df))\n",
    "display('CV score with 5 best features with SelectKBest sklearn class {}'.format(cv_var_5))\n",
    "display('CV score with Threshold (75%) using VarianceThreshold sklearn class {}'.format(cv_var_75))\n",
    "display('CV score on PCA tranformed data with Threshold (75%) using VarianceThreshold sklearn class {}'.format(cv_pca))\n",
    "print('------------------------')"
   ]
  },
  {
   "cell_type": "markdown",
   "metadata": {},
   "source": [
    "The initial value of 1 is due to the small amount of data. \n",
    "\n",
    "And we can say that PSA and a feature reduction by the threshold of 0.75 does not increase or even worsens the results.\n",
    "\n",
    "Select seems to do better. But a small amount of data allows us to use it fully.\n",
    "\n",
    "**So we are going to work with a full set of features.**\n",
    "\n",
    "And final test of our hypothesis we use one more solution."
   ]
  },
  {
   "cell_type": "markdown",
   "metadata": {},
   "source": [
    "### Use Feature selection tool to check our hypothesis"
   ]
  },
  {
   "cell_type": "code",
   "execution_count": 26,
   "metadata": {},
   "outputs": [
    {
     "data": {
      "text/plain": [
       "'total 27 features now'"
      ]
     },
     "metadata": {},
     "output_type": "display_data"
    }
   ],
   "source": [
    "#http://rasbt.github.io/mlxtend/\n",
    "from mlxtend.feature_selection import SequentialFeatureSelector\n",
    "# Split data\n",
    "X_train, X_test, y_train, y_test = train_test_split(df, y, train_size=0.2)\n",
    "display('total {} features now'.format(X_train.shape[1]))"
   ]
  },
  {
   "cell_type": "markdown",
   "metadata": {},
   "source": [
    "Start selector RandomForestClassifier. You can change verbose to 2, just to see how roc_auc changes"
   ]
  },
  {
   "cell_type": "code",
   "execution_count": 27,
   "metadata": {},
   "outputs": [
    {
     "data": {
      "text/plain": [
       "SequentialFeatureSelector(clone_estimator=True, cv=5,\n",
       "                          estimator=RandomForestClassifier(bootstrap=True,\n",
       "                                                           ccp_alpha=0.0,\n",
       "                                                           class_weight=None,\n",
       "                                                           criterion='gini',\n",
       "                                                           max_depth=None,\n",
       "                                                           max_features='auto',\n",
       "                                                           max_leaf_nodes=None,\n",
       "                                                           max_samples=None,\n",
       "                                                           min_impurity_decrease=0.0,\n",
       "                                                           min_impurity_split=None,\n",
       "                                                           min_samples_leaf=1,\n",
       "                                                           min_samples_split=2,\n",
       "                                                           min_weight_fraction_leaf=0.0,\n",
       "                                                           n_estimators=100,\n",
       "                                                           n_jobs=None,\n",
       "                                                           oob_score=False,\n",
       "                                                           random_state=11,\n",
       "                                                           verbose=0,\n",
       "                                                           warm_start=False),\n",
       "                          floating=False, forward=True, k_features=10,\n",
       "                          n_jobs=-1, pre_dispatch='2*n_jobs', scoring='roc_auc',\n",
       "                          verbose=0)"
      ]
     },
     "execution_count": 27,
     "metadata": {},
     "output_type": "execute_result"
    }
   ],
   "source": [
    "selector = SequentialFeatureSelector(RandomForestClassifier(random_state=11), scoring='roc_auc', \n",
    "                                     verbose=0,  k_features=10, forward=True, n_jobs=-1)\n",
    "selector.fit(X_train, y_train) # train selector"
   ]
  },
  {
   "cell_type": "markdown",
   "metadata": {},
   "source": [
    "Here is results. We can use just 9 features (out of 14) to get value of roc_auc - 0.93"
   ]
  },
  {
   "cell_type": "code",
   "execution_count": 29,
   "metadata": {},
   "outputs": [
    {
     "data": {
      "text/plain": [
       "\"features idx (0, 4, 9, 12, 13, 17, 21, 22, 25, 26), features name ('sex', 'cp_0', 'thal_1', 'slope_0', 'slope_1', 'restecg_2', 'ca_3', 'ca_4', 'trestbps', 'chol'), max score 0.9303571428571429\""
      ]
     },
     "metadata": {},
     "output_type": "display_data"
    }
   ],
   "source": [
    "display('features idx {}, features name {}, max score {}'.format(selector.k_feature_idx_, selector.k_feature_names_, selector.k_score_))"
   ]
  },
  {
   "cell_type": "markdown",
   "metadata": {},
   "source": [
    "Once again - 303 observation is not enought to use such approach to reduce noise (via feature reduction or transformation).\n",
    "\n",
    "So I propose to **use whole data set.** Even feature engineering in such a case will affect the accuracy of classification on new data.\n",
    "\n",
    "But for accurate reliability and applying a scientific approach to experiments - we will save the date set with a reduced number of features (10 out of 14)"
   ]
  },
  {
   "cell_type": "code",
   "execution_count": 30,
   "metadata": {},
   "outputs": [
    {
     "data": {
      "text/plain": [
       "(303, 10)"
      ]
     },
     "execution_count": 30,
     "metadata": {},
     "output_type": "execute_result"
    }
   ],
   "source": [
    "df_less_features = df[list(selector.k_feature_names_)]\n",
    "df_less_features.shape"
   ]
  },
  {
   "cell_type": "markdown",
   "metadata": {},
   "source": [
    "### 5 Use a random forest and LogisticRegression for Feature Importance\n",
    "\n",
    "We would like to see first look on feature importance rank"
   ]
  },
  {
   "cell_type": "code",
   "execution_count": 31,
   "metadata": {},
   "outputs": [],
   "source": [
    "random_forest = RandomForestClassifier(n_estimators=50, max_features=2, random_state=11, verbose=False).fit(X_train, y_train)\n",
    "logreg = LogisticRegression(random_state=11, verbose=False).fit(X_train, y_train)"
   ]
  },
  {
   "cell_type": "markdown",
   "metadata": {},
   "source": [
    "#### Plot graph of features importance "
   ]
  },
  {
   "cell_type": "code",
   "execution_count": 32,
   "metadata": {},
   "outputs": [
    {
     "data": {
      "image/png": "[encoded data removed]",
      "text/plain": [
       "<Figure size 360x360 with 1 Axes>"
      ]
     },
     "metadata": {
      "needs_background": "light"
     },
     "output_type": "display_data"
    },
    {
     "data": {
      "text/plain": [
       "'ROC_AUC is 0.8582551339589284'"
      ]
     },
     "metadata": {},
     "output_type": "display_data"
    }
   ],
   "source": [
    "def plot_features_importance(model, X_train, X_test, y_test):\n",
    "    ddd = pd.DataFrame(model.feature_importances_, X_train.columns, columns=[\"feature\"])\n",
    "    ddd = ddd.sort_values(by='feature', ascending=False).reset_index()\n",
    "    plt.figure(figsize=[5,5])\n",
    "    sns.barplot(x='index', y='feature', data=ddd[:15], palette=\"Blues_d\")\n",
    "    plt.title('Feature inportance of Random Forest')\n",
    "    plt.xticks(rotation=60)\n",
    "    plt.show();\n",
    "    display('ROC_AUC is {}'.format(roc_auc_score(y_test, random_forest.predict_proba(X_test)[:,1])))\n",
    "    \n",
    "# run function\n",
    "plot_features_importance(random_forest, X_train, X_test, y_test)"
   ]
  },
  {
   "cell_type": "code",
   "execution_count": 33,
   "metadata": {},
   "outputs": [
    {
     "data": {
      "image/png": "[encoded data removed]",
      "text/plain": [
       "<Figure size 432x432 with 1 Axes>"
      ]
     },
     "metadata": {
      "needs_background": "light"
     },
     "output_type": "display_data"
    }
   ],
   "source": [
    "# Plot \n",
    "plt.figure(figsize=(6,6))\n",
    "plt.bar(X_train.columns, logreg.coef_[0])\n",
    "plt.title('Feature inportance of LogisticRegression')\n",
    "plt.xticks(rotation=60)\n",
    "plt.show();"
   ]
  },
  {
   "cell_type": "markdown",
   "metadata": {},
   "source": [
    "We can use LogisticRegression coefs to see 'influence' of features.\n",
    "\n",
    "Random_forest and LogisticRegression see data differently. LogisticRegression is more about linear relations, while random_forest catch non-linear as well.\n",
    "\n",
    "For example, cp_0 feature at random_forest model is 2th, while for logreg it is negative! At the same time ca_0 in both models are number 1. Check age as well. \n",
    "\n",
    "Such insights help to understand which features has more linear or non-linear processes. (in certain point it is mixture of them)\n",
    "\n",
    "Although, for me all possible ways to use these differences are not yet available - I'm sure they can be useful for analyzing more complex data. \n",
    "\n",
    "This can give confidence, for example, in the **choice of transformation methods at the date cleaning stage.**\n"
   ]
  },
  {
   "cell_type": "markdown",
   "metadata": {},
   "source": [
    "#### Let see how many estinators random_forest needs for best performance"
   ]
  },
  {
   "cell_type": "code",
   "execution_count": 34,
   "metadata": {},
   "outputs": [
    {
     "name": "stderr",
     "output_type": "stream",
     "text": [
      "100%|██████████| 39/39 [00:07<00:00,  4.93it/s]\n"
     ]
    },
    {
     "data": {
      "text/plain": [
       "'max oob 0.8333333333333334 and number of estimators 115'"
      ]
     },
     "metadata": {},
     "output_type": "display_data"
    },
    {
     "data": {
      "image/png": "[encoded data removed]",
      "text/plain": [
       "<Figure size 432x288 with 1 Axes>"
      ]
     },
     "metadata": {
      "needs_background": "light"
     },
     "output_type": "display_data"
    }
   ],
   "source": [
    "def graph(model, X_train, y_train):\n",
    "    obb = []\n",
    "    est = list(range(5, 200, 5))\n",
    "    for i in tqdm(est):\n",
    "        random_forest = model(n_estimators=i, random_state=11,max_features=2,\n",
    "                                           verbose=0, oob_score=True, n_jobs=-1)\n",
    "        random_forest.fit(X_train, y_train)\n",
    "        obb.append(random_forest.oob_score_)\n",
    "        \n",
    "    display('max oob {} and number of estimators {}'.format(max(obb), est[np.argmax(obb)]))\n",
    "    plt.plot(est, obb)\n",
    "    plt.title('model')\n",
    "    plt.xlabel('number of estimators')\n",
    "    plt.ylabel('oob score')\n",
    "    plt.show();\n",
    "    \n",
    "graph(RandomForestClassifier, X_train, y_train)"
   ]
  },
  {
   "cell_type": "markdown",
   "metadata": {},
   "source": [
    "#### I used OOB score (out-of-bag) as more stable statistic for trees that better track Trees estimator performance. \n",
    "\n",
    "We see that **80 estimators** is enought for best score.\n",
    "\n",
    "More about OOB https://scikit-learn.org/stable/auto_examples/ensemble/plot_ensemble_oob.html"
   ]
  },
  {
   "cell_type": "markdown",
   "metadata": {},
   "source": [
    "### Compare decision tree and the random forest by checking performances `ROC` metrics"
   ]
  },
  {
   "cell_type": "code",
   "execution_count": 35,
   "metadata": {},
   "outputs": [
    {
     "data": {
      "text/plain": [
       "0.6065891472868217"
      ]
     },
     "execution_count": 35,
     "metadata": {},
     "output_type": "execute_result"
    }
   ],
   "source": [
    "dt = DecisionTreeClassifier()\n",
    "dt.fit(X_train, y_train)\n",
    "roc_auc_score(y_test, dt.predict_proba(X_test)[:,1])"
   ]
  },
  {
   "cell_type": "code",
   "execution_count": 36,
   "metadata": {},
   "outputs": [
    {
     "data": {
      "image/png": "[encoded data removed]",
      "text/plain": [
       "<Figure size 432x288 with 1 Axes>"
      ]
     },
     "metadata": {
      "needs_background": "light"
     },
     "output_type": "display_data"
    },
    {
     "data": {
      "image/png": "[encoded data removed]",
      "text/plain": [
       "<Figure size 432x288 with 1 Axes>"
      ]
     },
     "metadata": {
      "needs_background": "light"
     },
     "output_type": "display_data"
    }
   ],
   "source": [
    "plot_roc_curve(dt, X_test, y_test, c='r', label='Decision Tree')\n",
    "plot_roc_curve(random_forest, X_test, y_test, label='Random Forest')\n",
    "plt.show();"
   ]
  },
  {
   "cell_type": "markdown",
   "metadata": {},
   "source": [
    "Here you can clearly see how the random forest more accurately describes (line is more flexible with bigger total square) the data, with more **than 0.90 ROC_AUC score**"
   ]
  },
  {
   "cell_type": "markdown",
   "metadata": {},
   "source": [
    "### 6. Let us play with more advanced model - `AdaBoost`. We consider the variables `Thal`, `Sex`, `ChestPain` and Chol`\n",
    "\n",
    "We want to compare how such algoritm perform with limited data comparing to more simple one with complite dataset\n"
   ]
  },
  {
   "cell_type": "code",
   "execution_count": 37,
   "metadata": {},
   "outputs": [],
   "source": [
    "X_t, Xt, y_t, yt = train_test_split(df[['thal_0', 'thal_1', 'thal_2', 'thal_3', 'sex', 'cp_0', 'cp_1', 'cp_2', 'cp_3']], y)"
   ]
  },
  {
   "cell_type": "code",
   "execution_count": 38,
   "metadata": {},
   "outputs": [
    {
     "data": {
      "text/plain": [
       "0.9239583333333334"
      ]
     },
     "execution_count": 38,
     "metadata": {},
     "output_type": "execute_result"
    }
   ],
   "source": [
    "adaboost = AdaBoostClassifier(n_estimators=100, random_state=11)\n",
    "adaboost.fit(X_t, y_t)\n",
    "\n",
    "roc_auc_score(yt, adaboost.predict_proba(Xt)[:,1])"
   ]
  },
  {
   "cell_type": "markdown",
   "metadata": {},
   "source": [
    "Wow! Just with 9 features (selected rather randomly) we have huge score improvement "
   ]
  },
  {
   "cell_type": "markdown",
   "metadata": {},
   "source": [
    "#### Can we do better? Let us use GridSearch\n"
   ]
  },
  {
   "cell_type": "code",
   "execution_count": 39,
   "metadata": {},
   "outputs": [],
   "source": [
    "# Parameters \n",
    "param_grid = [{'n_estimators' : list(range(25, 150, 25))\n",
    "              }]\n",
    "cv = StratifiedKFold(random_state=11)"
   ]
  },
  {
   "cell_type": "code",
   "execution_count": 40,
   "metadata": {},
   "outputs": [],
   "source": [
    "adaboost_1 = AdaBoostClassifier(random_state=11)\n",
    "grid = RandomizedSearchCV(adaboost_1, param_distributions=param_grid, scoring='roc_auc', cv=cv)"
   ]
  },
  {
   "cell_type": "code",
   "execution_count": 41,
   "metadata": {},
   "outputs": [
    {
     "data": {
      "text/plain": [
       "RandomizedSearchCV(cv=StratifiedKFold(n_splits=5, random_state=11, shuffle=False),\n",
       "                   error_score=nan,\n",
       "                   estimator=AdaBoostClassifier(algorithm='SAMME.R',\n",
       "                                                base_estimator=None,\n",
       "                                                learning_rate=1.0,\n",
       "                                                n_estimators=50,\n",
       "                                                random_state=11),\n",
       "                   iid='deprecated', n_iter=10, n_jobs=None,\n",
       "                   param_distributions=[{'n_estimators': [25, 50, 75, 100,\n",
       "                                                          125]}],\n",
       "                   pre_dispatch='2*n_jobs', random_state=None, refit=True,\n",
       "                   return_train_score=False, scoring='roc_auc', verbose=0)"
      ]
     },
     "execution_count": 41,
     "metadata": {},
     "output_type": "execute_result"
    }
   ],
   "source": [
    "grid.fit(X_t, y_t)"
   ]
  },
  {
   "cell_type": "code",
   "execution_count": 42,
   "metadata": {},
   "outputs": [
    {
     "data": {
      "text/plain": [
       "(AdaBoostClassifier(algorithm='SAMME.R', base_estimator=None, learning_rate=1.0,\n",
       "                    n_estimators=25, random_state=11),\n",
       " {'n_estimators': 25},\n",
       " 0.8131142857142859)"
      ]
     },
     "execution_count": 42,
     "metadata": {},
     "output_type": "execute_result"
    }
   ],
   "source": [
    "grid.best_estimator_, grid.best_params_, grid.best_score_"
   ]
  },
  {
   "cell_type": "code",
   "execution_count": 43,
   "metadata": {},
   "outputs": [
    {
     "data": {
      "text/plain": [
       "'CV score is 0.8131142857142859'"
      ]
     },
     "metadata": {},
     "output_type": "display_data"
    }
   ],
   "source": [
    "cv = cross_val_score(grid.best_estimator_, X_t, y_t, scoring='roc_auc', cv=5)\n",
    "display('CV score is {}'.format(np.mean(cv)))"
   ]
  },
  {
   "cell_type": "markdown",
   "metadata": {},
   "source": [
    "**The results are less!**\n",
    "\n",
    "An example of how complex algorithms on small data can behave unstably.\n"
   ]
  },
  {
   "cell_type": "markdown",
   "metadata": {},
   "source": [
    "### Let the partial effects for the previous subset of variables (thal_0', 'thal_1', 'thal_2', 'thal_3', 'sex', 'cp_0', 'cp_1', 'cp_2', 'cp_3)"
   ]
  },
  {
   "cell_type": "code",
   "execution_count": 44,
   "metadata": {},
   "outputs": [
    {
     "data": {
      "image/png": "[encoded data removed]",
      "text/plain": [
       "<Figure size 432x288 with 10 Axes>"
      ]
     },
     "metadata": {
      "needs_background": "light"
     },
     "output_type": "display_data"
    }
   ],
   "source": [
    "# save features\n",
    "features = list(X_t.columns)\n",
    "# plot \n",
    "plot_partial_dependence(grid.best_estimator_, X_t, features,\n",
    "                        n_jobs=3, grid_resolution=20)\n",
    "fig = plt.gcf()\n",
    "fig.suptitle('partial dependence of features ')\n",
    "fig.subplots_adjust(hspace=0.2)\n",
    "plt.show();"
   ]
  },
  {
   "cell_type": "markdown",
   "metadata": {},
   "source": [
    "Partial dependence plots show the dependence between the target function 2 and a set of ‘target’ features, marginalizing over the values of all other features (the complement features). \n",
    "https://scikit-learn.org/stable/auto_examples/inspection/plot_partial_dependence.html#sphx-glr-auto-examples-inspection-plot-partial-dependence-py"
   ]
  },
  {
   "cell_type": "markdown",
   "metadata": {},
   "source": [
    "Here we see two strong dependence (a linear relationship). People get ill with thal_2 feature (top left). cp_0 (no chest pain) says that they are not ill at all.\n",
    "\n",
    "thal_0', 'thal_1' - week dependences but with small positive rate. all others are not dependent."
   ]
  },
  {
   "cell_type": "markdown",
   "metadata": {},
   "source": [
    "### 7. Calculate and compare models (linear, boosting and others) with and without feature reduction\n",
    "\n",
    "Metrics are:\n",
    "\n",
    "- Mean squared error\n",
    "- Prediction accuracy\n",
    "- ROC_AUC"
   ]
  },
  {
   "cell_type": "code",
   "execution_count": 50,
   "metadata": {},
   "outputs": [
    {
     "data": {
      "text/plain": [
       "((303, 10), (303, 27))"
      ]
     },
     "execution_count": 50,
     "metadata": {},
     "output_type": "execute_result"
    }
   ],
   "source": [
    "'''To get same results you need run it two times. \n",
    "First time with df X_train, X_test, y_train, y_test = train_test_split(df, y) \n",
    "get the results df dataset with 27 features.\n",
    "\n",
    "Second time \n",
    "X_train, X_test, y_train, y_test = train_test_split(df_less_features, y)\n",
    "get result for df_less_features with 10 features'''\n",
    "\n",
    "X_train, X_test, y_train, y_test = train_test_split(df, y)\n",
    "df_less_features.shape, df.shape"
   ]
  },
  {
   "cell_type": "code",
   "execution_count": 51,
   "metadata": {},
   "outputs": [],
   "source": [
    "n_jobs = -1\n",
    "random_state = 11 \n",
    "\n",
    "### Pipeline\n",
    "\n",
    "pipe_rf = Pipeline([('rf', RandomForestClassifier(random_state=random_state, n_jobs=n_jobs))])\n",
    "\n",
    "pipe_ada = Pipeline([('ada', AdaBoostClassifier(base_estimator=DecisionTreeClassifier(), random_state=random_state))])\n",
    "\n",
    "pipe_gbc = Pipeline([('gbc', GradientBoostingClassifier(random_state=random_state))])\n",
    "\n",
    "pipe_ext = Pipeline([('ext', ExtraTreesClassifier(random_state=random_state, n_jobs=n_jobs))])\n",
    "\n",
    "pipe_cat = Pipeline([('cat', CatBoostClassifier(random_state=random_state, verbose=False))])\n",
    "\n",
    "pipe_bag = Pipeline([('bag', BaggingClassifier(n_jobs=n_jobs, random_state=random_state))])\n",
    "\n",
    "pipe_svc = Pipeline([('svc', SVC(random_state=random_state, probability=True))])\n",
    "\n",
    "pipe_xgb = Pipeline([('xgb', xgboost.XGBClassifier(n_jobs=n_jobs, random_state=random_state))])\n",
    "\n",
    "### params\n",
    "\n",
    "cv = StratifiedKFold(shuffle=False, n_splits=5, random_state=11)\n",
    "\n",
    "grid_params_rf = [{\n",
    "                'rf__criterion': ['entropy', 'gini'],\n",
    "                'rf__min_samples_leaf': [10, 15, 20],\n",
    "                'rf__max_depth': [10, 15, 20],\n",
    "                'rf__n_estimators' : list(range(40, 120, 20))\n",
    "                }]\n",
    "\n",
    "grid_params_ada = [{\n",
    "                'ada__learning_rate' : [0.5, 0.8, 1],\n",
    "                'ada__n_estimators': [25, 50]\n",
    "                }]\n",
    "\n",
    "grid_params_gbc = [{\n",
    "                'gbc__learning_rate' : list(np.linspace(0.01, 0.5, 5))\n",
    "                }]\n",
    "\n",
    "grid_params_ext = [{\n",
    "                'ext__min_samples_leaf': [15, 18, 20],\n",
    "                'ext__max_depth': [10, 15, 16],\n",
    "                'ext__n_estimators' : [50, 100, 150]\n",
    "                }]\n",
    "\n",
    "grid_params_cat = [{\n",
    "                'cat__learning_rate' : [0.003, 0.004],\n",
    "                'cat__iterations': [1000]\n",
    "    \n",
    "                }]\n",
    "\n",
    "grid_params_bag = [{'bag__base_estimator': [KNeighborsClassifier()],\n",
    "                'bag__n_estimators': [50, 70, 80] #list(range(10, 80, 10))\n",
    "                    }]\n",
    "\n",
    "grid_params_svc = [{\n",
    "                    'svc__C': [1, 3, 4]\n",
    "                    }]\n",
    "\n",
    "grid_params_xgb = [{\n",
    "                'xgb__booster': ['gbtree', 'gblinear'],\n",
    "                'xgb__max_depth': list(range(3,15,3)),\n",
    "                'xgb__learning_rate': list(np.linspace(0.1, 0.9, 3)),\n",
    "                'xgb__n_estimators': list(range(100, 300, 100)),\n",
    "                'xgb__min_child_weight': list(range(1,6,2)),\n",
    "                'xgb__eta': [0.2, 0.3]\n",
    "                }]\n",
    "\n",
    "### RandomizedSearchCV\n",
    "\n",
    "gs_rf = RandomizedSearchCV(pipe_rf, param_distributions=grid_params_rf,\n",
    "                     scoring='roc_auc', cv=cv, n_iter=15)\n",
    "\n",
    "gs_ada = RandomizedSearchCV(pipe_ada, param_distributions=grid_params_ada,\n",
    "                     scoring='roc_auc', cv=cv, n_iter=15)\n",
    "\n",
    "gs_gbc = RandomizedSearchCV(pipe_gbc, param_distributions=grid_params_gbc,\n",
    "                     scoring='roc_auc', cv=cv, n_iter=15)\n",
    "\n",
    "gs_ext = RandomizedSearchCV(pipe_ext, param_distributions=grid_params_ext,\n",
    "                     scoring='roc_auc', cv=cv, n_iter=15)\n",
    "\n",
    "gs_cat = RandomizedSearchCV(pipe_cat, param_distributions=grid_params_cat,\n",
    "                     scoring='roc_auc', cv=cv, n_iter=15)\n",
    "\n",
    "gs_bag = RandomizedSearchCV(pipe_bag, param_distributions=grid_params_bag,\n",
    "                     scoring='roc_auc', cv=cv, n_iter=15)\n",
    "\n",
    "gs_svc = RandomizedSearchCV(pipe_svc, param_distributions=grid_params_svc,\n",
    "                     scoring='roc_auc', cv=cv, n_iter=15)\n",
    "\n",
    "gs_xgb = RandomizedSearchCV(pipe_xgb, param_distributions=grid_params_xgb,\n",
    "                     scoring='roc_auc', cv=cv, n_iter=15)\n",
    "\n",
    "### Dict of models\n",
    "look_for = [gs_rf, gs_ada, gs_gbc, gs_ext, gs_cat, gs_bag, gs_svc, gs_xgb]\n",
    "\n",
    "model_dict = {0:'RandomForest', 1: 'Adaboost', 2: \"Gradient boost\", 3:'ExtraTreeBoost', 4: 'Catboost', 5:'Bagging', \\\n",
    "             6:'SupportVEctorClass', 7:'Xgb'}"
   ]
  },
  {
   "cell_type": "code",
   "execution_count": 52,
   "metadata": {},
   "outputs": [
    {
     "name": "stdout",
     "output_type": "stream",
     "text": [
      "\n",
      "+++++++ Start New Model ++++++++++++++++++++++\n",
      "Estimator is RandomForest\n",
      "---------------------------------------------\n",
      "best params {'rf__n_estimators': 60, 'rf__min_samples_leaf': 10, 'rf__max_depth': 20, 'rf__criterion': 'gini'}\n",
      "best score is 0.9227142857142857\n",
      "---------------------------------------------\n",
      "ROC_AUC is 0.897815362931642 and accuracy rate is 0.897815362931642\n",
      "It lasted for 15.704 sec\n",
      "++++++++ End Model +++++++++++++++++++++++++++\n",
      "\n",
      "\n",
      "\n",
      "+++++++ Start New Model ++++++++++++++++++++++\n",
      "Estimator is Adaboost\n",
      "---------------------------------------------\n",
      "best params {'ada__n_estimators': 25, 'ada__learning_rate': 0.5}\n",
      "best score is 0.7351666666666666\n",
      "---------------------------------------------\n",
      "ROC_AUC is 0.7427766032417196 and accuracy rate is 0.7427766032417196\n",
      "It lasted for 0.151 sec\n",
      "++++++++ End Model +++++++++++++++++++++++++++\n",
      "\n",
      "\n",
      "\n",
      "+++++++ Start New Model ++++++++++++++++++++++\n",
      "Estimator is Gradient boost\n",
      "---------------------------------------------\n",
      "best params {'gbc__learning_rate': 0.1325}\n",
      "best score is 0.8998095238095238\n",
      "---------------------------------------------\n",
      "ROC_AUC is 0.8329809725158563 and accuracy rate is 0.8329809725158563\n",
      "It lasted for 1.455 sec\n",
      "++++++++ End Model +++++++++++++++++++++++++++\n",
      "\n",
      "\n",
      "\n",
      "+++++++ Start New Model ++++++++++++++++++++++\n",
      "Estimator is ExtraTreeBoost\n",
      "---------------------------------------------\n",
      "best params {'ext__n_estimators': 100, 'ext__min_samples_leaf': 20, 'ext__max_depth': 10}\n",
      "best score is 0.9196190476190476\n",
      "---------------------------------------------\n",
      "ROC_AUC is 0.9034531360112754 and accuracy rate is 0.9034531360112754\n",
      "It lasted for 16.473 sec\n",
      "++++++++ End Model +++++++++++++++++++++++++++\n",
      "\n",
      "\n",
      "\n",
      "+++++++ Start New Model ++++++++++++++++++++++\n",
      "Estimator is Catboost\n",
      "---------------------------------------------\n",
      "best params {'cat__learning_rate': 0.004, 'cat__iterations': 1000}\n",
      "best score is 0.9193333333333333\n",
      "---------------------------------------------\n",
      "ROC_AUC is 0.8886539816772374 and accuracy rate is 0.8886539816772374\n",
      "It lasted for 7.974 sec\n",
      "++++++++ End Model +++++++++++++++++++++++++++\n",
      "\n",
      "\n",
      "\n",
      "+++++++ Start New Model ++++++++++++++++++++++\n",
      "Estimator is Bagging\n",
      "---------------------------------------------\n",
      "best params {'bag__n_estimators': 50, 'bag__base_estimator': KNeighborsClassifier(algorithm='auto', leaf_size=30, metric='minkowski',\n",
      "                     metric_params=None, n_jobs=None, n_neighbors=5, p=2,\n",
      "                     weights='uniform')}\n",
      "best score is 0.900531746031746\n",
      "---------------------------------------------\n",
      "ROC_AUC is 0.8657505285412262 and accuracy rate is 0.8657505285412262\n",
      "It lasted for 1.241 sec\n",
      "++++++++ End Model +++++++++++++++++++++++++++\n",
      "\n",
      "\n",
      "\n",
      "+++++++ Start New Model ++++++++++++++++++++++\n",
      "Estimator is SupportVEctorClass\n",
      "---------------------------------------------\n",
      "best params {'svc__C': 1}\n",
      "best score is 0.9055873015873015\n",
      "---------------------------------------------\n",
      "ROC_AUC is 0.8872445384073291 and accuracy rate is 0.8872445384073291\n",
      "It lasted for 0.159 sec\n",
      "++++++++ End Model +++++++++++++++++++++++++++\n",
      "\n",
      "\n",
      "\n",
      "+++++++ Start New Model ++++++++++++++++++++++\n",
      "Estimator is Xgb\n",
      "---------------------------------------------\n",
      "best params {'xgb__n_estimators': 200, 'xgb__min_child_weight': 3, 'xgb__max_depth': 6, 'xgb__learning_rate': 0.1, 'xgb__eta': 0.2, 'xgb__booster': 'gbtree'}\n",
      "best score is 0.9062380952380952\n",
      "---------------------------------------------\n",
      "ROC_AUC is 0.8491895701198027 and accuracy rate is 0.8491895701198027\n",
      "It lasted for 2.187 sec\n",
      "++++++++ End Model +++++++++++++++++++++++++++\n",
      "\n",
      "\n"
     ]
    }
   ],
   "source": [
    "''' Function to iterate over models and obtain results'''\n",
    "# set empty dicts and list\n",
    "result_acc = {}\n",
    "result_auc = {}\n",
    "mse = {}\n",
    "models = []\n",
    "# iterate over models \n",
    "for index, model in enumerate(look_for):\n",
    "        start = time.time()\n",
    "        print()\n",
    "        print('+++++++ Start New Model ++++++++++++++++++++++')\n",
    "        print('Estimator is {}'.format(model_dict[index]))\n",
    "        model.fit(X_train, y_train)\n",
    "        print('---------------------------------------------')\n",
    "        print('best params {}'.format(model.best_params_))\n",
    "        print('best score is {}'.format(model.best_score_))\n",
    "        auc = roc_auc_score(y_test, model.predict_proba(X_test)[:,1])\n",
    "        print('---------------------------------------------')\n",
    "        print('ROC_AUC is {} and accuracy rate is {}'.format(auc, model.score(X_test, y_test)))\n",
    "        end = time.time()\n",
    "        print('It lasted for {} sec'.format(round(end - start, 3)))\n",
    "        print('++++++++ End Model +++++++++++++++++++++++++++')\n",
    "        print()\n",
    "        print()\n",
    "        models.append(model.best_estimator_)\n",
    "        result_acc[index] = model.best_score_\n",
    "        result_auc[index] = auc\n",
    "        mse[index] = mean_squared_error(y_test, model.predict(X_test))     "
   ]
  },
  {
   "cell_type": "code",
   "execution_count": 60,
   "metadata": {},
   "outputs": [],
   "source": [
    "# func to show results\n",
    "\n",
    "def model_performance(df, result_acc, result_auc, mse, model_dict):\n",
    "    result = pd.DataFrame([result_acc, result_auc, mse])\n",
    "    result.columns = list(model_dict.values())\n",
    "    result.index = ['accouracy', 'roc_auc', 'MSE']\n",
    "    display(result.head(), 'shape of data is {}'.format(df.shape))\n",
    "    plt.figure(figsize=(8,8))\n",
    "    plt.plot(result.columns.values, result.iloc[0,:].values, label=['accouracy'])\n",
    "    plt.plot(result.columns.values, result.iloc[1,:].values, label=['roc_auc'])\n",
    "    plt.plot(result.columns.values, result.iloc[2,:].values, label=['mse'])\n",
    "\n",
    "    plt.xticks(rotation=60)\n",
    "    plt.title('Compare performance')\n",
    "    plt.legend()\n",
    "    plt.show()\n",
    "\n",
    "def plot_ExtraTreesClassifier():\n",
    "    extra_tree = ExtraTreesClassifier(n_estimators=100, min_samples_leaf=15, max_depth=15).fit(df, y)\n",
    "\n",
    "    temp_df = pd.DataFrame(df.columns, extra_tree.feature_importances_, columns=['feature']).reset_index().sort_values(by='index', ascending=False)\n",
    "    temp_df.columns = ['Feature_importance', 'Feature']\n",
    "\n",
    "    plt.bar(temp_df[:7].Feature, temp_df[:7].Feature_importance)\n",
    "    plt.xticks(rotation=60)\n",
    "    plt.title('Feature_importance')\n",
    "    plt.show();"
   ]
  },
  {
   "cell_type": "markdown",
   "metadata": {},
   "source": [
    "### Results WITHOUT feature reduction. Here we use 27 features."
   ]
  },
  {
   "cell_type": "code",
   "execution_count": 53,
   "metadata": {},
   "outputs": [
    {
     "data": {
      "text/html": [
       "<div>\n",
       "<style scoped>\n",
       "    .dataframe tbody tr th:only-of-type {\n",
       "        vertical-align: middle;\n",
       "    }\n",
       "\n",
       "    .dataframe tbody tr th {\n",
       "        vertical-align: top;\n",
       "    }\n",
       "\n",
       "    .dataframe thead th {\n",
       "        text-align: right;\n",
       "    }\n",
       "</style>\n",
       "<table border=\"1\" class=\"dataframe\">\n",
       "  <thead>\n",
       "    <tr style=\"text-align: right;\">\n",
       "      <th></th>\n",
       "      <th>RandomForest</th>\n",
       "      <th>Adaboost</th>\n",
       "      <th>Gradient boost</th>\n",
       "      <th>ExtraTreeBoost</th>\n",
       "      <th>Catboost</th>\n",
       "      <th>Bagging</th>\n",
       "      <th>SupportVEctorClass</th>\n",
       "      <th>Xgb</th>\n",
       "    </tr>\n",
       "  </thead>\n",
       "  <tbody>\n",
       "    <tr>\n",
       "      <th>accouracy</th>\n",
       "      <td>0.922714</td>\n",
       "      <td>0.735167</td>\n",
       "      <td>0.899810</td>\n",
       "      <td>0.919619</td>\n",
       "      <td>0.919333</td>\n",
       "      <td>0.900532</td>\n",
       "      <td>0.905587</td>\n",
       "      <td>0.906238</td>\n",
       "    </tr>\n",
       "    <tr>\n",
       "      <th>roc_auc</th>\n",
       "      <td>0.897815</td>\n",
       "      <td>0.742777</td>\n",
       "      <td>0.832981</td>\n",
       "      <td>0.903453</td>\n",
       "      <td>0.888654</td>\n",
       "      <td>0.865751</td>\n",
       "      <td>0.887245</td>\n",
       "      <td>0.849190</td>\n",
       "    </tr>\n",
       "    <tr>\n",
       "      <th>MSE</th>\n",
       "      <td>0.171053</td>\n",
       "      <td>0.263158</td>\n",
       "      <td>0.236842</td>\n",
       "      <td>0.197368</td>\n",
       "      <td>0.171053</td>\n",
       "      <td>0.223684</td>\n",
       "      <td>0.210526</td>\n",
       "      <td>0.223684</td>\n",
       "    </tr>\n",
       "  </tbody>\n",
       "</table>\n",
       "</div>"
      ],
      "text/plain": [
       "           RandomForest  Adaboost  Gradient boost  ExtraTreeBoost  Catboost  \\\n",
       "accouracy      0.922714  0.735167        0.899810        0.919619  0.919333   \n",
       "roc_auc        0.897815  0.742777        0.832981        0.903453  0.888654   \n",
       "MSE            0.171053  0.263158        0.236842        0.197368  0.171053   \n",
       "\n",
       "            Bagging  SupportVEctorClass       Xgb  \n",
       "accouracy  0.900532            0.905587  0.906238  \n",
       "roc_auc    0.865751            0.887245  0.849190  \n",
       "MSE        0.223684            0.210526  0.223684  "
      ]
     },
     "metadata": {},
     "output_type": "display_data"
    },
    {
     "data": {
      "text/plain": [
       "'shape of data is (303, 27)'"
      ]
     },
     "metadata": {},
     "output_type": "display_data"
    },
    {
     "data": {
      "image/png": "[encoded data removed]",
      "text/plain": [
       "<Figure size 576x576 with 1 Axes>"
      ]
     },
     "metadata": {
      "needs_background": "light"
     },
     "output_type": "display_data"
    }
   ],
   "source": [
    "model_performance(df, result_acc, result_auc, mse, model_dict)"
   ]
  },
  {
   "cell_type": "markdown",
   "metadata": {},
   "source": [
    "### Results WITH feature reduction. Here we use 10 features. See above how df_less_features was generated."
   ]
  },
  {
   "cell_type": "code",
   "execution_count": 49,
   "metadata": {},
   "outputs": [
    {
     "data": {
      "text/html": [
       "<div>\n",
       "<style scoped>\n",
       "    .dataframe tbody tr th:only-of-type {\n",
       "        vertical-align: middle;\n",
       "    }\n",
       "\n",
       "    .dataframe tbody tr th {\n",
       "        vertical-align: top;\n",
       "    }\n",
       "\n",
       "    .dataframe thead th {\n",
       "        text-align: right;\n",
       "    }\n",
       "</style>\n",
       "<table border=\"1\" class=\"dataframe\">\n",
       "  <thead>\n",
       "    <tr style=\"text-align: right;\">\n",
       "      <th></th>\n",
       "      <th>RandomForest</th>\n",
       "      <th>Adaboost</th>\n",
       "      <th>Gradient boost</th>\n",
       "      <th>ExtraTreeBoost</th>\n",
       "      <th>Catboost</th>\n",
       "      <th>Bagging</th>\n",
       "      <th>SupportVEctorClass</th>\n",
       "      <th>Xgb</th>\n",
       "    </tr>\n",
       "  </thead>\n",
       "  <tbody>\n",
       "    <tr>\n",
       "      <th>accouracy</th>\n",
       "      <td>0.838229</td>\n",
       "      <td>0.663333</td>\n",
       "      <td>0.798686</td>\n",
       "      <td>0.855210</td>\n",
       "      <td>0.821505</td>\n",
       "      <td>0.821371</td>\n",
       "      <td>0.814133</td>\n",
       "      <td>0.821200</td>\n",
       "    </tr>\n",
       "    <tr>\n",
       "      <th>roc_auc</th>\n",
       "      <td>0.870139</td>\n",
       "      <td>0.737500</td>\n",
       "      <td>0.851042</td>\n",
       "      <td>0.891667</td>\n",
       "      <td>0.887500</td>\n",
       "      <td>0.877778</td>\n",
       "      <td>0.875000</td>\n",
       "      <td>0.870486</td>\n",
       "    </tr>\n",
       "    <tr>\n",
       "      <th>MSE</th>\n",
       "      <td>0.184211</td>\n",
       "      <td>0.263158</td>\n",
       "      <td>0.223684</td>\n",
       "      <td>0.250000</td>\n",
       "      <td>0.184211</td>\n",
       "      <td>0.197368</td>\n",
       "      <td>0.157895</td>\n",
       "      <td>0.184211</td>\n",
       "    </tr>\n",
       "  </tbody>\n",
       "</table>\n",
       "</div>"
      ],
      "text/plain": [
       "           RandomForest  Adaboost  Gradient boost  ExtraTreeBoost  Catboost  \\\n",
       "accouracy      0.838229  0.663333        0.798686        0.855210  0.821505   \n",
       "roc_auc        0.870139  0.737500        0.851042        0.891667  0.887500   \n",
       "MSE            0.184211  0.263158        0.223684        0.250000  0.184211   \n",
       "\n",
       "            Bagging  SupportVEctorClass       Xgb  \n",
       "accouracy  0.821371            0.814133  0.821200  \n",
       "roc_auc    0.877778            0.875000  0.870486  \n",
       "MSE        0.197368            0.157895  0.184211  "
      ]
     },
     "metadata": {},
     "output_type": "display_data"
    },
    {
     "data": {
      "text/plain": [
       "'shape of data is (303, 10)'"
      ]
     },
     "metadata": {},
     "output_type": "display_data"
    },
    {
     "data": {
      "image/png": "[encoded data removed]",
      "text/plain": [
       "<Figure size 576x576 with 1 Axes>"
      ]
     },
     "metadata": {
      "needs_background": "light"
     },
     "output_type": "display_data"
    }
   ],
   "source": [
    "model_performance(df_less_features, result_acc, result_auc, mse, model_dict)"
   ]
  },
  {
   "cell_type": "markdown",
   "metadata": {},
   "source": [
    "## 8. Conclusion"
   ]
  },
  {
   "cell_type": "markdown",
   "metadata": {},
   "source": [
    "### General overview:\n",
    "\n",
    "### 1 Here are most important factors that influence on heart disease in any age or affect any gender\n",
    "\n",
    "* Chest Pain\n",
    "* Fixed defect or heart without defect\n",
    "* Number of vessels\n",
    "* Exercise induced angina\n",
    "* Slopes of the peak exercise ST segment (more about https://www.sciencedirect.com/science/article/abs/pii/0002870386902656)\n"
   ]
  },
  {
   "cell_type": "code",
   "execution_count": 63,
   "metadata": {},
   "outputs": [
    {
     "data": {
      "image/png": "[encoded data removed]",
      "text/plain": [
       "<Figure size 432x288 with 1 Axes>"
      ]
     },
     "metadata": {
      "needs_background": "light"
     },
     "output_type": "display_data"
    }
   ],
   "source": [
    "plot_ExtraTreesClassifier()"
   ]
  },
  {
   "cell_type": "markdown",
   "metadata": {},
   "source": [
    "### 2 With additional data record (person profile data) it is possible to predict illness with more than 90% accuracy"
   ]
  },
  {
   "cell_type": "markdown",
   "metadata": {},
   "source": [
    "Almost all models showed quite good results.\n",
    "\n",
    "* As expected, models built on ensembles were able to accurately determine non-linear relationships.\n",
    "\n",
    "* Processing speed fast enough to use personal computers.\n",
    "\n",
    "* Reducing the variables from 27 to 10 did not significantly affect the result, which may reduce the cost (time) of diagnosing patients.\n",
    "\n",
    "* conducted EDA (see p 1) allow clearly articulate a risk group by age, gender and other characteristics"
   ]
  },
  {
   "cell_type": "markdown",
   "metadata": {},
   "source": [
    "### 3 Metrics and evaluation models.\n",
    "\n",
    "The presented metrics evaluate different approaches of models in the process of data evaluation.\n",
    "\n",
    "The choice of them, accordingly, *** will depend on the priorities of management ***, which set priorities.\n",
    "\n",
    "For example, if we assume that erros in classification for a healthy person is less significant (Type I error) than erros in classification of a patient, then the appropriate metric would be ***Precision.***\n",
    "\n",
    "About Precision https://en.wikipedia.org/wiki/Precision_and_recall#Precision\n",
    "\n",
    "Here is additionally about metrics https://en.wikipedia.org/wiki/Receiver_operating_characteristic"
   ]
  },
  {
   "cell_type": "markdown",
   "metadata": {},
   "source": [
    "### 4 How to use results and models?"
   ]
  },
  {
   "cell_type": "markdown",
   "metadata": {},
   "source": [
    "Such studies can help with early diagnosis of diseases, helping to reduce the risk of complications.\n",
    "\n",
    "Also modeling can be used by other specialists in the medical field without the high cost of IT infrastructure with acceptable accuracy and speed.\n",
    "\n",
    "Naturally, this modeling can be used by a wider circle: patients, insurance companies, researchers etc."
   ]
  },
  {
   "cell_type": "markdown",
   "metadata": {},
   "source": [
    "-------------------------------------"
   ]
  },
  {
   "cell_type": "markdown",
   "metadata": {},
   "source": [
    "Thank you for your time! I will be glad to hear your comments or questions.\n",
    "Gavrysh Volodymyr https://www.linkedin.com/in/volodymyrgavrish/\n",
    "email: vladimir101175@gmail.com\n",
    "\n",
    "Attribution 4.0 International (CC BY 4.0)"
   ]
  }
 ],
 "metadata": {
  "colab": {
   "collapsed_sections": [],
   "name": "Module 5.5: Boosting, part 2: Gradient Boosting, XGboost || Exercises.ipynb",
   "provenance": []
  },
  "kernelspec": {
   "display_name": "Python 3",
   "language": "python",
   "name": "python3"
  },
  "language_info": {
   "codemirror_mode": {
    "name": "ipython",
    "version": 3
   },
   "file_extension": ".py",
   "mimetype": "text/x-python",
   "name": "python",
   "nbconvert_exporter": "python",
   "pygments_lexer": "ipython3",
   "version": "3.7.6"
  }
 },
 "nbformat": 4,
 "nbformat_minor": 4
}
