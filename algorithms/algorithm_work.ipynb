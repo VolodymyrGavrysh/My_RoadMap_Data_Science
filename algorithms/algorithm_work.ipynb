{
 "cells": [
  {
   "cell_type": "code",
   "execution_count": null,
   "metadata": {},
   "outputs": [],
   "source": [
    "def merge_sort(arr):\n",
    "    if len(arr) < 2:\n",
    "        return arr\n",
    "    l = int(len(arr) / 2)\n",
    "    x = merge_sort(arr[:l])\n",
    "    y = merge_sort(arr[l:])\n",
    "    i, j = 0, 0\n",
    "    new = []\n",
    "    while i < len(x) and j < len(y):\n",
    "        if x[i] > y[j]:\n",
    "            new.append(y[j])\n",
    "            j += 1\n",
    "        else:\n",
    "            new.append(x[i])\n",
    "            i += 1\n",
    "    new += x[i:]\n",
    "    new += y[j:]\n",
    "    return new\n",
    "\n",
    "merge_sort([2,3,7,1,3])"
   ]
  },
  {
   "cell_type": "code",
   "execution_count": null,
   "metadata": {},
   "outputs": [],
   "source": [
    "def bubble_sort(arr):\n",
    "    for i in range(len(arr)):\n",
    "        for g in range(i - 1):\n",
    "            if arr[g] > arr[g+1]:\n",
    "                arr[g], arr[g+1] = arr[g+1], arr[g]\n",
    "    return arr \n",
    "\n",
    "bubble_sort([2,5,1,3,6])"
   ]
  },
  {
   "cell_type": "code",
   "execution_count": null,
   "metadata": {},
   "outputs": [],
   "source": [
    "def insert_sort(arr):\n",
    "    for i in range(1, len(arr)):\n",
    "        current = arr[i]\n",
    "        index = i\n",
    "        while index > 0 and arr[index-1] > current:\n",
    "            arr[index] = arr[index -1]\n",
    "            index -= 1\n",
    "        arr[index] = current\n",
    "    return arr \n",
    "\n",
    "insert_sort([3,4,6,8,1])"
   ]
  },
  {
   "cell_type": "code",
   "execution_count": null,
   "metadata": {},
   "outputs": [],
   "source": [
    "''' log2 and log10 and loge is different in constant factors (independent from the input)'''\n",
    "import math\n",
    "dd = {}\n",
    "for i in range(2, 100):\n",
    "    m = math.log2(i) / math.log10(i)\n",
    "    if m not in dd.keys():\n",
    "        dd[m] = 0\n",
    "    else:\n",
    "        dd[m] += 1\n",
    "dd"
   ]
  },
  {
   "cell_type": "code",
   "execution_count": null,
   "metadata": {},
   "outputs": [],
   "source": [
    "'''binary search of element in n-th array'''\n",
    "# O(log_n)\n",
    "def binary_search(arr:list, n:int)->bool:\n",
    "    arr = sorted(arr)\n",
    "    if len(arr) < 1:\n",
    "        return False\n",
    "    mid = int(len(arr) // 2)\n",
    "    if arr[mid] == n:\n",
    "        return True\n",
    "    elif arr[mid] > n:\n",
    "        return binary_search(arr[:mid], n)\n",
    "    else:\n",
    "        return binary_search(arr[mid + 1:], n)\n",
    "# test\n",
    "binary_search([i for i in range(10)], 4)"
   ]
  },
  {
   "cell_type": "code",
   "execution_count": null,
   "metadata": {},
   "outputs": [],
   "source": [
    "''' You are given an unordered array consisting of \n",
    "    consecutive integers  [1, 2, 3, ..., n] without any duplicates. \n",
    "    You are allowed to swap any two elements. \n",
    "    You need to find the minimum number of swaps required to sort the array in ascending order.\n",
    "'''\n",
    "arr = [7, 1, 3, 2, 4, 5, 6]\n",
    "# arr = [1, 3, 5, 2, 4, 6, 7]\n",
    "# arr = [4, 3, 1, 2]\n",
    "# reference array \n",
    "sorted_arr = sorted(arr)\n",
    "# creating reversed dict where keys are the values, values is the True values \n",
    "index_ = {i:g for g, i in enumerate(arr)}\n",
    "# count swaps\n",
    "num_swap = 0\n",
    "# iterate over the array\n",
    "for index, value in enumerate(arr):\n",
    "    # find right value throught index\n",
    "    right_value = sorted_arr[index]\n",
    "    # check what values are not at right place with sorted array\n",
    "    if value != right_value:\n",
    "        # find index of rigth value looking up to reversed dict\n",
    "        right_index = index_[right_value]\n",
    "        # swap \n",
    "        arr[right_index], arr[index] = arr[index], arr[right_index]\n",
    "        # update index in reverse dict\n",
    "        index_[value] = right_index\n",
    "        # update values in reverse dict\n",
    "        index_[right_value] = index\n",
    "        # count swaps\n",
    "        num_swap += 1\n",
    "        \n",
    "num_swap, arr"
   ]
  },
  {
   "cell_type": "code",
   "execution_count": null,
   "metadata": {},
   "outputs": [],
   "source": [
    "''' quicksort '''\n",
    "def quik_sort(arr):\n",
    "    less = []\n",
    "    middle = []\n",
    "    more = []\n",
    "    if len(arr) > 1:\n",
    "        pivot = arr[0]\n",
    "        for i in arr:\n",
    "            if i < pivot:\n",
    "                less.append(i)\n",
    "            elif i == pivot:\n",
    "                middle.append(i)\n",
    "            elif i > pivot:\n",
    "                more.append(i)\n",
    "        return quik_sort(less) + middle + quik_sort(more)\n",
    "    else:\n",
    "        return arr\n",
    "# test\n",
    "quik_sort([2,4,5,6,1,6, 23,44,553,234,1,])"
   ]
  },
  {
   "cell_type": "code",
   "execution_count": null,
   "metadata": {},
   "outputs": [],
   "source": [
    "''' find element on n-th position with O(n) running time, without sorting '''\n",
    "\n",
    "def rselect(arr, i):\n",
    "    ''' input unsorted array and i-th position of element\n",
    "        output element on i-th possition\n",
    "    '''\n",
    "    n = len(arr)\n",
    "    if n == 1: # base case\n",
    "        return arr[0]\n",
    "    pivot = arr[len(arr) // 2] # pivot by middle. can be used middle of the middles, or randomised \n",
    "    j = arr.index(pivot) \n",
    "    if j == i: # if we lucky\n",
    "        return pivot\n",
    "    elif j > i:\n",
    "        return rselect(arr[:j], i)\n",
    "    else:\n",
    "        return rselect(arr[j:], i-j)\n",
    "# test \n",
    "rselect([7,4,2,5,8,1,3], 3)  "
   ]
  },
  {
   "cell_type": "code",
   "execution_count": null,
   "metadata": {},
   "outputs": [],
   "source": [
    "''' implementation of Bogo Sort '''\n",
    "\n",
    "import random \n",
    "# Sorts array a[0..n-1] using Bogo sort \n",
    "def bogoSort(a): \n",
    "    n = len(a) \n",
    "    while (is_sorted(a)== False): \n",
    "        shuffle(a) \n",
    "# To check if array is sorted or not \n",
    "def is_sorted(a): \n",
    "    n = len(a) \n",
    "    for i in range(0, n-1): \n",
    "        if (a[i] > a[i+1] ): \n",
    "            return False\n",
    "    return True\n",
    "# To generate permuatation of the array \n",
    "def shuffle(a): \n",
    "    n = len(a) \n",
    "    for i in range (0,n): \n",
    "        r = random.randint(0,n-1) \n",
    "        a[i], a[r] = a[r], a[i] \n",
    "#test\n",
    "ab = [3, 2, 4, 1, 0, 5]\n",
    "a = ab.copy() # deep copy\n",
    "bogoSort(a) \n",
    "assert a == sorted(ab) #check\n",
    "print(a)"
   ]
  },
  {
   "cell_type": "markdown",
   "metadata": {},
   "source": [
    "## Breadth for search "
   ]
  },
  {
   "cell_type": "code",
   "execution_count": null,
   "metadata": {},
   "outputs": [],
   "source": [
    "''' breadth for search algorithm '''\n",
    "\n",
    "graph = {\n",
    "          'A' : ['B','C'], #1\n",
    "          'B' : ['D', 'E'], #2\n",
    "          'C' : ['F'],\n",
    "          'D' : [],\n",
    "          'E' : ['F'],\n",
    "          'F' : []\n",
    "          }\n",
    "def bfs(graph, node):\n",
    "    visited = [] \n",
    "    queue = []\n",
    "    distance = {node: 0}\n",
    "    visited.append(node)\n",
    "    queue.append(node)\n",
    "    while queue:\n",
    "        s = queue.pop(0) \n",
    "        print (s, end = \" -> \")\n",
    "        for neighbour in graph[s]:\n",
    "            if neighbour not in visited:\n",
    "                visited.append(neighbour)\n",
    "                queue.append(neighbour)\n",
    "                distance[neighbour] = distance[s] + 1    \n",
    "    print('distances are ', distance)\n",
    "# Driver Code\n",
    "bfs(graph1, 'A')"
   ]
  },
  {
   "cell_type": "code",
   "execution_count": null,
   "metadata": {},
   "outputs": [],
   "source": [
    "import networkx as nx\n",
    "import matplotlib.pyplot as plt\n",
    "G = nx.Graph()\n",
    "G.add_nodes_from(graph)\n",
    "\n",
    "for key, value in graph.items():\n",
    "    for v in value:\n",
    "        if value:\n",
    "            G.add_edge(key, v)\n",
    "            \n",
    "plt.rcParams[\"figure.figsize\"] = (5, 5)         \n",
    "nx.draw_networkx(G, with_labels=True, font_weight='bold')"
   ]
  },
  {
   "cell_type": "code",
   "execution_count": null,
   "metadata": {},
   "outputs": [],
   "source": [
    "'''finds a shortest path in undirected `graph` between `start` and `goal`'''\n",
    "from collections import deque\n",
    "\n",
    "def bfs2(graph, start, goal):\n",
    "    if start == goal:\n",
    "        return [start]\n",
    "    visited = {start}\n",
    "    queue = deque([(start, [])])\n",
    "    while queue:\n",
    "        current, path = queue.popleft()\n",
    "        visited.add(current)\n",
    "        for neighbor in graph[current]:\n",
    "            if neighbor == goal:\n",
    "                return path + [current, neighbor]\n",
    "            if neighbor in visited:\n",
    "                continue\n",
    "            queue.append((neighbor, path + [current]))\n",
    "            visited.add(neighbor)   \n",
    "    return None  # no path found. not strictly needed\n",
    "\n",
    "path = bfs2(graph, 'A', 'F')\n",
    "if path:\n",
    "    print(path)\n",
    "else:\n",
    "    print('no path found')"
   ]
  },
  {
   "cell_type": "code",
   "execution_count": null,
   "metadata": {},
   "outputs": [],
   "source": [
    "''' finds a shortest path in undirected `graph` between `start` and `goal`. \n",
    "'''\n",
    "class NotFound(Exception):pass\n",
    "\n",
    "def bfs(graph, start, end):\n",
    "    # maintain a queue of paths\n",
    "    queue = []\n",
    "    # push the first path into the queue\n",
    "    queue.append([start])\n",
    "    while queue:\n",
    "        # get the first path from the queue\n",
    "        path = queue.pop(0)\n",
    "        # get the last node from the path\n",
    "        node = path[-1]\n",
    "        # path found\n",
    "        if node == end:\n",
    "            return print('The shotest path from {} to {} is {}'.format(start, end, path))\n",
    "        # enumerate all adjacent nodes, construct a new path and push it into the queue\n",
    "        for adjacent in graph.get(node, []):\n",
    "            new_path = list(path)\n",
    "            new_path.append(adjacent)\n",
    "            queue.append(new_path)\n",
    "            \n",
    "    raise NotFound('Not found {} to {}'.format(start, end))\n",
    "\n",
    "bfs(graph, 'A', 'F')"
   ]
  },
  {
   "cell_type": "markdown",
   "metadata": {},
   "source": [
    "### Test case  / Production and Shipping "
   ]
  },
  {
   "cell_type": "code",
   "execution_count": null,
   "metadata": {},
   "outputs": [],
   "source": [
    "import pandas as pd\n",
    "import numpy as np\n",
    "import networkx as nx\n",
    "import matplotlib.pyplot as plt\n",
    "\n",
    "def show_graph(data, option=False, size=(6,6)):\n",
    "    data = dict(sorted(new_dict.items()))\n",
    "    plt.rcParams[\"figure.figsize\"] = size\n",
    "    G = nx.Graph()\n",
    "    G.add_nodes_from(data)\n",
    "    \n",
    "    for key, value in data.items():\n",
    "        for v in value:\n",
    "            if value:\n",
    "                G.add_edge(key, v)\n",
    "                \n",
    "    colors = ' F1CDE5'.join([str(i) for i in range(7)]).split(' ')[1:]\n",
    "    # color for vertices\n",
    "    color = []\n",
    "    for item, value in data.items():\n",
    "        if (item <= 62):\n",
    "            color.append('red')\n",
    "            for val in value:\n",
    "                  color.append('orange')\n",
    "        else:\n",
    "            color.append('green')\n",
    "    # add options \n",
    "    if option:\n",
    "        options = {\n",
    "        \"node_color\": \"#A0CBE2\",\n",
    "        \"edge_color\": '#F1CDE5',\n",
    "        \"width\": 3,\n",
    "#         \"edge_cmap\": plt.cm.Greys,\n",
    "        \"with_labels\": True,\n",
    "        \"font_weight\": 'bold'}\n",
    "        \n",
    "        nx.draw_networkx(G, **options)\n",
    "    else:\n",
    "        nx.draw_networkx(G, node_color=color[:23])"
   ]
  },
  {
   "cell_type": "code",
   "execution_count": null,
   "metadata": {},
   "outputs": [],
   "source": [
    "bom = pd.read_csv('supply_chain_data/bom.csv')\n",
    "supplies = pd.read_csv('supply_chain_data/supplies.csv')\n",
    "product = pd.read_csv('supply_chain_data/products.csv')\n",
    "\n",
    "data = {i: [] for i in supplies.supplier_id}\n",
    "\n",
    "for value in data.keys():\n",
    "    data[value] = list(supplies[supplies.supplier_id == value].ships_to_id.values)\n",
    "    \n",
    "print(data)\n",
    "show_graph(data, True)"
   ]
  },
  {
   "cell_type": "code",
   "execution_count": null,
   "metadata": {},
   "outputs": [],
   "source": [
    "def bread_for_search_supplies(supplies, ids):\n",
    "    seen_ = []\n",
    "    res = {}\n",
    "    seen_.append(ids)\n",
    "    while seen_:\n",
    "        canditate = seen_.pop(0)\n",
    "        canditates = supplies[supplies.supplier_id == canditate].ships_to_id.values\n",
    "        res[canditate] = list(canditates)      \n",
    "    return res\n",
    "###             \n",
    "def bread_for_search_bom(bom, supplies, new_dict):\n",
    "    # iterate over values bom\n",
    "    seen_ = [item for sublist in new_dict.values() \\\n",
    "             for item in sublist if item not in supplies.supplier_id.unique()]\n",
    "    res = {}\n",
    "    while seen_:\n",
    "        canditate = seen_.pop(0)\n",
    "        canditates = bom[bom.id == canditate].parent_id.values\n",
    "        res[canditate] = list(canditates)\n",
    "    return res"
   ]
  },
  {
   "cell_type": "code",
   "execution_count": null,
   "metadata": {},
   "outputs": [],
   "source": [
    "new_dict = {}\n",
    "for suppler in supplies.supplier_id.unique():\n",
    "    new_dict.update(bread_for_search_supplies(supplies, ids=suppler))\n",
    "new_ = new_dict.copy()"
   ]
  },
  {
   "cell_type": "code",
   "execution_count": null,
   "metadata": {},
   "outputs": [],
   "source": [
    "new_1 = bread_for_search_bom(bom, supplies, new_dict)\n",
    "\n",
    "new_dict.update(bread_for_search_bom(bom, supplies, new_dict))\n",
    "\n",
    "new_dict"
   ]
  },
  {
   "cell_type": "code",
   "execution_count": null,
   "metadata": {},
   "outputs": [],
   "source": [
    "show_graph(new_dict, False)"
   ]
  },
  {
   "cell_type": "code",
   "execution_count": null,
   "metadata": {},
   "outputs": [],
   "source": [
    "new_, new_1"
   ]
  },
  {
   "cell_type": "markdown",
   "metadata": {},
   "source": [
    "## Depth first search algorithm\n",
    "\n",
    "### directred graph / compute topological sort\n",
    "\n",
    "#### use stack instead quere "
   ]
  },
  {
   "cell_type": "code",
   "execution_count": null,
   "metadata": {},
   "outputs": [],
   "source": [
    "graph11 = {\n",
    "    'A' : ['B','S'],\n",
    "    'B' : ['A'],\n",
    "    'C' : ['D','E','F','S'],\n",
    "    'D' : ['C'],\n",
    "    'E' : ['C','H'],\n",
    "    'F' : ['C','G'],\n",
    "    'G' : ['F','S'],\n",
    "    'H' : ['E','G'],\n",
    "    'S' : ['A','C','G']\n",
    "}\n",
    "\n",
    "def dfs(graph, node, visited):\n",
    "    if node not in visited:\n",
    "        visited.append(node)\n",
    "        for n in graph[node]:\n",
    "            dfs(graph,n, visited)\n",
    "    return visited\n",
    "\n",
    "visited = dfs(graph11,'A', [])\n",
    "print(visited)\n",
    "show_graph(graph11, True)"
   ]
  },
  {
   "cell_type": "code",
   "execution_count": null,
   "metadata": {},
   "outputs": [],
   "source": [
    "''' implementing Deepth For Search alogorithm (iterative)\n",
    "    from the lecture https://www.coursera.org/learn/algorithms-graphs-data-structures/ '''\n",
    "\n",
    "def dfs_iterative(graph, node):\n",
    "    explored = {i: False for i in graph.keys()}\n",
    "    s = [node]\n",
    "    result = []\n",
    "    while s:\n",
    "        v = s.pop()\n",
    "        if explored[v] == False:\n",
    "            explored[v] = True\n",
    "            result.append(v)\n",
    "            for edge in graph[v]:\n",
    "                s.append(edge)    \n",
    "    return result\n",
    "\n",
    "print(dfs_iterative(graph11, 'A'))\n",
    "show_graph(graph11, True, (4, 3))"
   ]
  },
  {
   "cell_type": "markdown",
   "metadata": {},
   "source": [
    "### Topological ordering"
   ]
  },
  {
   "cell_type": "code",
   "execution_count": null,
   "metadata": {},
   "outputs": [],
   "source": [
    "graph = {\n",
    "    'a': ['b', 'c'],\n",
    "    'b': ['d'],\n",
    "    'c': ['d'],\n",
    "    'd': ['e'],\n",
    "    'e': []\n",
    "}\n",
    "\n",
    "def iterative_topological_sort(graph, start):\n",
    "    seen = set()\n",
    "    stack = []    # path variable is gone, stack and order are new\n",
    "    order = []    # order will be in reverse order at first\n",
    "    q = [start]\n",
    "    while q:\n",
    "        v = q.pop()\n",
    "        if v not in seen:\n",
    "            seen.add(v) # no need to append to path any more\n",
    "            q.extend(graph[v])\n",
    "\n",
    "            while stack and v not in graph[stack[-1]]: # new stuff here!\n",
    "                order.append(stack.pop())\n",
    "            stack.append(v)\n",
    "\n",
    "    return stack + order[::-1]   # new return value!\n",
    "\n",
    "print(iterative_topological_sort(graph, 'a'))\n",
    "show_graph(graph)"
   ]
  },
  {
   "cell_type": "markdown",
   "metadata": {},
   "source": [
    "## Compute strong components"
   ]
  },
  {
   "cell_type": "markdown",
   "metadata": {},
   "source": [
    "### Kosaradju algorithm"
   ]
  },
  {
   "cell_type": "code",
   "execution_count": null,
   "metadata": {},
   "outputs": [],
   "source": [
    "from collections import defaultdict\n",
    "\n",
    "class Graph:\n",
    "    \n",
    "    def __init__(self, adj_lst):        \n",
    "        self.graph = adj_lst  \n",
    "    \n",
    "    def addEdge(self, vertex1, vertex2): # add an edge from vertex1 to vertex2\n",
    "        self.graph[vertex1].append(vertex2)\n",
    "    \n",
    "    def reverseGraph(self):        \n",
    "        inverseG = Graph(defaultdict(list))\n",
    "        \n",
    "        for i in self.graph:\n",
    "            for j in self.graph[i]:\n",
    "                inverseG.addEdge(j, i)\n",
    "        return inverseG\n",
    "    \n",
    "    def finishingTimeStack(self, vertex, visited, stack):\n",
    "        '''\n",
    "        visited: a dict to record visited vertices\n",
    "        vertex: current vertex \n",
    "        stack: push vertex to stack as DFS proceeding\n",
    "        '''\n",
    "        visited[vertex] = True\n",
    "        for i in self.graph[vertex]:\n",
    "            if visited[i] == False:\n",
    "                self.finishingTimeStack(i, visited, stack)\n",
    "        stack.append(vertex)\n",
    "        \n",
    "    def getOneSCC(self, vertex, visited, scc):\n",
    "        scc.append(vertex)\n",
    "        visited[vertex] = True\n",
    "        \n",
    "        for v in self.graph[vertex]:\n",
    "            if visited[v] == False:\n",
    "                self.getOneSCC(v, visited, scc)\n",
    "       \n",
    "    def computeSCCs(self):\n",
    "        \n",
    "        stack = [] # order of stack is the finishing time\n",
    "        \n",
    "        ### First DFS: compute the finishing time\n",
    "        visited = defaultdict(bool) # initialized all notes as unvisited\n",
    "        \n",
    "        for i in list(self.graph.keys()): # use outer loop to ganrantee every note will be visited\n",
    "            if visited[i] == False:\n",
    "                self.finishingTimeStack(i, visited, stack)\n",
    "        \n",
    "        ### Compute a inverse graph\n",
    "        inverG = self.reverseGraph()\n",
    "        \n",
    "        ### Second DFS: compute the SCCs\n",
    "        SCC_lst = []\n",
    "        visited =  defaultdict(bool) # initialized all notes as unvisited \n",
    "        while stack:\n",
    "            i = stack.pop()\n",
    "            if visited[i] == False:\n",
    "                scc = []\n",
    "                inverG.getOneSCC(i, visited, scc)\n",
    "                SCC_lst.append(scc)\n",
    "                \n",
    "        return SCC_lst\n",
    "    \n",
    "# create directed graph\n",
    "directed_graph = defaultdict(list,\n",
    "                            {7: [1],\n",
    "                             4: [7],\n",
    "                             1: [4],\n",
    "                             9: [7, 3],\n",
    "                             6: [9],\n",
    "                             8: [6, 5],\n",
    "                             2: [8],\n",
    "                             5: [2],\n",
    "                             3: [6]})\n",
    "# show graph\n",
    "\n",
    "# compure strongly related components of the graph\n",
    "oriG = Graph(directed_graph)\n",
    "invG = oriG.reverseGraph()\n",
    "invG.computeSCCs()"
   ]
  },
  {
   "cell_type": "markdown",
   "metadata": {},
   "source": [
    "### Home work 2 week ()"
   ]
  },
  {
   "cell_type": "code",
   "execution_count": null,
   "metadata": {},
   "outputs": [],
   "source": [
    "import resource\n",
    "import sys\n",
    "\n",
    "resource.setrlimit(resource.RLIMIT_STACK, (resource.RLIM_INFINITY, resource.RLIM_INFINITY))\n",
    "sys.setrecursionlimit(2 ** 17)"
   ]
  },
  {
   "cell_type": "code",
   "execution_count": null,
   "metadata": {},
   "outputs": [],
   "source": [
    "d = {}\n",
    "with open(\"home_work_week_1_SCC.txt\", mode='r') as input:\n",
    "    for line in input:\n",
    "        (key, val) = line.strip().split(\" \")\n",
    "        if str(key) in d:\n",
    "            d[str(key)].append(val)\n",
    "        else:\n",
    "            d[str(key)] = [val]"
   ]
  },
  {
   "cell_type": "markdown",
   "metadata": {},
   "source": [
    "The file contains the edges of a directed graph. Vertices are labeled as positive integers from 1 to 875714. Every row indicates an edge, the vertex label in first column is the tail and the vertex label in second column is the head (recall the graph is directed, and the edges are directed from the first column vertex to the second column vertex). So for example, the 11^{th}11 \n",
    "th\n",
    "  row looks liks : \"2 47646\". This just means that the vertex with label 2 has an outgoing edge to the vertex with label 47646\n",
    "\n",
    "Your task is to code up the algorithm from the video lectures for computing strongly connected components (SCCs), and to run this algorithm on the given graph.\n",
    "\n",
    "Output Format: You should output the sizes of the 5 largest SCCs in the given graph, in decreasing order of sizes, separated by commas (avoid any spaces). So if your algorithm computes the sizes of the five largest SCCs to be 500, 400, 300, 200 and 100, then your answer should be \"500,400,300,200,100\" (without the quotes). If your algorithm finds less than 5 SCCs, then write 0 for the remaining terms. Thus, if your algorithm computes only 3 SCCs whose sizes are 400, 300, and 100, then your answer should be \"400,300,100,0,0\" (without the quotes).  (Note also that your answer should not have any spaces in it.)\n",
    "\n",
    "WARNING: This is the most challenging programming assignment of the course. Because of the size of the graph you may have to manage memory carefully. The best way to do this depends on your programming language and environment, and we strongly suggest that you exchange tips for doing this on the discussion forums."
   ]
  },
  {
   "cell_type": "code",
   "execution_count": null,
   "metadata": {},
   "outputs": [],
   "source": [
    "directed_graph_new = defaultdict(list,  d)"
   ]
  },
  {
   "cell_type": "code",
   "execution_count": null,
   "metadata": {},
   "outputs": [],
   "source": [
    "oriG = Graph(directed_graph_new)"
   ]
  },
  {
   "cell_type": "code",
   "execution_count": null,
   "metadata": {},
   "outputs": [],
   "source": [
    "invG = oriG.reverseGraph()"
   ]
  },
  {
   "cell_type": "code",
   "execution_count": null,
   "metadata": {},
   "outputs": [],
   "source": [
    "result_ = invG.computeSCCs() #most time "
   ]
  },
  {
   "cell_type": "code",
   "execution_count": null,
   "metadata": {},
   "outputs": [],
   "source": [
    "result_.sort()"
   ]
  },
  {
   "cell_type": "code",
   "execution_count": null,
   "metadata": {},
   "outputs": [],
   "source": [
    "ddd = {}\n",
    "for index, value in enumerate(result_):\n",
    "    ddd[index] = len(value)\n",
    "len(ddd)"
   ]
  },
  {
   "cell_type": "code",
   "execution_count": null,
   "metadata": {},
   "outputs": [],
   "source": [
    "a1_sorted_keys = {k: v for k, v in sorted(ddd.items(), reverse=True, key=lambda item: item[1])}"
   ]
  },
  {
   "cell_type": "code",
   "execution_count": null,
   "metadata": {},
   "outputs": [],
   "source": [
    "answer = []\n",
    "n = 0\n",
    "for r in a1_sorted_keys.values():\n",
    "    if n < 6:\n",
    "        print(r)\n",
    "        answer.append(r)\n",
    "        n += 1\n",
    "    else:\n",
    "        break\n",
    "[str(i) for i in answer[1:]]"
   ]
  },
  {
   "cell_type": "markdown",
   "metadata": {},
   "source": [
    "## Djikstra algorithm"
   ]
  },
  {
   "cell_type": "code",
   "execution_count": null,
   "metadata": {},
   "outputs": [],
   "source": [
    "''' heap datastructure \n",
    "https://bradfieldcs.com/algos/trees/priority-queues-with-binary-heaps/\n",
    "'''\n",
    "\n",
    "class BinaryHeap(object):\n",
    "    \n",
    "    def __init__(self):\n",
    "        self.items = [0]\n",
    "\n",
    "    def __len__(self):\n",
    "        return len(self.items) - 1\n",
    "    \n",
    "    def percolate_up(self):\n",
    "        i = len(self)\n",
    "        while i // 2 > 0:\n",
    "            if self.items[i] < self.items[i // 2]:\n",
    "                self.items[i // 2], self.items[i] = self.items[i], self.items[i // 2]\n",
    "            i = i // 2\n",
    "            \n",
    "    def insert(self, k):\n",
    "        self.items.append(k)\n",
    "        self.percolate_up()\n",
    "        \n",
    "    def percolate_down(self, i):\n",
    "        while i * 2 <= len(self):\n",
    "            mc = self.min_child(i)\n",
    "            if self.items[i] > self.items[mc]:\n",
    "                self.items[i], self.items[mc] = self.items[mc], self.items[i]\n",
    "            i = mc\n",
    "\n",
    "    def min_child(self, i):\n",
    "        if i * 2 + 1 > len(self):\n",
    "            return i * 2\n",
    "\n",
    "        if self.items[i * 2] < self.items[i * 2 + 1]:\n",
    "            return i * 2\n",
    "\n",
    "        return i * 2 + 1\n",
    "\n",
    "    def delete_min(self):\n",
    "        return_value = self.items[1]\n",
    "        self.items[1] = self.items[len(self)]\n",
    "        self.items.pop()\n",
    "        self.percolate_down(1)\n",
    "        \n",
    "        return return_value\n",
    "    \n",
    "    def build_heap(self, alist):\n",
    "        i = len(alist) // 2\n",
    "        self.items = [0] + alist\n",
    "        while i > 0:\n",
    "            self.percolate_down(i)\n",
    "            i = i - 1\n",
    "            \n",
    "heap_data_stucture = BinaryHeap()\n",
    "\n",
    "heap_data_stucture.build_heap([9, 6, 5, 2, 3])\n",
    "\n",
    "print(heap_data_stucture.items) # return the arr of heap data structure\n",
    "print(heap_data_stucture.min_child(3)) # position "
   ]
  },
  {
   "cell_type": "code",
   "execution_count": null,
   "metadata": {},
   "outputs": [],
   "source": [
    "''' Djikstra algorithm wiht heap ds '''\n",
    "\n",
    "import heapq\n",
    "\n",
    "example_graph = {\n",
    "                'U': {'V': 2, 'W': 5, 'X': 1},\n",
    "                'V': {'U': 2, 'X': 2, 'W': 3},\n",
    "                'W': {'V': 3, 'U': 5, 'X': 3, 'Y': 1, 'Z': 5},\n",
    "                'X': {'U': 1, 'V': 2, 'W': 3, 'Y': 1},\n",
    "                'Y': {'X': 1, 'W': 1, 'Z': 1},\n",
    "                'Z': {'W': 5, 'Y': 1}, }\n",
    "\n",
    "def calculate_distances(graph, starting_vertex):\n",
    "    distances = {vertex: float('infinity') for vertex in graph}\n",
    "    distances[starting_vertex] = 0\n",
    "    pq = [(0, starting_vertex)]\n",
    "    while len(pq) > 0:\n",
    "        current_distance, current_vertex = heapq.heappop(pq)\n",
    "        print(current_distance, current_vertex)\n",
    "        # Nodes can get added to the priority queue multiple times. We only\n",
    "        # process a vertex the first time we remove it from the priority queue.\n",
    "        if current_distance > distances[current_vertex]:\n",
    "            continue\n",
    "        for neighbor, weight in graph[current_vertex].items():\n",
    "            distance = current_distance + weight\n",
    "            # Only consider this new path if it's better than any path we've\n",
    "            # already found.\n",
    "            if distance < distances[neighbor]:\n",
    "                distances[neighbor] = distance\n",
    "                heapq.heappush(pq, (distance, neighbor))\n",
    "\n",
    "    return distances\n",
    "\n",
    "calculate_distances(example_graph, 'U')"
   ]
  },
  {
   "cell_type": "markdown",
   "metadata": {},
   "source": [
    "## Homework for week 3"
   ]
  },
  {
   "cell_type": "markdown",
   "metadata": {},
   "source": [
    "https://www.coursera.org/learn/algorithms-graphs-data-structures/exam/xHTaZ/programming-assignment-3/attempt"
   ]
  },
  {
   "cell_type": "code",
   "execution_count": null,
   "metadata": {},
   "outputs": [],
   "source": [
    "import heapq\n",
    "import statistics\n",
    "\n",
    "with open('home_work_week3_Median.txt', 'r') as file:\n",
    "    line = file.read().strip().split('\\n')\n",
    "file.close()\n",
    "assert len(line) == 10000\n",
    "assert len(set(line)) == len(line) # check uniqueness "
   ]
  },
  {
   "cell_type": "code",
   "execution_count": null,
   "metadata": {},
   "outputs": [],
   "source": [
    "import time\n",
    "\n",
    "now = time.time()\n",
    "\n",
    "num = 0 # must be 2712 for task\n",
    "\n",
    "for index, number in enumerate(line):\n",
    "    num += int(statistics.median_low(line[:index+1]))\n",
    "    \n",
    "print(num%10000) #sum([6331, 2793, 2793, 2793, 2793, 1640, 2793, 2303, 2793, 2303]) % 10000\n",
    "\n",
    "then = time.time()\n",
    "\n",
    "print(then - now)"
   ]
  },
  {
   "cell_type": "code",
   "execution_count": null,
   "metadata": {},
   "outputs": [],
   "source": [
    "now = time.time()\n",
    "\n",
    "nn = []\n",
    "num = 0\n",
    "\n",
    "for n, v in enumerate(line):\n",
    "    nn.append(v)\n",
    "#     index = (len(nn) - 1) // 2\n",
    "#     new = heapq.nsmallest(n+1, nn)\n",
    "#     print(new[index], new, index)\n",
    "#     check.append(new[index])\n",
    "    num += int(heapq.nsmallest(n+1, nn)[(len(nn) - 1) // 2])\n",
    "\n",
    "print(num%10000)\n",
    "\n",
    "then = time.time()\n",
    "\n",
    "print(then - now)"
   ]
  },
  {
   "cell_type": "code",
   "execution_count": null,
   "metadata": {},
   "outputs": [],
   "source": [
    "from heapq import heappop, heappush\n",
    "\n",
    "''' find median from median with heap DS '''\n",
    "\n",
    "t = [6331, 2793, 1640, 9290, 225, 625, 6195, 2303, 5685, 1354]\n",
    "\n",
    "class MedianOfMedian():\n",
    "    \n",
    "    def __init__(self):\n",
    "        self.list_min = []\n",
    "        self.list_max = []\n",
    "        \n",
    "    def add_element(self, element):\n",
    "        \n",
    "        if not self.list_max or element > self.list_max[0]:\n",
    "            heappush(self.list_max, element)\n",
    "        else:\n",
    "            heappush(self.list_min, element)\n",
    "            \n",
    "        if len(self.list_min) - len(self.list_max) > 1:\n",
    "            heappush(self.list_max, heappop(self.list_min))\n",
    "        elif  len(self.list_max) - len(self.list_min) > 1:\n",
    "            heappush(self.list_min, heappop(self.list_max))\n",
    "            \n",
    "    def median(self):\n",
    "        \n",
    "        if len(self.list_max) == len(self.list_min):\n",
    "            \n",
    "            return int(self.list_max[0] + (self.list_min[0])) / 2\n",
    "        \n",
    "        elif len(self.list_max) > len(self.list_min):\n",
    "                    \n",
    "            return -self.list_min[0]\n",
    "                    \n",
    "        else:\n",
    "                    \n",
    "            return self.list_max[0]\n",
    "\n",
    "            \n",
    "    def __repr__(self):\n",
    "        return '{}, {}'.format(self.list_max, self.list_min)\n",
    "            \n",
    "data = MedianOfMedian()\n",
    "\n",
    "for index, value in enumerate(t):\n",
    "    data.add_element(value)\n",
    "    \n",
    "data.median()"
   ]
  },
  {
   "cell_type": "code",
   "execution_count": null,
   "metadata": {},
   "outputs": [],
   "source": [
    "# data.query('dt > 10 and dt < 30')"
   ]
  },
  {
   "cell_type": "code",
   "execution_count": null,
   "metadata": {},
   "outputs": [],
   "source": [
    "import heapq\n",
    "import time\n",
    "\n",
    "t = [2,3,1,0,5,4]\n",
    "m = []\n",
    "heapq.heapify(m)\n",
    "num = 0"
   ]
  },
  {
   "cell_type": "code",
   "execution_count": null,
   "metadata": {},
   "outputs": [],
   "source": [
    "now = time.time()\n",
    "for i in t:\n",
    "    heapq.heappush(m, i)\n",
    "    index = len(m)\n",
    "#     print(m, index)\n",
    "    if index % 2 == 0:\n",
    "        index = index // 2\n",
    "    else:\n",
    "        index = (index + 1) // 2\n",
    "    num += int(t[index])\n",
    "    \n",
    "print(num%10000)\n",
    "then = time.time()\n",
    "print(then - now)"
   ]
  },
  {
   "cell_type": "markdown",
   "metadata": {},
   "source": [
    "## hash functm"
   ]
  },
  {
   "cell_type": "code",
   "execution_count": null,
   "metadata": {},
   "outputs": [],
   "source": [
    "import hashlib\n",
    "m = hashlib.sha384()\n",
    "\n",
    "m.update(b'test')\n",
    "\n",
    "m.digest()"
   ]
  },
  {
   "cell_type": "code",
   "execution_count": null,
   "metadata": {},
   "outputs": [],
   "source": [
    "m.update(b'test')\n",
    "m.digest()"
   ]
  },
  {
   "cell_type": "markdown",
   "metadata": {},
   "source": [
    "## Task from soley"
   ]
  },
  {
   "cell_type": "code",
   "execution_count": null,
   "metadata": {},
   "outputs": [],
   "source": [
    "import pandas as pd\n",
    "import numpy as np"
   ]
  },
  {
   "cell_type": "code",
   "execution_count": null,
   "metadata": {},
   "outputs": [],
   "source": [
    "bom = pd.read_csv('/home/v/Desktop/learn/MyRoad/algorithms/supply_chain_data/bom.csv')\n",
    "\n",
    "materials = pd.read_csv('/home/v/Desktop/learn/MyRoad/algorithms/supply_chain_data/materials.csv')\n",
    "\n",
    "product = pd.read_csv('/home/v/Desktop/learn/MyRoad/algorithms/supply_chain_data/products.csv')"
   ]
  },
  {
   "cell_type": "code",
   "execution_count": null,
   "metadata": {},
   "outputs": [],
   "source": [
    "def bfs_(bom, materials, product, id_ = 1):\n",
    "    \n",
    "    # traverse the tree \n",
    "    seen_ = []\n",
    "    quere_ = []\n",
    "    seen_.append(id_)\n",
    "    quere_.append(id_)\n",
    "    \n",
    "    while quere_:\n",
    "        canditate = quere_.pop(0)\n",
    "        for product in bom[bom.parent_id == canditate].id.values:\n",
    "            if product not in seen_:\n",
    "                seen_.append(product)\n",
    "                quere_.append(product)\n",
    "    # cost\n",
    "    cost = []\n",
    "    for c in seen_:\n",
    "        n = materials[materials.id == c].cost.values * materials[materials.id == c].quantity.values\n",
    "        if len(n) > 0 and sum(n) > 0:\n",
    "            cost.append(n)\n",
    "            \n",
    "    return id_, sum(cost)"
   ]
  },
  {
   "cell_type": "code",
   "execution_count": null,
   "metadata": {},
   "outputs": [],
   "source": [
    "results = {}\n",
    "for item in product.id:\n",
    "    items, total_cost = bfs_(bom, materials, product, id_ = item)\n",
    "    results[items] = int(total_cost)\n",
    "    \n",
    "pd.DataFrame(results, ['total_cost is'])"
   ]
  },
  {
   "cell_type": "markdown",
   "metadata": {},
   "source": [
    "## Home work week 4 - program assignment"
   ]
  },
  {
   "cell_type": "code",
   "execution_count": 1,
   "metadata": {},
   "outputs": [
    {
     "data": {
      "text/plain": [
       "True"
      ]
     },
     "execution_count": 1,
     "metadata": {},
     "output_type": "execute_result"
    }
   ],
   "source": [
    "import pandas as pd\n",
    "import numpy as np\n",
    "\n",
    "arr = pd.read_csv('wee4_hw_prob-2sum.txt', sep=\" \", header=None)\n",
    "assert len(arr) == 1_000_000\n",
    "arr.columns = ['values']\n",
    "\n",
    "arr = arr.iloc[:,0].values # make array\n",
    "len(arr) == 1000000"
   ]
  },
  {
   "cell_type": "code",
   "execution_count": 2,
   "metadata": {},
   "outputs": [
    {
     "data": {
      "text/plain": [
       "array([ 68037543430, -21123414637,  56619844751,  59688006695,\n",
       "        82329471587, -60489726142, -32955448858,  53645918962,\n",
       "       -44445057840,  10793991159,  -4520589628,  25774184952,\n",
       "        68037543430, -21123414637])"
      ]
     },
     "execution_count": 2,
     "metadata": {},
     "output_type": "execute_result"
    }
   ],
   "source": [
    "test = arr[:12]\n",
    "add = np.array([68037543430, -21123414637])\n",
    "test = np.concatenate([test, add])\n",
    "test"
   ]
  },
  {
   "cell_type": "code",
   "execution_count": null,
   "metadata": {},
   "outputs": [],
   "source": []
  },
  {
   "cell_type": "code",
   "execution_count": null,
   "metadata": {},
   "outputs": [],
   "source": []
  },
  {
   "cell_type": "code",
   "execution_count": null,
   "metadata": {},
   "outputs": [],
   "source": []
  },
  {
   "cell_type": "code",
   "execution_count": null,
   "metadata": {},
   "outputs": [],
   "source": []
  },
  {
   "cell_type": "code",
   "execution_count": null,
   "metadata": {},
   "outputs": [],
   "source": []
  },
  {
   "cell_type": "code",
   "execution_count": null,
   "metadata": {},
   "outputs": [],
   "source": []
  },
  {
   "cell_type": "code",
   "execution_count": null,
   "metadata": {},
   "outputs": [],
   "source": [
    "def hash_function(test):\n",
    "    data = {}\n",
    "    for index, value in enumerate(test):\n",
    "        canditate = hash(str(value))\n",
    "        if canditate not in data.keys():\n",
    "            data[canditate] = [index]\n",
    "        else:\n",
    "            data[canditate].append(index)    \n",
    "    return data \n",
    "\n",
    "%time H = hash_function(arr) # 29.4 s"
   ]
  },
  {
   "cell_type": "code",
   "execution_count": null,
   "metadata": {},
   "outputs": [],
   "source": [
    "'''brut force solution '''\n",
    "def test_(test):\n",
    "    result = []\n",
    "    for i in range(len(test)):\n",
    "        for g in range(i):\n",
    "            y = test[g] - test[i]\n",
    "            if y >= - 10_000 and y <= 10_000:\n",
    "                result.append(y)\n",
    "    return result  \n",
    "\n",
    "%time test_(test)"
   ]
  },
  {
   "cell_type": "code",
   "execution_count": null,
   "metadata": {},
   "outputs": [],
   "source": [
    "'''Two sum task with solution Sort + walking \n",
    "    with no HashTable \n",
    "'''\n",
    "k = 8024609557 # test sum of two numbers 68037543430 +(-60012933873) 0 and -1 index\n",
    "\n",
    "def sorting_walking(arr, k):\n",
    "    find = []\n",
    "    H_sorted = sorted(arr)\n",
    "    lh = 0\n",
    "    lr = len(H_sorted) - 1\n",
    "    while lh < lr:\n",
    "        num = H_sorted[lh] + H_sorted[lr]\n",
    "        if num == k:\n",
    "            print('in the sorted arr', lh, lr)\n",
    "            return True\n",
    "        elif num < k:\n",
    "            lh += 1\n",
    "        else:\n",
    "            lr -= 1\n",
    "    return False\n",
    "\n",
    "%time sorting_walking(arr, k)"
   ]
  },
  {
   "cell_type": "code",
   "execution_count": null,
   "metadata": {},
   "outputs": [],
   "source": []
  },
  {
   "cell_type": "code",
   "execution_count": null,
   "metadata": {},
   "outputs": [],
   "source": []
  },
  {
   "cell_type": "code",
   "execution_count": null,
   "metadata": {},
   "outputs": [],
   "source": []
  },
  {
   "cell_type": "code",
   "execution_count": null,
   "metadata": {},
   "outputs": [],
   "source": []
  }
 ],
 "metadata": {
  "kernelspec": {
   "display_name": "Python 3",
   "language": "python",
   "name": "python3"
  },
  "language_info": {
   "codemirror_mode": {
    "name": "ipython",
    "version": 3
   },
   "file_extension": ".py",
   "mimetype": "text/x-python",
   "name": "python",
   "nbconvert_exporter": "python",
   "pygments_lexer": "ipython3",
   "version": "3.8.5"
  }
 },
 "nbformat": 4,
 "nbformat_minor": 4
}
