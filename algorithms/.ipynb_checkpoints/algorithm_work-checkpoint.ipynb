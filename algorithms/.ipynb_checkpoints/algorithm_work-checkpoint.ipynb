{
 "cells": [
  {
   "cell_type": "code",
   "execution_count": 76,
   "metadata": {},
   "outputs": [
    {
     "data": {
      "text/plain": [
       "[1, 2, 3, 3, 7]"
      ]
     },
     "execution_count": 76,
     "metadata": {},
     "output_type": "execute_result"
    }
   ],
   "source": [
    "def merge_sort(arr):\n",
    "    if len(arr) < 2:\n",
    "        return arr\n",
    "    l = int(len(arr) / 2)\n",
    "    x = merge_sort(arr[:l])\n",
    "    y = merge_sort(arr[l:])\n",
    "    i, j = 0, 0\n",
    "    new = []\n",
    "    while i < len(x) and j < len(y):\n",
    "        if x[i] > y[j]:\n",
    "            new.append(y[j])\n",
    "            j += 1\n",
    "        else:\n",
    "            new.append(x[i])\n",
    "            i += 1\n",
    "    new += x[i:]\n",
    "    new += y[j:]\n",
    "    return new\n",
    "\n",
    "merge_sort([2,3,7,1,3])"
   ]
  },
  {
   "cell_type": "code",
   "execution_count": 69,
   "metadata": {},
   "outputs": [
    {
     "data": {
      "text/plain": [
       "[2, 3, 4, 5, 6, 62]"
      ]
     },
     "execution_count": 69,
     "metadata": {},
     "output_type": "execute_result"
    }
   ],
   "source": [
    "def bubble_sort(arr):\n",
    "    for i in range(len(arr)):\n",
    "        for g in range(i - 1):\n",
    "            if arr[g] > arr[g+1]:\n",
    "                arr[g], arr[g+1] = arr[g+1], arr[g]\n",
    "    return arr \n",
    "\n",
    "bubble_sort([2,5,1,3,6])"
   ]
  },
  {
   "cell_type": "code",
   "execution_count": 10,
   "metadata": {},
   "outputs": [
    {
     "data": {
      "text/plain": [
       "[1, 3, 4, 6, 8]"
      ]
     },
     "execution_count": 10,
     "metadata": {},
     "output_type": "execute_result"
    }
   ],
   "source": [
    "def insert_sort(arr):\n",
    "    for i in range(1, len(arr)):\n",
    "        current = arr[i]\n",
    "        index = i\n",
    "        while index > 0 and arr[index-1] > current:\n",
    "            arr[index] = arr[index -1]\n",
    "            index -= 1\n",
    "        arr[index] = current\n",
    "    return arr \n",
    "\n",
    "insert_sort([3,4,6,8,1])"
   ]
  },
  {
   "cell_type": "code",
   "execution_count": 15,
   "metadata": {},
   "outputs": [
    {
     "data": {
      "text/plain": [
       "{3.321928094887362: 58, 3.3219280948873617: 3, 3.3219280948873626: 34}"
      ]
     },
     "execution_count": 15,
     "metadata": {},
     "output_type": "execute_result"
    }
   ],
   "source": [
    "''' log2 and log10 and loge is different in constant factors (independent from the input)'''\n",
    "import math\n",
    "dd = {}\n",
    "for i in range(2, 100):\n",
    "    m = math.log2(i) / math.log10(i)\n",
    "    if m not in dd.keys():\n",
    "        dd[m] = 0\n",
    "    else:\n",
    "        dd[m] += 1\n",
    "dd"
   ]
  },
  {
   "cell_type": "code",
   "execution_count": 16,
   "metadata": {},
   "outputs": [
    {
     "data": {
      "text/plain": [
       "True"
      ]
     },
     "execution_count": 16,
     "metadata": {},
     "output_type": "execute_result"
    }
   ],
   "source": [
    "'''binary search of element in n-th array'''\n",
    "# O(log_n)\n",
    "def binary_search(arr:list, n:int)->bool:\n",
    "    arr = sorted(arr)\n",
    "    if len(arr) < 1:\n",
    "        return False\n",
    "    mid = int(len(arr) // 2)\n",
    "    if arr[mid] == n:\n",
    "        return True\n",
    "    elif arr[mid] > n:\n",
    "        return binary_search(arr[:mid], n)\n",
    "    else:\n",
    "        return binary_search(arr[mid + 1:], n)\n",
    "# test\n",
    "binary_search([i for i in range(10)], 4)"
   ]
  },
  {
   "cell_type": "code",
   "execution_count": 17,
   "metadata": {},
   "outputs": [
    {
     "data": {
      "text/plain": [
       "(5, [1, 2, 3, 4, 5, 6, 7])"
      ]
     },
     "execution_count": 17,
     "metadata": {},
     "output_type": "execute_result"
    }
   ],
   "source": [
    "''' You are given an unordered array consisting of \n",
    "    consecutive integers  [1, 2, 3, ..., n] without any duplicates. \n",
    "    You are allowed to swap any two elements. \n",
    "    You need to find the minimum number of swaps required to sort the array in ascending order.\n",
    "'''\n",
    "arr = [7, 1, 3, 2, 4, 5, 6]\n",
    "# arr = [1, 3, 5, 2, 4, 6, 7]\n",
    "# arr = [4, 3, 1, 2]\n",
    "# reference array \n",
    "sorted_arr = sorted(arr)\n",
    "# creating reversed dict where keys are the values, values is the True values \n",
    "index_ = {i:g for g, i in enumerate(arr)}\n",
    "# count swaps\n",
    "num_swap = 0\n",
    "# iterate over the array\n",
    "for index, value in enumerate(arr):\n",
    "    # find right value throught index\n",
    "    right_value = sorted_arr[index]\n",
    "    # check what values are not at right place with sorted array\n",
    "    if value != right_value:\n",
    "        # find index of rigth value looking up to reversed dict\n",
    "        right_index = index_[right_value]\n",
    "        # swap \n",
    "        arr[right_index], arr[index] = arr[index], arr[right_index]\n",
    "        # update index in reverse dict\n",
    "        index_[value] = right_index\n",
    "        # update values in reverse dict\n",
    "        index_[right_value] = index\n",
    "        # count swaps\n",
    "        num_swap += 1\n",
    "        \n",
    "num_swap, arr"
   ]
  },
  {
   "cell_type": "code",
   "execution_count": 13,
   "metadata": {},
   "outputs": [
    {
     "data": {
      "text/plain": [
       "[1, 1, 2, 4, 5, 6, 6, 23, 44, 234, 553]"
      ]
     },
     "execution_count": 13,
     "metadata": {},
     "output_type": "execute_result"
    }
   ],
   "source": [
    "''' quicksort '''\n",
    "def quik_sort(arr):\n",
    "    less = []\n",
    "    middle = []\n",
    "    more = []\n",
    "    if len(arr) > 1:\n",
    "        pivot = arr[0]\n",
    "        for i in arr:\n",
    "            if i < pivot:\n",
    "                less.append(i)\n",
    "            elif i == pivot:\n",
    "                middle.append(i)\n",
    "            elif i > pivot:\n",
    "                more.append(i)\n",
    "        return quik_sort(less) + middle + quik_sort(more)\n",
    "    else:\n",
    "        return arr\n",
    "# test\n",
    "quik_sort([2,4,5,6,1,6, 23,44,553,234,1,])"
   ]
  },
  {
   "cell_type": "code",
   "execution_count": 30,
   "metadata": {},
   "outputs": [
    {
     "data": {
      "text/plain": [
       "7"
      ]
     },
     "execution_count": 30,
     "metadata": {},
     "output_type": "execute_result"
    }
   ],
   "source": [
    "''' find element on n-th position with O(n) running time, without sorting '''\n",
    "\n",
    "def rselect(arr, i):\n",
    "    ''' input unsorted array and i-th position of element\n",
    "        output element on i-th possition\n",
    "    '''\n",
    "    n = len(arr)\n",
    "    if n == 1: # base case\n",
    "        return arr[0]\n",
    "    pivot = arr[len(arr) // 2] # pivot by middle. can be used middle of the middles, or randomised \n",
    "    j = arr.index(pivot) \n",
    "    if j == i: # if we lucky\n",
    "        return pivot\n",
    "    elif j > i:\n",
    "        return rselect(arr[:j], i)\n",
    "    else:\n",
    "        return rselect(arr[j:], i-j)\n",
    "# test \n",
    "rselect([7,4,2,5,8,1,3], 0)  "
   ]
  },
  {
   "cell_type": "code",
   "execution_count": 47,
   "metadata": {},
   "outputs": [
    {
     "name": "stdout",
     "output_type": "stream",
     "text": [
      "[0, 1, 2, 3, 4, 5]\n"
     ]
    }
   ],
   "source": [
    "''' implementation of Bogo Sort '''\n",
    "\n",
    "import random \n",
    "# Sorts array a[0..n-1] using Bogo sort \n",
    "def bogoSort(a): \n",
    "    n = len(a) \n",
    "    while (is_sorted(a)== False): \n",
    "        shuffle(a) \n",
    "# To check if array is sorted or not \n",
    "def is_sorted(a): \n",
    "    n = len(a) \n",
    "    for i in range(0, n-1): \n",
    "        if (a[i] > a[i+1] ): \n",
    "            return False\n",
    "    return True\n",
    "# To generate permuatation of the array \n",
    "def shuffle(a): \n",
    "    n = len(a) \n",
    "    for i in range (0,n): \n",
    "        r = random.randint(0,n-1) \n",
    "        a[i], a[r] = a[r], a[i] \n",
    "#test\n",
    "ab = [3, 2, 4, 1, 0, 5]\n",
    "a = ab.copy() # deep copy\n",
    "bogoSort(a) \n",
    "assert a == sorted(ab) #check\n",
    "print(a)"
   ]
  },
  {
   "cell_type": "code",
   "execution_count": 132,
   "metadata": {},
   "outputs": [
    {
     "name": "stdout",
     "output_type": "stream",
     "text": [
      "A -> B -> C -> D -> E -> F -> "
     ]
    },
    {
     "data": {
      "text/plain": [
       "(['A', 'B', 'C', 'D', 'E', 'F'],\n",
       " {'A': 0, 'B': 1, 'C': 1, 'D': 2, 'E': 2, 'F': 2})"
      ]
     },
     "execution_count": 132,
     "metadata": {},
     "output_type": "execute_result"
    }
   ],
   "source": [
    "''' breadth for search algorithm '''\n",
    "graph = {\n",
    "          'A' : ['B','C'], #1\n",
    "          'B' : ['D', 'E'], #2\n",
    "          'C' : ['F'],\n",
    "          'D' : [],\n",
    "          'E' : ['F'],\n",
    "          'F' : []\n",
    "          }\n",
    "\n",
    "def bfs(graph, node):\n",
    "    \n",
    "    visited = [] \n",
    "    queue = []\n",
    "    distance = {node: 0}\n",
    "    \n",
    "    visited.append(node)\n",
    "    queue.append(node)\n",
    "    \n",
    "    while queue:\n",
    "        s = queue.pop(0) \n",
    "        print (s, end = \" -> \")\n",
    "        \n",
    "        for neighbour in graph[s]:\n",
    "            \n",
    "            if neighbour not in visited:\n",
    "                visited.append(neighbour)\n",
    "                queue.append(neighbour)\n",
    "                distance[neighbour] = distance[s] + 1\n",
    "                \n",
    "    return visited, distance\n",
    "                \n",
    "\n",
    "# Driver Code\n",
    "bfs(graph, 'A')"
   ]
  },
  {
   "cell_type": "code",
   "execution_count": 140,
   "metadata": {},
   "outputs": [
    {
     "name": "stdout",
     "output_type": "stream",
     "text": [
      "A -> B -> C -> D -> E -> F -> "
     ]
    }
   ],
   "source": [
    "parent, distance = bfs(graph, 'A')"
   ]
  },
  {
   "cell_type": "code",
   "execution_count": 148,
   "metadata": {},
   "outputs": [
    {
     "name": "stdout",
     "output_type": "stream",
     "text": [
      "A []\n",
      "B ['A']\n",
      "C ['A']\n",
      "['A', 'C', 'F']\n"
     ]
    }
   ],
   "source": [
    "from collections import deque\n",
    "\n",
    "def bfs2(graph, start, goal):\n",
    "    \"\"\"\n",
    "    finds a shortest path in undirected `graph` between `start` and `goal`. \n",
    "    If no path is found, returns `None`\n",
    "    \"\"\"\n",
    "    if start == goal:\n",
    "        return [start]\n",
    "    visited = {start}\n",
    "    queue = deque([(start, [])])\n",
    "\n",
    "    while queue:\n",
    "        current, path = queue.popleft()\n",
    "        visited.add(current)\n",
    "        for neighbor in graph[current]:\n",
    "            if neighbor == goal:\n",
    "                return path + [current, neighbor]\n",
    "            if neighbor in visited:\n",
    "                continue\n",
    "            queue.append((neighbor, path + [current]))\n",
    "            visited.add(neighbor)   \n",
    "    return None  # no path found. not strictly needed\n",
    "\n",
    "path = bfs2(graph, 'A', 'F')\n",
    "if path:\n",
    "    print(path)\n",
    "else:\n",
    "    print('no path found')"
   ]
  },
  {
   "cell_type": "code",
   "execution_count": null,
   "metadata": {},
   "outputs": [],
   "source": []
  },
  {
   "cell_type": "code",
   "execution_count": null,
   "metadata": {},
   "outputs": [],
   "source": []
  },
  {
   "cell_type": "code",
   "execution_count": null,
   "metadata": {},
   "outputs": [],
   "source": []
  },
  {
   "cell_type": "code",
   "execution_count": null,
   "metadata": {},
   "outputs": [],
   "source": []
  },
  {
   "cell_type": "code",
   "execution_count": null,
   "metadata": {},
   "outputs": [],
   "source": []
  },
  {
   "cell_type": "code",
   "execution_count": null,
   "metadata": {},
   "outputs": [],
   "source": []
  },
  {
   "cell_type": "code",
   "execution_count": null,
   "metadata": {},
   "outputs": [],
   "source": []
  },
  {
   "cell_type": "code",
   "execution_count": null,
   "metadata": {},
   "outputs": [],
   "source": []
  },
  {
   "cell_type": "code",
   "execution_count": null,
   "metadata": {},
   "outputs": [],
   "source": []
  }
 ],
 "metadata": {
  "kernelspec": {
   "display_name": "Python 3",
   "language": "python",
   "name": "python3"
  },
  "language_info": {
   "codemirror_mode": {
    "name": "ipython",
    "version": 3
   },
   "file_extension": ".py",
   "mimetype": "text/x-python",
   "name": "python",
   "nbconvert_exporter": "python",
   "pygments_lexer": "ipython3",
   "version": "3.8.5"
  }
 },
 "nbformat": 4,
 "nbformat_minor": 4
}
